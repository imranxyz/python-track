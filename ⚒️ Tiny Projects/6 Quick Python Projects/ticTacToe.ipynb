{
 "metadata": {
  "language_info": {
   "codemirror_mode": {
    "name": "ipython",
    "version": 3
   },
   "file_extension": ".py",
   "mimetype": "text/x-python",
   "name": "python",
   "nbconvert_exporter": "python",
   "pygments_lexer": "ipython3",
   "version": "3.8.4-final"
  },
  "orig_nbformat": 2,
  "kernelspec": {
   "name": "python3",
   "display_name": "Python 3.8.4 32-bit",
   "metadata": {
    "interpreter": {
     "hash": "c7f23210fe948138299b44c825f8d614c2df95c372787f4166c017b0c02863dd"
    }
   }
  }
 },
 "nbformat": 4,
 "nbformat_minor": 2,
 "cells": [
  {
   "cell_type": "code",
   "execution_count": 4,
   "metadata": {},
   "outputs": [
    {
     "output_type": "stream",
     "name": "stdout",
     "text": [
      "It's a draw\n"
     ]
    }
   ],
   "source": [
    "def check_player(board, token):\n",
    "    \"\"\"\n",
    "    board: list of strings representig a tic-tac-toe board where a row is a string of 3 tokens\n",
    "    token: string representing either x or o\n",
    "    checks 8 possible winning combinations for a tic-tac-toe win:\n",
    "        3 rows matching the token, 3 columns matching the token or 2 diagonals matching the token.\n",
    "    Returns True if the token got 3 in a row with any of the possible combinations, and returns False otherwise\n",
    "    \"\"\"\n",
    "\n",
    "    row_1 = (board[0][0] == board[0][1] == board[0][2] == token)\n",
    "    row_2 = (board[1][0] == board[1][1] == board[1][2] == token)\n",
    "    row_3 = (board[2][0] == board[2][1] == board[2][2] == token)\n",
    "\n",
    "    column_1 = (board[0][0] == board[1][0] == board[2][0] == token)\n",
    "    column_2 = (board[0][1] == board[1][1] == board[2][1] == token)\n",
    "    column_3 = (board[0][2] == board[1][2] == board[2][2] == token)\n",
    "\n",
    "    diag_1 = (board[0][0] == board[1][1] == board[2][2] == token)\n",
    "    diag_2 = (board[2][0] == board[1][1] == board[0][2] == token)\n",
    "\n",
    "    return row_1 or row_2 or row_3 or column_1 or column_2 or column_3 or diag_2 or diag_1\n",
    "\n",
    "\n",
    "game = 'xox|oox|xxo'\n",
    "board = game.split('|')\n",
    "\n",
    "winner_o = check_player(board=board, token='o')\n",
    "winner_x = check_player(board=board, token='x')\n",
    "\n",
    "if not winner_o and not winner_x:\n",
    "    print('It\\'s a draw')\n",
    "elif winner_x:\n",
    "    print('X is the winner')\n",
    "else:\n",
    "    print('O is the winner')\n"
   ]
  }
 ]
}