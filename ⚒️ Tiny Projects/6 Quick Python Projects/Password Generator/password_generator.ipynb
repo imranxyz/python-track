{
 "metadata": {
  "language_info": {
   "codemirror_mode": {
    "name": "ipython",
    "version": 3
   },
   "file_extension": ".py",
   "mimetype": "text/x-python",
   "name": "python",
   "nbconvert_exporter": "python",
   "pygments_lexer": "ipython3",
   "version": "3.8.4-final"
  },
  "orig_nbformat": 2,
  "kernelspec": {
   "name": "python3",
   "display_name": "Python 3.8.4 32-bit",
   "metadata": {
    "interpreter": {
     "hash": "c7f23210fe948138299b44c825f8d614c2df95c372787f4166c017b0c02863dd"
    }
   }
  }
 },
 "nbformat": 4,
 "nbformat_minor": 2,
 "cells": [
  {
   "cell_type": "code",
   "execution_count": 1,
   "metadata": {},
   "outputs": [
    {
     "output_type": "stream",
     "name": "stdout",
     "text": [
      "Welcome to Password Generator\n",
      "Vgw<UbfHk]\n",
      "?DL,d%e]\"j\n",
      "*(FQ'jyL]k\n",
      ")sVt>OwE-T\n",
      "'R\\|%=wmn#\n"
     ]
    }
   ],
   "source": [
    "import random\n",
    "from string import ascii_letters, punctuation\n",
    "\n",
    "def password_generator(NumberOf, length):\n",
    "\tchars = ascii_letters+punctuation\n",
    "\n",
    "\tfor i in range(NumberOf):\n",
    "\t\tpasswords = random.sample(chars, length)\n",
    "\t\tyield passwords\n",
    "\n",
    "\n",
    "print('Welcome to Password Generator')\n",
    "NumberOf = int(input('How many password you want to generate? '))\n",
    "length = int(input(\"How many characters do you want? \"))\n",
    "\n",
    "for password in password_generator(NumberOf, length):\n",
    "\tprint(''.join(password))"
   ]
  }
 ]
}