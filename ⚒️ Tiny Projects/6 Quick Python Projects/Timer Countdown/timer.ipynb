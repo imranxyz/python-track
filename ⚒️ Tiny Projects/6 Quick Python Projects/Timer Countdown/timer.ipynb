{
 "metadata": {
  "language_info": {
   "codemirror_mode": {
    "name": "ipython",
    "version": 3
   },
   "file_extension": ".py",
   "mimetype": "text/x-python",
   "name": "python",
   "nbconvert_exporter": "python",
   "pygments_lexer": "ipython3",
   "version": "3.8.4-final"
  },
  "orig_nbformat": 2,
  "kernelspec": {
   "name": "python3",
   "display_name": "Python 3.8.4 32-bit",
   "metadata": {
    "interpreter": {
     "hash": "c7f23210fe948138299b44c825f8d614c2df95c372787f4166c017b0c02863dd"
    }
   }
  }
 },
 "nbformat": 4,
 "nbformat_minor": 2,
 "cells": [
  {
   "cell_type": "code",
   "execution_count": 1,
   "metadata": {},
   "outputs": [
    {
     "output_type": "stream",
     "name": "stdout",
     "text": [
      "00:05\n",
      "00:04\n",
      "00:03\n",
      "00:02\n",
      "00:01\n",
      "Timer Completed\n"
     ]
    }
   ],
   "source": [
    "from time import sleep\n",
    "\n",
    "def countdown(time_in_sec):\n",
    "\twhile time_in_sec:\n",
    "\t\tminutes, seconds = divmod(time_in_sec, 60)\n",
    "\t\ttimer = f'{minutes:02d}:{seconds:02d}'\n",
    "\t\tprint(timer)\n",
    "\t\tsleep(1)\n",
    "\t\ttime_in_sec -= 1\n",
    "\tprint('Timer Completed')\n",
    "\n",
    "seconds = int(input('Enter time in seconds: '))\n",
    "countdown(seconds)"
   ]
  },
  {
   "cell_type": "code",
   "execution_count": 2,
   "metadata": {},
   "outputs": [
    {
     "output_type": "stream",
     "name": "stdout",
     "text": [
      "Timer Completed\n"
     ]
    }
   ],
   "source": [
    "from time import sleep\n",
    "\n",
    "def countdown(time_in_sec):\n",
    "\twhile time_in_sec:\n",
    "\t\tminutes, seconds = divmod(time_in_sec, 60)\n",
    "\t\ttimer = f'{minutes:02d}:{seconds:02d}'\n",
    "\t\tprint(timer, end='\\r')\n",
    "\t\tsleep(1)\n",
    "\t\ttime_in_sec -= 1\n",
    "\tprint('Timer Completed')\n",
    "\n",
    "seconds = int(input('Enter time in seconds: '))\n",
    "countdown(seconds)"
   ]
  }
 ]
}