{
 "cells": [
  {
   "cell_type": "code",
   "execution_count": 2,
   "metadata": {
    "cocalc": {
     "outputs": {
      "1": {
       "name": "input",
       "opts": {
        "password": false,
        "prompt": "< "
       },
       "output_type": "stream",
       "value": "20"
      }
     }
    },
    "collapsed": false
   },
   "outputs": [
    {
     "name": "stdout",
     "output_type": "stream",
     "text": [
      "Clickbait Headline Generator\n",
      "\n",
      "Our website needs to trick people into looking at ads!\n",
      "Enter the number of clickbait headlines generate\n"
     ]
    },
    {
     "name": "stdout",
     "output_type": "stream",
     "text": "<  20"
    },
    {
     "name": "stdout",
     "output_type": "stream",
     "text": [
      "\n",
      "Big Companies Hate Her! See How This Ohio Cat Invented a Cheaper Robot\n",
      "Big Companies Hate Them! See How This Ohio Video Game Invented a Cheaper Dog\n",
      "Big Companies Hate Her! See How This New York Clown Invented a Cheaper Clown\n",
      "This North Carolina Dog Didn't Think Robots Would Take Her Job. She Was Wrong!\n",
      "Are Millennials Killing the Plastic Straw Industy?\n",
      "11 Reasons Why Parents Are More Interesting Than You Think (Number 6 Will Surprise You!\n",
      "14 Gift Ideas to Give Your Paleo Diet From Michigan.\n",
      "This Pennsylvania Dog Didn't Think Robots Would Take His Job. He Was Wrong!\n",
      "Are Millennials Killing the Avocado Industy?\n",
      "9 Gift Ideas to Give Your Cat From Illinois.\n",
      "What Doctors Dont What You To Know About Paleo Diets\n",
      "Without this Avocado, Paleo Diets Could Kill You Soon.\n",
      "Big Companies Hate Him! See How This California Cat Invented a Cheaper Parent\n",
      "7 Gift Ideas to Give Your Video Game From New York.\n",
      "Big Companies Hate Them! See How This Florida Athlete Invented a Cheaper Doctor\n",
      "Are Millennials Killing the Serial Killer Industy?\n",
      "9 Gift Ideas to Give Your Shovel From Florida.\n",
      "Without this Video Game, Parents Could Kill You Soon.\n",
      "Are Millennials Killing the Cat Industy?\n",
      "What Cats Dont What You To Know About Parents\n",
      "\n",
      "Post these to our blag or you are fired!\n"
     ]
    }
   ],
   "source": [
    "import random\n",
    "\n",
    "# set up the constants\n",
    "OBJECTIVE_PRONOUNS = ['Her', 'Him', 'Them']\n",
    "POSSESSIVE_PRONOUNS = ['Her', 'His', 'Their']\n",
    "PERSONAL_PRONOUNS = ['She', 'He', 'They']\n",
    "STATES = ['California', 'Texas', 'Florida', 'New York', 'Pennsylvania', 'Illinois', 'Ohio', 'Georgia', 'North Carolina', 'Michigan']\n",
    "NOUNS = ['Athlete', 'Clown', 'Shovel', 'Paleo Diet', 'Doctor', 'Parent', 'Cat', 'Dog', 'Chicken', 'Robot', 'Video Game', 'Avocado', 'Plastic Straw', 'Serial Killer', 'Telephone Psychic']\n",
    "PLACES = ['House', 'Attic', 'Bank Deposit Box', 'School', 'Basement', 'Workplace', 'Donut Shop', 'Apocalypse Bunker']\n",
    "WHEN = ['Soon', 'This Year', 'Later Today', 'RIGHT NOW', 'Next Week']\n",
    "\n",
    "\n",
    "def main():\n",
    "    print('Clickbait Headline Generator')\n",
    "    print()\n",
    "\n",
    "    print('Our website needs to trick people into looking at ads!')\n",
    "\n",
    "    while True:\n",
    "        print('Enter the number of clickbait headlines generate')\n",
    "        response = input('< ')\n",
    "\n",
    "        if not response.isdecimal():\n",
    "            print('Please enter a number')\n",
    "        else:\n",
    "            number_of_headlines = int(response)\n",
    "            break\n",
    "\n",
    "    print()\n",
    "    for i in range(number_of_headlines):\n",
    "        clickbait_type = random.randint(1, 8)\n",
    "\n",
    "        clickbait_lines = {\n",
    "            1: generateAreMillennialsKillingHeadline(),\n",
    "            2: generateWhatYouDontKnowHeadline(),\n",
    "            3: generateBigCompaniesHateHerHeadline(),\n",
    "            4: generateYouWontBelieveHeadline(),\n",
    "            5: generateDontWantYouToKnowHeadline(),\n",
    "            6: generateGiftIdeaHeadline(),\n",
    "            7: generateReasonsWhyHeadline(),\n",
    "            8: generateJobAutomatedHeadline(),\n",
    "        }\n",
    "\n",
    "        headline = clickbait_lines[clickbait_type]\n",
    "        print(headline)\n",
    "    print()\n",
    "\n",
    "    website = random.choice([\n",
    "        'wobsite', 'blag', 'Facebuuk', 'Googles', 'Facesbook', 'Tweedie', 'Pastagram'\n",
    "    ])\n",
    "\n",
    "    when = random.choice(WHEN).lower()\n",
    "    print(f'Post these to our {website} or you are fired!')\n",
    "\n",
    "\n",
    "# Each of these functions returns a different type of headline\n",
    "def generateAreMillennialsKillingHeadline():\n",
    "    noun = random.choice(NOUNS)\n",
    "    return f'Are Millennials Killing the {noun} Industy?'\n",
    "\n",
    "\n",
    "def generateWhatYouDontKnowHeadline():\n",
    "    noun = random.choice(NOUNS)\n",
    "    plural_noun = random.choice(NOUNS) + 's'\n",
    "    when = random.choice(WHEN)\n",
    "    return f'Without this {noun}, {plural_noun} Could Kill You {when}.'\n",
    "\n",
    "\n",
    "def generateBigCompaniesHateHerHeadline():\n",
    "    pronoun = random.choice(OBJECTIVE_PRONOUNS)\n",
    "    state = random.choice(STATES)\n",
    "    noun1 = random.choice(NOUNS)\n",
    "    noun2 = random.choice(NOUNS)\n",
    "    return f'Big Companies Hate {pronoun}! See How This {state} {noun1} Invented a Cheaper {noun2}'\n",
    "\n",
    "\n",
    "def generateYouWontBelieveHeadline():\n",
    "    state = random.choice(STATES)\n",
    "    noun = random.choice(NOUNS)\n",
    "    pronoun = random.choice(POSSESSIVE_PRONOUNS)\n",
    "    place = random.choice(PLACES)\n",
    "    return f'You Wont Believe What This {state} {noun} Found in {pronoun} {place}'\n",
    "\n",
    "\n",
    "def generateDontWantYouToKnowHeadline():\n",
    "    plural_noun1 = random.choice(NOUNS) + 's'\n",
    "    plural_noun2 = random.choice(NOUNS) + 's'\n",
    "    return f'What {plural_noun1} Dont What You To Know About {plural_noun2}'\n",
    "\n",
    "\n",
    "def generateGiftIdeaHeadline():\n",
    "    number = random.randint(7, 15)\n",
    "    noun = random.choice(NOUNS)\n",
    "    state = random.choice(STATES)\n",
    "    return f'{number} Gift Ideas to Give Your {noun} From {state}.'\n",
    "\n",
    "\n",
    "def generateReasonsWhyHeadline():\n",
    "    number1 = random.randint(3, 19)\n",
    "    plural_noun = random.choice(NOUNS) + 's'\n",
    "    # number2 should be no larger than number1\n",
    "    number2 = random.randint(1, number1)\n",
    "    return f'{number1} Reasons Why {plural_noun} Are More Interesting Than You Think (Number {number2} Will Surprise You!'\n",
    "\n",
    "\n",
    "def generateJobAutomatedHeadline():\n",
    "    state = random.choice(STATES)\n",
    "    noun = random.choice(NOUNS)\n",
    "\n",
    "    i = random.randint(0, 2)\n",
    "    pronoun1 = POSSESSIVE_PRONOUNS[i]\n",
    "    pronoun2 = PERSONAL_PRONOUNS[i]\n",
    "\n",
    "    if pronoun1 == 'Their':\n",
    "        return f'This {state} {noun} Didn\\'t Think Robots Would Take {pronoun1} Job. {pronoun2} Were Wrong!'\n",
    "    else:\n",
    "        return f'This {state} {noun} Didn\\'t Think Robots Would Take {pronoun1} Job. {pronoun2} Was Wrong!'\n",
    "\n",
    "\n",
    "if __name__ == '__main__':\n",
    "    main()\n"
   ]
  },
  {
   "cell_type": "markdown",
   "metadata": {
    "collapsed": false
   },
   "source": [
    "### Exploring the Program\n",
    "\n",
    "Try to find the answers to the following questions. Experiment with some modifications to the code and rerun the program to see what effect the changes have"
   ]
  },
  {
   "cell_type": "markdown",
   "metadata": {
    "collapsed": false
   },
   "source": [
    "- What error message do you get if you delete or comment out  `number_of_headlines = int(response)` on line 27\n",
    "   - NameError: name `number_of_headlines` is not defined\n",
    "- What error message do you get if you change `int(response)`` to response on line 27\n",
    "    - TypeError: 'str' object cannot be interpreted as an integer\n",
    "- What error message do you get if you change line 11 to `WHEN = [ ]`\n",
    "    - IndexError: list index out of range"
   ]
  }
 ],
 "metadata": {
  "kernelspec": {
   "display_name": "Python 3 (system-wide)",
   "language": "python",
   "metadata": {
    "cocalc": {
     "description": "Python 3 programming language",
     "priority": 100,
     "url": "https://www.python.org/"
    }
   },
   "name": "python3",
   "resource_dir": "/ext/jupyter/kernels/python3"
  },
  "language_info": {
   "codemirror_mode": {
    "name": "ipython",
    "version": 3
   },
   "file_extension": ".py",
   "mimetype": "text/x-python",
   "name": "python",
   "nbconvert_exporter": "python",
   "pygments_lexer": "ipython3",
   "version": "3.8.10"
  }
 },
 "nbformat": 4,
 "nbformat_minor": 4
}