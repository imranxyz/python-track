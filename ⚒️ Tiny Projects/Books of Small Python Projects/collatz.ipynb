{
 "cells": [
  {
   "cell_type": "code",
   "execution_count": 1,
   "metadata": {
    "cocalc": {
     "outputs": {
      "1": {
       "name": "input",
       "opts": {
        "password": false,
        "prompt": "Enter a starting number (greater than 0) or QUIT < "
       },
       "output_type": "stream",
       "value": "27"
      }
     }
    },
    "collapsed": false
   },
   "outputs": [
    {
     "name": "stdout",
     "output_type": "stream",
     "text": [
      "Collatz Sequence, or, the 3n + 1 Problem\n",
      "The Collatz sequence is a sequence of numbers produced from a starting number n,\n",
      "following three rules:\n",
      "\n",
      "1) If n is even, the next number n is n / 2.\n",
      "2) If n is odd, the next number n is n * 3 + 1.\n",
      "3) If n is 1, stop. Otherwise, repeat.\n",
      "\n",
      "It is generally thought, but so far not mathematically proven,\n",
      "that every starting number eventually terminates at 1.\n",
      "\n"
     ]
    },
    {
     "name": "stdout",
     "output_type": "stream",
     "text": "Enter a starting number (greater than 0) or QUIT <  27"
    },
    {
     "name": "stdout",
     "output_type": "stream",
     "text": [
      "27"
     ]
    },
    {
     "name": "stdout",
     "output_type": "stream",
     "text": [
      ", 82"
     ]
    },
    {
     "name": "stdout",
     "output_type": "stream",
     "text": [
      ", 41"
     ]
    },
    {
     "name": "stdout",
     "output_type": "stream",
     "text": [
      ", 124"
     ]
    },
    {
     "name": "stdout",
     "output_type": "stream",
     "text": [
      ", 62"
     ]
    },
    {
     "name": "stdout",
     "output_type": "stream",
     "text": [
      ", 31"
     ]
    },
    {
     "name": "stdout",
     "output_type": "stream",
     "text": [
      ", 94"
     ]
    },
    {
     "name": "stdout",
     "output_type": "stream",
     "text": [
      ", 47"
     ]
    },
    {
     "name": "stdout",
     "output_type": "stream",
     "text": [
      ", 142"
     ]
    },
    {
     "name": "stdout",
     "output_type": "stream",
     "text": [
      ", 71"
     ]
    },
    {
     "name": "stdout",
     "output_type": "stream",
     "text": [
      ", 214"
     ]
    },
    {
     "name": "stdout",
     "output_type": "stream",
     "text": [
      ", 107"
     ]
    },
    {
     "name": "stdout",
     "output_type": "stream",
     "text": [
      ", 322"
     ]
    },
    {
     "name": "stdout",
     "output_type": "stream",
     "text": [
      ", 161"
     ]
    },
    {
     "name": "stdout",
     "output_type": "stream",
     "text": [
      ", 484"
     ]
    },
    {
     "name": "stdout",
     "output_type": "stream",
     "text": [
      ", 242"
     ]
    },
    {
     "name": "stdout",
     "output_type": "stream",
     "text": [
      ", 121"
     ]
    },
    {
     "name": "stdout",
     "output_type": "stream",
     "text": [
      ", 364"
     ]
    },
    {
     "name": "stdout",
     "output_type": "stream",
     "text": [
      ", 182"
     ]
    },
    {
     "name": "stdout",
     "output_type": "stream",
     "text": [
      ", 91"
     ]
    },
    {
     "name": "stdout",
     "output_type": "stream",
     "text": [
      ", 274"
     ]
    },
    {
     "name": "stdout",
     "output_type": "stream",
     "text": [
      ", 137"
     ]
    },
    {
     "name": "stdout",
     "output_type": "stream",
     "text": [
      ", 412"
     ]
    },
    {
     "name": "stdout",
     "output_type": "stream",
     "text": [
      ", 206"
     ]
    },
    {
     "name": "stdout",
     "output_type": "stream",
     "text": [
      ", 103"
     ]
    },
    {
     "name": "stdout",
     "output_type": "stream",
     "text": [
      ", 310"
     ]
    },
    {
     "name": "stdout",
     "output_type": "stream",
     "text": [
      ", 155"
     ]
    },
    {
     "name": "stdout",
     "output_type": "stream",
     "text": [
      ", 466"
     ]
    },
    {
     "name": "stdout",
     "output_type": "stream",
     "text": [
      ", 233"
     ]
    },
    {
     "name": "stdout",
     "output_type": "stream",
     "text": [
      ", 700"
     ]
    },
    {
     "name": "stdout",
     "output_type": "stream",
     "text": [
      ", 350"
     ]
    },
    {
     "name": "stdout",
     "output_type": "stream",
     "text": [
      ", 175"
     ]
    },
    {
     "name": "stdout",
     "output_type": "stream",
     "text": [
      ", 526"
     ]
    },
    {
     "name": "stdout",
     "output_type": "stream",
     "text": [
      ", 263"
     ]
    },
    {
     "name": "stdout",
     "output_type": "stream",
     "text": [
      ", 790"
     ]
    },
    {
     "name": "stdout",
     "output_type": "stream",
     "text": [
      ", 395"
     ]
    },
    {
     "name": "stdout",
     "output_type": "stream",
     "text": [
      ", 1186"
     ]
    },
    {
     "name": "stdout",
     "output_type": "stream",
     "text": [
      ", 593"
     ]
    },
    {
     "name": "stdout",
     "output_type": "stream",
     "text": [
      ", 1780"
     ]
    },
    {
     "name": "stdout",
     "output_type": "stream",
     "text": [
      ", 890"
     ]
    },
    {
     "name": "stdout",
     "output_type": "stream",
     "text": [
      ", 445"
     ]
    },
    {
     "name": "stdout",
     "output_type": "stream",
     "text": [
      ", 1336"
     ]
    },
    {
     "name": "stdout",
     "output_type": "stream",
     "text": [
      ", 668"
     ]
    },
    {
     "name": "stdout",
     "output_type": "stream",
     "text": [
      ", 334"
     ]
    },
    {
     "name": "stdout",
     "output_type": "stream",
     "text": [
      ", 167"
     ]
    },
    {
     "name": "stdout",
     "output_type": "stream",
     "text": [
      ", 502"
     ]
    },
    {
     "name": "stdout",
     "output_type": "stream",
     "text": [
      ", 251"
     ]
    },
    {
     "name": "stdout",
     "output_type": "stream",
     "text": [
      ", 754"
     ]
    },
    {
     "name": "stdout",
     "output_type": "stream",
     "text": [
      ", 377"
     ]
    },
    {
     "name": "stdout",
     "output_type": "stream",
     "text": [
      ", 1132"
     ]
    },
    {
     "name": "stdout",
     "output_type": "stream",
     "text": [
      ", 566"
     ]
    },
    {
     "name": "stdout",
     "output_type": "stream",
     "text": [
      ", 283"
     ]
    },
    {
     "name": "stdout",
     "output_type": "stream",
     "text": [
      ", 850"
     ]
    },
    {
     "name": "stdout",
     "output_type": "stream",
     "text": [
      ", 425"
     ]
    },
    {
     "name": "stdout",
     "output_type": "stream",
     "text": [
      ", 1276"
     ]
    },
    {
     "name": "stdout",
     "output_type": "stream",
     "text": [
      ", 638"
     ]
    },
    {
     "name": "stdout",
     "output_type": "stream",
     "text": [
      ", 319"
     ]
    },
    {
     "name": "stdout",
     "output_type": "stream",
     "text": [
      ", 958"
     ]
    },
    {
     "name": "stdout",
     "output_type": "stream",
     "text": [
      ", 479"
     ]
    },
    {
     "name": "stdout",
     "output_type": "stream",
     "text": [
      ", 1438"
     ]
    },
    {
     "name": "stdout",
     "output_type": "stream",
     "text": [
      ", 719"
     ]
    },
    {
     "name": "stdout",
     "output_type": "stream",
     "text": [
      ", 2158"
     ]
    },
    {
     "name": "stdout",
     "output_type": "stream",
     "text": [
      ", 1079"
     ]
    },
    {
     "name": "stdout",
     "output_type": "stream",
     "text": [
      ", 3238"
     ]
    },
    {
     "name": "stdout",
     "output_type": "stream",
     "text": [
      ", 1619"
     ]
    },
    {
     "name": "stdout",
     "output_type": "stream",
     "text": [
      ", 4858"
     ]
    },
    {
     "name": "stdout",
     "output_type": "stream",
     "text": [
      ", 2429"
     ]
    },
    {
     "name": "stdout",
     "output_type": "stream",
     "text": [
      ", 7288"
     ]
    },
    {
     "name": "stdout",
     "output_type": "stream",
     "text": [
      ", 3644"
     ]
    },
    {
     "name": "stdout",
     "output_type": "stream",
     "text": [
      ", 1822"
     ]
    },
    {
     "name": "stdout",
     "output_type": "stream",
     "text": [
      ", 911"
     ]
    },
    {
     "name": "stdout",
     "output_type": "stream",
     "text": [
      ", 2734"
     ]
    },
    {
     "name": "stdout",
     "output_type": "stream",
     "text": [
      ", 1367"
     ]
    },
    {
     "name": "stdout",
     "output_type": "stream",
     "text": [
      ", 4102"
     ]
    },
    {
     "name": "stdout",
     "output_type": "stream",
     "text": [
      ", 2051"
     ]
    },
    {
     "name": "stdout",
     "output_type": "stream",
     "text": [
      ", 6154"
     ]
    },
    {
     "name": "stdout",
     "output_type": "stream",
     "text": [
      ", 3077"
     ]
    },
    {
     "name": "stdout",
     "output_type": "stream",
     "text": [
      ", 9232"
     ]
    },
    {
     "name": "stdout",
     "output_type": "stream",
     "text": [
      ", 4616"
     ]
    },
    {
     "name": "stdout",
     "output_type": "stream",
     "text": [
      ", 2308"
     ]
    },
    {
     "name": "stdout",
     "output_type": "stream",
     "text": [
      ", 1154"
     ]
    },
    {
     "name": "stdout",
     "output_type": "stream",
     "text": [
      ", 577"
     ]
    },
    {
     "name": "stdout",
     "output_type": "stream",
     "text": [
      ", 1732"
     ]
    },
    {
     "name": "stdout",
     "output_type": "stream",
     "text": [
      ", 866"
     ]
    },
    {
     "name": "stdout",
     "output_type": "stream",
     "text": [
      ", 433"
     ]
    },
    {
     "name": "stdout",
     "output_type": "stream",
     "text": [
      ", 1300"
     ]
    },
    {
     "name": "stdout",
     "output_type": "stream",
     "text": [
      ", 650"
     ]
    },
    {
     "name": "stdout",
     "output_type": "stream",
     "text": [
      ", 325"
     ]
    },
    {
     "name": "stdout",
     "output_type": "stream",
     "text": [
      ", 976"
     ]
    },
    {
     "name": "stdout",
     "output_type": "stream",
     "text": [
      ", 488"
     ]
    },
    {
     "name": "stdout",
     "output_type": "stream",
     "text": [
      ", 244"
     ]
    },
    {
     "name": "stdout",
     "output_type": "stream",
     "text": [
      ", 122"
     ]
    },
    {
     "name": "stdout",
     "output_type": "stream",
     "text": [
      ", 61"
     ]
    },
    {
     "name": "stdout",
     "output_type": "stream",
     "text": [
      ", 184"
     ]
    },
    {
     "name": "stdout",
     "output_type": "stream",
     "text": [
      ", 92"
     ]
    },
    {
     "name": "stdout",
     "output_type": "stream",
     "text": [
      ", 46"
     ]
    },
    {
     "name": "stdout",
     "output_type": "stream",
     "text": [
      ", 23"
     ]
    },
    {
     "name": "stdout",
     "output_type": "stream",
     "text": [
      ", 70"
     ]
    },
    {
     "name": "stdout",
     "output_type": "stream",
     "text": [
      ", 35"
     ]
    },
    {
     "name": "stdout",
     "output_type": "stream",
     "text": [
      ", 106"
     ]
    },
    {
     "name": "stdout",
     "output_type": "stream",
     "text": [
      ", 53"
     ]
    },
    {
     "name": "stdout",
     "output_type": "stream",
     "text": [
      ", 160"
     ]
    },
    {
     "name": "stdout",
     "output_type": "stream",
     "text": [
      ", 80"
     ]
    },
    {
     "name": "stdout",
     "output_type": "stream",
     "text": [
      ", 40"
     ]
    },
    {
     "name": "stdout",
     "output_type": "stream",
     "text": [
      ", 20"
     ]
    },
    {
     "name": "stdout",
     "output_type": "stream",
     "text": [
      ", 10"
     ]
    },
    {
     "name": "stdout",
     "output_type": "stream",
     "text": [
      ", 5"
     ]
    },
    {
     "name": "stdout",
     "output_type": "stream",
     "text": [
      ", 16"
     ]
    },
    {
     "name": "stdout",
     "output_type": "stream",
     "text": [
      ", 8"
     ]
    },
    {
     "name": "stdout",
     "output_type": "stream",
     "text": [
      ", 4"
     ]
    },
    {
     "name": "stdout",
     "output_type": "stream",
     "text": [
      ", 2"
     ]
    },
    {
     "name": "stdout",
     "output_type": "stream",
     "text": [
      ", 1"
     ]
    },
    {
     "name": "stdout",
     "output_type": "stream",
     "text": [
      "\n"
     ]
    }
   ],
   "source": [
    "import time\n",
    "\n",
    "print(\"\"\"Collatz Sequence, or, the 3n + 1 Problem\n",
    "The Collatz sequence is a sequence of numbers produced from a starting number n,\n",
    "following three rules:\n",
    "\n",
    "1) If n is even, the next number n is n / 2.\n",
    "2) If n is odd, the next number n is n * 3 + 1.\n",
    "3) If n is 1, stop. Otherwise, repeat.\n",
    "\n",
    "It is generally thought, but so far not mathematically proven,\n",
    "that every starting number eventually terminates at 1.\n",
    "\"\"\")\n",
    "\n",
    "response = input('Enter a starting number (greater than 0) or QUIT < ')\n",
    "\n",
    "if not response.isdecimal() or response == '0':\n",
    "    print('You must enter an integer greater than 0')\n",
    "    exit()\n",
    "\n",
    "n = int(response)\n",
    "print(n, end='', flush=True)\n",
    "\n",
    "while n != 1:\n",
    "    if n & 1 == 1:\n",
    "        n = 3 * n + 1\n",
    "    else:\n",
    "        n = n // 2\n",
    "\n",
    "    print(f\", {str(n)}\", end='', flush=True)\n",
    "    time.sleep(0.1)\n",
    "\n",
    "print()"
   ]
  }
 ],
 "metadata": {
  "kernelspec": {
   "display_name": "Python 3 (system-wide)",
   "language": "python",
   "metadata": {
    "cocalc": {
     "description": "Python 3 programming language",
     "priority": 100,
     "url": "https://www.python.org/"
    }
   },
   "name": "python3",
   "resource_dir": "/ext/jupyter/kernels/python3"
  },
  "language_info": {
   "codemirror_mode": {
    "name": "ipython",
    "version": 3
   },
   "file_extension": ".py",
   "mimetype": "text/x-python",
   "name": "python",
   "nbconvert_exporter": "python",
   "pygments_lexer": "ipython3",
   "version": "3.8.10"
  }
 },
 "nbformat": 4,
 "nbformat_minor": 4
}