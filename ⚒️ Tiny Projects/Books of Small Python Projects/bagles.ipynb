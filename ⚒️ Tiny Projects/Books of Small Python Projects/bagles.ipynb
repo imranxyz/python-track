{
 "cells": [
  {
   "cell_type": "code",
   "execution_count": 3,
   "metadata": {
    "cocalc": {
     "outputs": {
      "1": {
       "name": "input",
       "opts": {
        "password": false,
        "prompt": "< "
       },
       "output_type": "stream",
       "value": "121"
      },
      "11": {
       "name": "input",
       "opts": {
        "password": false,
        "prompt": "> "
       },
       "output_type": "stream",
       "value": "n"
      },
      "3": {
       "name": "input",
       "opts": {
        "password": false,
        "prompt": "< "
       },
       "output_type": "stream",
       "value": "789"
      },
      "5": {
       "name": "input",
       "opts": {
        "password": false,
        "prompt": "< "
       },
       "output_type": "stream",
       "value": "785"
      },
      "7": {
       "name": "input",
       "opts": {
        "password": false,
        "prompt": "< "
       },
       "output_type": "stream",
       "value": "456"
      },
      "8": {
       "name": "input",
       "opts": {
        "password": false,
        "prompt": "< "
       },
       "output_type": "stream"
      }
     }
    },
    "collapsed": false
   },
   "outputs": [
    {
     "name": "stdout",
     "output_type": "stream",
     "text": [
      "Bagles, a deductive logic game.\n",
      "\n",
      "I am thinking of a 3-digit number with no repeated digits.\n",
      "Tr to guess what it is. Here are some clues\n",
      "\n",
      "    When I say:   That means\n",
      "    -----------------------------\n",
      "    Pico          one digit is correct but in the wrong position\n",
      "    Fermi         one digit is correct but in the right position\n",
      "    Bagels        No digit is correct\n",
      "\n",
      "For example, if the secret number was 248 and your guess was 843, the clues would be Fermi Pico.\n",
      "I have thought up a number\n",
      "You have 5 guesses to get it.\n",
      "Guess #1\n"
     ]
    },
    {
     "name": "stdout",
     "output_type": "stream",
     "text": "<  121"
    },
    {
     "name": "stdout",
     "output_type": "stream",
     "text": [
      "Pico Pico\n",
      "Guess #2\n"
     ]
    },
    {
     "name": "stdout",
     "output_type": "stream",
     "text": "<  789"
    },
    {
     "name": "stdout",
     "output_type": "stream",
     "text": [
      "Bagels\n",
      "Guess #3\n"
     ]
    },
    {
     "name": "stdout",
     "output_type": "stream",
     "text": "<  785"
    },
    {
     "name": "stdout",
     "output_type": "stream",
     "text": [
      "Bagels\n",
      "Guess #4\n"
     ]
    },
    {
     "name": "stdout",
     "output_type": "stream",
     "text": "<  456"
    },
    {
     "name": "stdout",
     "output_type": "stream",
     "text": "<  "
    },
    {
     "name": "stdout",
     "output_type": "stream",
     "text": [
      "Bagels\n",
      "Guess #5\n"
     ],
     "value": "258"
    },
    {
     "name": "stdout",
     "output_type": "stream",
     "text": [
      "Bagels\n",
      "You ran out of guesses\n",
      "The answer was 013\n",
      "Do you want to play again? (yes or no)\n"
     ]
    },
    {
     "name": "stdout",
     "output_type": "stream",
     "text": ">  n"
    },
    {
     "name": "stdout",
     "output_type": "stream",
     "text": [
      "Thanks for playing!\n"
     ]
    }
   ],
   "source": [
    "import random\n",
    "\n",
    "NUM_DIGITS = 3\n",
    "MAX_GUESSES = 5\n",
    "\n",
    "def main():\n",
    "    print(\n",
    "        f\"\"\"Bagles, a deductive logic game.\n",
    "\n",
    "I am thinking of a {NUM_DIGITS}-digit number with no repeated digits.\n",
    "Tr to guess what it is. Here are some clues\n",
    "\n",
    "    When I say:   That means\n",
    "    -----------------------------\n",
    "    Pico          one digit is correct but in the wrong position\n",
    "    Fermi         one digit is correct but in the right position\n",
    "    Bagels        No digit is correct\n",
    "\n",
    "For example, if the secret number was 248 and your guess was 843, the clues would be Fermi Pico.\"\"\")\n",
    "\n",
    "    while True:\n",
    "        secret_num =  get_secret_num()\n",
    "        print('I have thought up a number')\n",
    "        print(f'You have {MAX_GUESSES} guesses to get it.')\n",
    "\n",
    "        num_guesses = 1\n",
    "        while num_guesses <= MAX_GUESSES:\n",
    "            guess = ''\n",
    "\n",
    "            # keep guessing until they enter a valid guess\n",
    "            while len(guess) != NUM_DIGITS or not guess.isdecimal():\n",
    "                print(f'Guess #{num_guesses}')\n",
    "                guess = input('< ')\n",
    "\n",
    "            clues = get_clues(guess, secret_num)\n",
    "            print(clues)\n",
    "            num_guesses += 1\n",
    "\n",
    "            if guess == secret_num:\n",
    "                break\n",
    "            if num_guesses > MAX_GUESSES:\n",
    "                print('You ran out of guesses')\n",
    "                print(f'The answer was {secret_num}')\n",
    "\n",
    "        # ask the player if they want to play again\n",
    "        print('Do you want to play again? (yes or no)')\n",
    "        if not input('> ').lower().startswith('y'):\n",
    "            break\n",
    "    print('Thanks for playing!')\n",
    "\n",
    "\n",
    "def get_secret_num():\n",
    "    \"\"\"Returns a string made up of NUM_DIGITS unique random digits\"\"\"\n",
    "    numbers = list(range(0, 9))\n",
    "    random.shuffle(numbers)\n",
    "\n",
    "    # get the first `NUM_DIGITS` in the list for the secret number\n",
    "    secret_num = ''\n",
    "    for i in range(NUM_DIGITS):\n",
    "        secret_num += str(numbers[i])\n",
    "    return secret_num\n",
    "\n",
    "\n",
    "def get_clues(guess, secret_num):\n",
    "    \"\"\"Returns a string with the pico, fermi, bagels clues for a guess and secret number pair.\"\"\"\n",
    "    if guess == secret_num:\n",
    "        return 'You got it!'\n",
    "\n",
    "    clues = []\n",
    "    for idx, value in enumerate(guess):\n",
    "        if value == secret_num[idx]:\n",
    "            # a correct digit is in correct place\n",
    "            clues.append('Fermi')\n",
    "        elif value in secret_num:\n",
    "            # a correct digit is in incorrect place\n",
    "            clues.append('Pico')\n",
    "\n",
    "    if len(clues) == 0:\n",
    "        return 'Bagels' # there are no correct digits at all\n",
    "    else:\n",
    "        # sort the clues into alphabetical order so their original order doesn't give information away\n",
    "        clues.sort() # nlogn\n",
    "        return ' '.join(clues)\n",
    "\n",
    "\n",
    "if __name__ == '__main__':\n",
    "    main()"
   ]
  }
 ],
 "metadata": {
  "kernelspec": {
   "display_name": "Python 3 (system-wide)",
   "language": "python",
   "metadata": {
    "cocalc": {
     "description": "Python 3 programming language",
     "priority": 100,
     "url": "https://www.python.org/"
    }
   },
   "name": "python3",
   "resource_dir": "/ext/jupyter/kernels/python3"
  },
  "language_info": {
   "codemirror_mode": {
    "name": "ipython",
    "version": 3
   },
   "file_extension": ".py",
   "mimetype": "text/x-python",
   "name": "python",
   "nbconvert_exporter": "python",
   "pygments_lexer": "ipython3",
   "version": "3.8.10"
  }
 },
 "nbformat": 4,
 "nbformat_minor": 4
}