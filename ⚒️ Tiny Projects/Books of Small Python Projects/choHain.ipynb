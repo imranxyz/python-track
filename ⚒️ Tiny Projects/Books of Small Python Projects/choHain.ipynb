{
 "cells": [
  {
   "cell_type": "code",
   "execution_count": 3,
   "metadata": {
    "cocalc": {
     "outputs": {
      "1": {
       "name": "input",
       "opts": {
        "password": false,
        "prompt": "> "
       },
       "output_type": "stream",
       "value": "800"
      },
      "3": {
       "name": "input",
       "opts": {
        "password": false,
        "prompt": "> "
       },
       "output_type": "stream",
       "value": "han"
      },
      "5": {
       "name": "input",
       "opts": {
        "password": false,
        "prompt": "> "
       },
       "output_type": "stream",
       "value": "900"
      },
      "7": {
       "name": "input",
       "opts": {
        "password": false,
        "prompt": "> "
       },
       "output_type": "stream",
       "value": "cho"
      },
      "9": {
       "name": "input",
       "opts": {
        "password": false,
        "prompt": "> "
       },
       "output_type": "stream",
       "value": "quit"
      }
     }
    },
    "collapsed": false
   },
   "outputs": [
    {
     "name": "stdout",
     "output_type": "stream",
     "text": [
      "In this traditional Japanese dice game, two dice are rolled in a bamboo\n",
      "cup by the dealer sitting on the floor. The player must guess if the\n",
      "dice total to an even (cho) or odd (han) number.\n",
      "\n",
      "You have 5000 mon. How much do you bet? (or QUIT)\n"
     ]
    },
    {
     "name": "stdout",
     "output_type": "stream",
     "text": ">  800"
    },
    {
     "name": "stdout",
     "output_type": "stream",
     "text": [
      "The dealer swirls the cup and you hear the rattle of dice.\n",
      "The dealer slams the cup on the floor, still covering the\n",
      "dice and asks for your bet.\n",
      "\n",
      "       CHO (even) or HAN (odd)?\n"
     ]
    },
    {
     "name": "stdout",
     "output_type": "stream",
     "text": ">  han"
    },
    {
     "name": "stdout",
     "output_type": "stream",
     "text": [
      "The dealer lifts the cup to reveal.\n",
      "  SAN - NI\n",
      "    3 - 2\n",
      "You Won! You take 800 mon.\n",
      "The house collects 80 mon fee.\n",
      "You have 5720 mon. How much do you bet? (or QUIT)\n"
     ]
    },
    {
     "name": "stdout",
     "output_type": "stream",
     "text": ">  900"
    },
    {
     "name": "stdout",
     "output_type": "stream",
     "text": [
      "The dealer swirls the cup and you hear the rattle of dice.\n",
      "The dealer slams the cup on the floor, still covering the\n",
      "dice and asks for your bet.\n",
      "\n",
      "       CHO (even) or HAN (odd)?\n"
     ]
    },
    {
     "name": "stdout",
     "output_type": "stream",
     "text": ">  cho"
    },
    {
     "name": "stdout",
     "output_type": "stream",
     "text": [
      "The dealer lifts the cup to reveal.\n",
      "  SAN - ICHI\n",
      "    3 - 1\n",
      "You Won! You take 900 mon.\n",
      "The house collects 90 mon fee.\n",
      "You have 6530 mon. How much do you bet? (or QUIT)\n"
     ]
    },
    {
     "name": "stdout",
     "output_type": "stream",
     "text": ">  quit"
    },
    {
     "name": "stdout",
     "output_type": "stream",
     "text": [
      "Thanks for playing\n"
     ]
    },
    {
     "ename": "SystemExit",
     "evalue": "",
     "output_type": "error",
     "traceback": [
      "An exception has occurred, use %tb to see the full traceback.\n",
      "\u001b[0;31mSystemExit\u001b[0m\n"
     ]
    }
   ],
   "source": [
    "import random, sys\n",
    "\n",
    "JAPANESE_NUMBERS = {\n",
    "    1: 'ICHI',\n",
    "    2: 'NI',\n",
    "    3: 'SAN',\n",
    "    4: 'SHI',\n",
    "    5: 'GO',\n",
    "    6: 'ROKU',\n",
    "}\n",
    "\n",
    "print(\n",
    "    \"\"\"In this traditional Japanese dice game, two dice are rolled in a bamboo\n",
    "cup by the dealer sitting on the floor. The player must guess if the\n",
    "dice total to an even (cho) or odd (han) number.\"\"\"\n",
    ")\n",
    "print()\n",
    "\n",
    "purse = 5000\n",
    "\n",
    "while True:\n",
    "    # place your bet\n",
    "    print(f'You have {purse} mon. How much do you bet? (or QUIT)')\n",
    "\n",
    "    # checking for valid bet\n",
    "    while True:\n",
    "        bet_mon = input('> ')\n",
    "        if bet_mon.upper() == 'QUIT':\n",
    "            print('Thanks for playing')\n",
    "            sys.exit()\n",
    "        elif not bet_mon.isdecimal():\n",
    "            print('Please enter a number')\n",
    "        elif int(bet_mon) > purse:\n",
    "            print('You do not have enough to make that bet')\n",
    "        else:\n",
    "            # this is valid bet\n",
    "            bet_mon = int(bet_mon)\n",
    "            break\n",
    "\n",
    "    # roll the dice\n",
    "    dice_1 = random.randint(1, 6)\n",
    "    dice_2 = random.randint(1, 6)\n",
    "\n",
    "    print(f'The dealer swirls the cup and you hear the rattle of dice.\\n'\n",
    "    f'The dealer slams the cup on the floor, still covering the\\n'\n",
    "    f'dice and asks for your bet.')\n",
    "    print()\n",
    "    print(f\"{(' ' * 7)}CHO (even) or HAN (odd)?\")\n",
    "\n",
    "    # let the player bet on cho or han\n",
    "    while True:\n",
    "        on_bet = input('> ').upper()\n",
    "        if on_bet != 'CHO' and on_bet != 'HAN':\n",
    "            print('Please enter either \"CHO\" or \"HAN\"')\n",
    "            continue\n",
    "        else:\n",
    "            break\n",
    "\n",
    "    # Reveal the dice results\n",
    "    print('The dealer lifts the cup to reveal.')\n",
    "    print(f\"{(' ' * 2)}{JAPANESE_NUMBERS[dice_1]} - {JAPANESE_NUMBERS[dice_2]}\")\n",
    "    print(f\"{(' ' * 4)}{dice_1} - {dice_2}\")\n",
    "\n",
    "    # determine if the player won\n",
    "    roll_is_even = (dice_1 + dice_2) % 2 == 0\n",
    "    if roll_is_even:\n",
    "        correct_bet = 'CHO'\n",
    "    else:\n",
    "        correct_bet = 'HAN'\n",
    "\n",
    "    player_won = on_bet == correct_bet\n",
    "\n",
    "    # display the bet results\n",
    "    if player_won:\n",
    "        print(f'You Won! You take {bet_mon} mon.')\n",
    "        # add bet_money from player's purse\n",
    "        purse += bet_mon\n",
    "        house_own = bet_mon // 10\n",
    "        print(f\"The house collects {house_own} mon fee.\")\n",
    "        # house fee 10%\n",
    "        purse -= house_own\n",
    "    else:\n",
    "        purse -= bet_mon\n",
    "        print('You lost!')\n",
    "\n",
    "    # check if the player is run out of money\n",
    "    if purse == 0:\n",
    "        print('You have run out of monney!')\n",
    "        print('Thanks for playing!')\n",
    "        sys.exit()"
   ]
  },
  {
   "cell_type": "code",
   "execution_count": 0,
   "metadata": {
    "collapsed": false
   },
   "outputs": [
   ],
   "source": [
   ]
  }
 ],
 "metadata": {
  "kernelspec": {
   "display_name": "Python 3 (system-wide)",
   "language": "python",
   "metadata": {
    "cocalc": {
     "description": "Python 3 programming language",
     "priority": 100,
     "url": "https://www.python.org/"
    }
   },
   "name": "python3",
   "resource_dir": "/ext/jupyter/kernels/python3"
  },
  "language_info": {
   "codemirror_mode": {
    "name": "ipython",
    "version": 3
   },
   "file_extension": ".py",
   "mimetype": "text/x-python",
   "name": "python",
   "nbconvert_exporter": "python",
   "pygments_lexer": "ipython3",
   "version": "3.8.10"
  }
 },
 "nbformat": 4,
 "nbformat_minor": 4
}