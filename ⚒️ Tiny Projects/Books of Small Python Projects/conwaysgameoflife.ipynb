{
 "cells": [
  {
   "cell_type": "code",
   "execution_count": 0,
   "metadata": {
    "collapsed": false
   },
   "outputs": [
   ],
   "source": [
    "import copy, random, time\n",
    "\n",
    "# set up the constants\n",
    "WIDTH = 79\n",
    "HEIGHT = 20\n",
    "ALIVE = '0'\n",
    "DEAD = '_'\n",
    "\n",
    "# the cells and next_cells are dictionaries for the state of the game. Their keys are (x, y) tuples and their values are one of the ALIVE or DEAD values\n",
    "next_cells = {}\n",
    "\n",
    "# put random dead and alive cells into next_cells\n",
    "for x in range(WIDTH):\n",
    "    for y in range(HEIGHT):\n",
    "        if random.randint(0, 1) == 0:\n",
    "            next_cells[(x, y)] = ALIVE\n",
    "        else:\n",
    "            next_cells[(x, y)] = DEAD\n",
    "\n",
    "while True:\n",
    "    # each iteration of this loop is a step of the simulation\n",
    "\n",
    "    # separate each step with newlines\n",
    "    print('\\n' * 5)\n",
    "    cells = copy.deepcopy(next_cells)\n",
    "\n",
    "    # print cells on the screen\n",
    "    for y in range(HEIGHT):\n",
    "        for x in range(WIDTH):\n",
    "            print(cells[x, y], end='')\n",
    "        print() # newline at the end of row\n",
    "    print('Press Ctrl-C to quit')\n",
    "\n",
    "    # calculate the next step's cells based on current step's cells\n",
    "    for x in range(WIDTH):\n",
    "        for y in range(HEIGHT):\n",
    "            left = (x - 1) % WIDTH \n",
    "            right = (x + 1) % WIDTH \n",
    "            above = (y - 1) % HEIGHT \n",
    "            below = (y + 1) % HEIGHT\n",
    "\n",
    "            # count the number of living neighbors\n",
    "            num_neighbors = 0\n",
    "            if cells[(left, above)] == ALIVE:\n",
    "                num_neighbors += 1 # top-left neighbor is alive\n",
    "            if cells[(x, above)] == ALIVE:\n",
    "                num_neighbors += 1 # top neighbor is alive\n",
    "            if cells[(right, above)] == ALIVE:\n",
    "                num_neighbors += 1 # top - right neighbor is alive\n",
    "            if cells[(left, y)] == ALIVE:\n",
    "                num_neighbors += 1 # left neighbor is alive\n",
    "            if cells[(right, y)] == ALIVE:\n",
    "                num_neighbors += 1 # right neighbor is alive\n",
    "            if cells[(left, below)] == ALIVE:\n",
    "                num_neighbors += 1 # bottom - left neighbor is alive\n",
    "            if cells[(x, below)] == ALIVE:\n",
    "                num_neighbors += 1 # bottom neighbor is alive\n",
    "            if cells[(right, below)] == ALIVE:\n",
    "                num_neighbors += 1 # bottom - right neighbor is alive\n",
    "\n",
    "            # set cell based on conway's game of life rules\n",
    "            if cells[(x, y)] == ALIVE and (num_neighbors == 2 or num_neighbors == 3):\n",
    "                #living cells with 2 or 3 neighbors stay alive\n",
    "                next_cells[(x, y)] = ALIVE\n",
    "            elif cells[(x, y)] == DEAD and num_neighbors == 3:\n",
    "                next_cells[(x, y)] = ALIVE\n",
    "            else:\n",
    "                # everything else dies or stay alive\n",
    "                next_cells[(x, y)] = DEAD\n",
    "    try:\n",
    "        # pause for reducing flickering\n",
    "        time.sleep(1)\n",
    "    except KeyboardInterrupt:\n",
    "        print(\"Conway's Game of Life end\")\n",
    "        exit()"
   ]
  }
 ],
 "metadata": {
  "kernelspec": {
   "display_name": "Python 3 (system-wide)",
   "language": "python",
   "metadata": {
    "cocalc": {
     "description": "Python 3 programming language",
     "priority": 100,
     "url": "https://www.python.org/"
    }
   },
   "name": "python3",
   "resource_dir": "/ext/jupyter/kernels/python3"
  },
  "language_info": {
   "codemirror_mode": {
    "name": "ipython",
    "version": 3
   },
   "file_extension": ".py",
   "mimetype": "text/x-python",
   "name": "python",
   "nbconvert_exporter": "python",
   "pygments_lexer": "ipython3",
   "version": "3.8.10"
  }
 },
 "nbformat": 4,
 "nbformat_minor": 4
}