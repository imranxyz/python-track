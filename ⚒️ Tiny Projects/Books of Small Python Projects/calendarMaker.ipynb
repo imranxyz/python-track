{
 "cells": [
  {
   "cell_type": "code",
   "execution_count": 5,
   "metadata": {
    "cocalc": {
     "outputs": {
      "1": {
       "name": "input",
       "opts": {
        "password": false,
        "prompt": "> "
       },
       "output_type": "stream",
       "value": "2020"
      },
      "3": {
       "name": "input",
       "opts": {
        "password": false,
        "prompt": "> "
       },
       "output_type": "stream",
       "value": "10"
      }
     }
    },
    "collapsed": false
   },
   "outputs": [
    {
     "name": "stdout",
     "output_type": "stream",
     "text": [
      "Enter the year for calendar:\n"
     ]
    },
    {
     "name": "stdout",
     "output_type": "stream",
     "text": ">  2020"
    },
    {
     "name": "stdout",
     "output_type": "stream",
     "text": [
      "Enter the month for the calendar, 1-12\n"
     ]
    },
    {
     "name": "stdout",
     "output_type": "stream",
     "text": ">  10"
    },
    {
     "name": "stdout",
     "output_type": "stream",
     "text": [
      "                                  October 2020\n",
      "....Sunday....Monday....Tuesday....Wednesday....Thursday....Friday....Saturday..\n",
      "+----------+----------+----------+----------+----------+----------+----------+\n",
      "|27        |28        |29        |30        | 1        | 2        | 3        |\n",
      "|          |          |          |          |          |          |          |\n",
      "|          |          |          |          |          |          |          |\n",
      "|          |          |          |          |          |          |          |\n",
      "+----------+----------+----------+----------+----------+----------+----------+\n",
      "| 4        | 5        | 6        | 7        | 8        | 9        |10        |\n",
      "|          |          |          |          |          |          |          |\n",
      "|          |          |          |          |          |          |          |\n",
      "|          |          |          |          |          |          |          |\n",
      "+----------+----------+----------+----------+----------+----------+----------+\n",
      "|11        |12        |13        |14        |15        |16        |17        |\n",
      "|          |          |          |          |          |          |          |\n",
      "|          |          |          |          |          |          |          |\n",
      "|          |          |          |          |          |          |          |\n",
      "+----------+----------+----------+----------+----------+----------+----------+\n",
      "|18        |19        |20        |21        |22        |23        |24        |\n",
      "|          |          |          |          |          |          |          |\n",
      "|          |          |          |          |          |          |          |\n",
      "|          |          |          |          |          |          |          |\n",
      "+----------+----------+----------+----------+----------+----------+----------+\n",
      "|25        |26        |27        |28        |29        |30        |31        |\n",
      "|          |          |          |          |          |          |          |\n",
      "|          |          |          |          |          |          |          |\n",
      "|          |          |          |          |          |          |          |\n",
      "+----------+----------+----------+----------+----------+----------+----------+\n",
      "\n",
      "Saved to calendar_2020_10.txt\n"
     ]
    }
   ],
   "source": [
    "import datetime\n",
    "\n",
    "DAYS = (\n",
    "    'Sunday',\n",
    "    'Monday',\n",
    "    'Tuesday',\n",
    "    'Wednesday',\n",
    "    'Thursday',\n",
    "    'Friday',\n",
    "    'Saturday',\n",
    ")\n",
    "\n",
    "MONTHS = (\n",
    "    'January',\n",
    "    'February',\n",
    "    'March',\n",
    "    'April',\n",
    "    'May',\n",
    "    'June',\n",
    "    'July',\n",
    "    'August',\n",
    "    'September',\n",
    "    'October',\n",
    "    'November',\n",
    "    'December',\n",
    ")\n",
    "\n",
    "# get a year from the user\n",
    "while True:\n",
    "    print('Enter the year for calendar:')\n",
    "    response = input('> ')\n",
    "\n",
    "    if response.isdecimal() and int(response) > 0:\n",
    "        year = int(response)\n",
    "        break\n",
    "\n",
    "    print('Please enter a numeric year, like 2024')\n",
    "    continue\n",
    "\n",
    "\n",
    "# get a month from the user\n",
    "while True:\n",
    "    print('Enter the month for the calendar, 1-12')\n",
    "    response = input('> ')\n",
    "\n",
    "    # response true if str.isdecimal('numeric')\n",
    "    if not response.isdecimal():\n",
    "        print('Please enter a numeric month, like 3 for March')\n",
    "        continue\n",
    "\n",
    "    month = int(response)\n",
    "    if 1 <= month <= 12:\n",
    "        break\n",
    "\n",
    "    print('Please enter a number from 1 to 12')\n",
    "\n",
    "\n",
    "def get_calendar_for(year, month):\n",
    "    # contains string of the calendar\n",
    "    calendar_text = ''\n",
    "\n",
    "    # put the month and year at the top of the calendar\n",
    "    calendar_text += f\"{(' ' * 34)}{MONTHS[month-1]} {str(year)}\\n\"\n",
    "\n",
    "    # add the days of the week labels to the calendar\n",
    "    days_of_week = ''.join((f'....{day}' for day in DAYS))\n",
    "    calendar_text += f'{days_of_week}..\\n'\n",
    "\n",
    "    # the horizontal line string that separates weeks\n",
    "    week_separator = f\"{('+----------' * 7)}+\\n\"\n",
    "\n",
    "    # the blank rows have the 10 spaces in between the | day separaotrs\n",
    "    blank_row = f\"{('|          ' * 7)}|\\n\"\n",
    "\n",
    "    # get the first date in the month\n",
    "    current_date = datetime.date(year=year, month=month, day=1) # YYYY-MM-DD\n",
    "\n",
    "    # roll back current_date until it is Sunday\n",
    "    # weekday() returns 6 for Sunday not 0 for Monday\n",
    "    while current_date.weekday() != 6:\n",
    "        current_date -= datetime.timedelta(days=1)\n",
    "\n",
    "    # loop over each week in a month\n",
    "    while True:\n",
    "        calendar_text += week_separator\n",
    "\n",
    "        # day_number_row is the row with the day number labels\n",
    "        day_number_row = ''\n",
    "\n",
    "        for _ in range(7):\n",
    "            day_number_label = str(current_date.day).rjust(2)\n",
    "            day_number_row += f\"|{day_number_label}{(' ' * 8)}\"\n",
    "            # go to the next day\n",
    "            current_date += datetime.timedelta(days=1)\n",
    "\n",
    "        day_number_row += '|\\n'\n",
    "\n",
    "        # add the day row and 3 blanks rows to the calendar text\n",
    "        calendar_text += day_number_row\n",
    "\n",
    "        for _ in range(3):\n",
    "            calendar_text += blank_row\n",
    "\n",
    "        # check if we're done with the month\n",
    "        if current_date.month != month:\n",
    "            break\n",
    "\n",
    "\n",
    "    # add the horizontal line at the very bottom of the calendar\n",
    "    calendar_text += week_separator\n",
    "    return calendar_text\n",
    "\n",
    "\n",
    "calendar_text = get_calendar_for(year=year, month=month)\n",
    "print(calendar_text)\n",
    "\n",
    "# save the calendar to a file\n",
    "calendar_filename = f'calendar_{year}_{month}.txt'\n",
    "with open(calendar_filename, 'w') as file:\n",
    "    file.write(calendar_text)\n",
    "\n",
    "print(f'Saved to {calendar_filename}')"
   ]
  },
  {
   "cell_type": "markdown",
   "metadata": {
    "collapsed": false
   },
   "source": [
    "### Exploring the Program\n",
    "\n",
    "Try to find the answers to the following questions. Experiment with some modifications to the code and rerun the program to see what effect the changes have."
   ]
  },
  {
   "cell_type": "markdown",
   "metadata": {
    "collapsed": false
   },
   "source": [
    "- How can you make the calendar display abbreviated months? For example, show 'Jan' instead of 'January'?\n",
    "    ```py\n",
    "    MONTHS = (\n",
    "    'Jan',\n",
    "    'Feb',\n",
    "    'Mar',\n",
    "    'Apr',\n",
    "    'May',\n",
    "    'Jun',\n",
    "    'Jul',\n",
    "    'Aug',\n",
    "    'Sep',\n",
    "    'Oct',\n",
    "    'Nov',\n",
    "    'Dec',) \n",
    "    ```\n",
    "\n"
   ]
  },
  {
   "cell_type": "markdown",
   "metadata": {
    "collapsed": false
   },
   "source": [
    "- What error message do you get if you delete or comment out `year = int (response)` on line 34\n",
    "    - TypeError: 'str' object cannot be interpreted as an integer\n",
    "- How can you make the calendar not display the days of the week at the top\n",
    "    - delete or comment out the line\n",
    "- How can you make the program not save the calendar to a file?\n",
    "    - comment out 118 to 120 lines\n",
    "- What happens if you delete or comment out `print(calendar_text)` on line 115\n",
    "    - Calendar won't show in console"
   ]
  }
 ],
 "metadata": {
  "kernelspec": {
   "display_name": "Python 3 (system-wide)",
   "language": "python",
   "metadata": {
    "cocalc": {
     "description": "Python 3 programming language",
     "priority": 100,
     "url": "https://www.python.org/"
    }
   },
   "name": "python3",
   "resource_dir": "/ext/jupyter/kernels/python3"
  }
 },
 "nbformat": 4,
 "nbformat_minor": 4
}