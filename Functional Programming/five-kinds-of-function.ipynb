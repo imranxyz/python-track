{
 "metadata": {
  "language_info": {
   "codemirror_mode": {
    "name": "ipython",
    "version": 3
   },
   "file_extension": ".py",
   "mimetype": "text/x-python",
   "name": "python",
   "nbconvert_exporter": "python",
   "pygments_lexer": "ipython3",
   "version": "3.8.4-final"
  },
  "orig_nbformat": 2,
  "kernelspec": {
   "name": "python3",
   "display_name": "Python 3.8.4 32-bit",
   "metadata": {
    "interpreter": {
     "hash": "c7f23210fe948138299b44c825f8d614c2df95c372787f4166c017b0c02863dd"
    }
   }
  }
 },
 "nbformat": 4,
 "nbformat_minor": 2,
 "cells": [
  {
   "source": [
    "Conf URL - [Five Kinds of Python Functions - Steven Lott](https://www.youtube.com/watch?v=U4wT-55GqkM)\n",
    "\n",
    "Kinds of Function \n",
    "- Essential function\n",
    "- Higher-Order Function \n",
    "- Function Wrappers(methods)\n",
    "- Lambdas\n",
    "- Callable objects\n",
    "- Decorators\n",
    "- Generators"
   ],
   "cell_type": "markdown",
   "metadata": {}
  },
  {
   "source": [
    "## Terminology\n",
    "\n",
    "- The highr-order function like `map()` are lazy\n",
    "    - they only create object when there's a consumer\n",
    "    - we use `list()/tuple()` to consume values and create a sequence object\n",
    "        - this forces `map()` to actually get up off the couch and compute something...\n",
    "- Most functions we write are 'eager'\n",
    "    - they immediately create an object"
   ],
   "cell_type": "markdown",
   "metadata": {}
  },
  {
   "source": [
    "- Essential function\n",
    "    - Create with `def` and `return` \n",
    "- Higher-Order function (take func as args | return func as result)\n",
    "    - `map(), filter(), functools library, sorted(), min(), max()`\n",
    "- Function wrappers\n",
    "    - `str(), repr(), len(), divmood()`\n",
    "- lambds\n",
    "- Callable objects\n",
    "    - Class with `__call__()` method\n",
    "- Decorator\n",
    "- Generator with `yield`"
   ],
   "cell_type": "markdown",
   "metadata": {}
  }
 ]
}