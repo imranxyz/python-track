{
 "metadata": {
  "language_info": {
   "codemirror_mode": {
    "name": "ipython",
    "version": 3
   },
   "file_extension": ".py",
   "mimetype": "text/x-python",
   "name": "python",
   "nbconvert_exporter": "python",
   "pygments_lexer": "ipython3",
   "version": "3.8.4-final"
  },
  "orig_nbformat": 2,
  "kernelspec": {
   "name": "python3",
   "display_name": "Python 3.8.4 32-bit",
   "metadata": {
    "interpreter": {
     "hash": "c7f23210fe948138299b44c825f8d614c2df95c372787f4166c017b0c02863dd"
    }
   }
  }
 },
 "nbformat": 4,
 "nbformat_minor": 2,
 "cells": [
  {
   "cell_type": "code",
   "execution_count": 4,
   "metadata": {},
   "outputs": [
    {
     "output_type": "stream",
     "name": "stdout",
     "text": [
      "odd\nodd\n"
     ]
    }
   ],
   "source": [
    "def even_odd(number):\n",
    "    if number & 1:\n",
    "        print('odd')\n",
    "    else:\n",
    "        print('even')\n",
    "\n",
    "even_odd(11)\n",
    "even_odd(15)"
   ]
  },
  {
   "cell_type": "code",
   "execution_count": 6,
   "metadata": {},
   "outputs": [
    {
     "output_type": "stream",
     "name": "stdout",
     "text": [
      "120\n"
     ]
    }
   ],
   "source": [
    "import math\n",
    "print(math.factorial(5))"
   ]
  },
  {
   "cell_type": "code",
   "execution_count": 10,
   "metadata": {},
   "outputs": [
    {
     "output_type": "stream",
     "name": "stdout",
     "text": [
      "24\n"
     ]
    }
   ],
   "source": [
    "def factorial(n):\n",
    "    res = 1\n",
    "    for i in range(1, n+1):\n",
    "        res *= i\n",
    "    print(res)\n",
    "\n",
    "factorial(4)"
   ]
  },
  {
   "cell_type": "code",
   "execution_count": 12,
   "metadata": {},
   "outputs": [
    {
     "output_type": "stream",
     "name": "stdout",
     "text": [
      "350 | 50 | 30000 | 1.333\n"
     ]
    }
   ],
   "source": [
    "def calc(a, b):\n",
    "    sum_ = a + b\n",
    "    sub = a - b\n",
    "    mul = a * b\n",
    "    div = f'{a / b:.3f}'\n",
    "    return (sum_, sub, mul, div)\n",
    "\n",
    "t = calc(200, 150)\n",
    "a, b, c, d = t\n",
    "print(a, b, c, d, sep=' | ')"
   ]
  },
  {
   "cell_type": "code",
   "execution_count": 14,
   "metadata": {},
   "outputs": [
    {
     "output_type": "stream",
     "name": "stdout",
     "text": [
      "-100\n100\n"
     ]
    }
   ],
   "source": [
    "# Positional arguments (order is important & must be matched with actual parameters (formal arguments))\n",
    "\n",
    "def subtraction(a, b):\n",
    "    return a - b\n",
    "\n",
    "print(subtraction(100, 200)) # -100\n",
    "print(subtraction(200, 100)) # 100"
   ]
  },
  {
   "cell_type": "code",
   "execution_count": 15,
   "metadata": {},
   "outputs": [
    {
     "output_type": "stream",
     "name": "stdout",
     "text": [
      "Hello, Durga Good Morning\nHello, Imran Good Night\n"
     ]
    }
   ],
   "source": [
    "# keyword arguments (Order is not important but must be matched with actual parameters)\n",
    "\n",
    "def wish(name, msg):\n",
    "    print(f'Hello, {name} {msg}')\n",
    "\n",
    "wish(name='Durga', msg='Good Morning')\n",
    "wish(msg='Good Night', name='Imran')"
   ]
  },
  {
   "cell_type": "code",
   "execution_count": 16,
   "metadata": {},
   "outputs": [
    {
     "output_type": "stream",
     "name": "stdout",
     "text": [
      "Hello, Durga\nHello, Stranger\n"
     ]
    }
   ],
   "source": [
    "# default parametrs\n",
    "\n",
    "def wish(name='Stranger'):\n",
    "    print(f'Hello, {name}')\n",
    "\n",
    "wish(name='Durga')\n",
    "wish()"
   ]
  },
  {
   "cell_type": "code",
   "execution_count": 17,
   "metadata": {},
   "outputs": [
    {
     "output_type": "stream",
     "name": "stdout",
     "text": [
      "0\n10\n30\n100\n"
     ]
    }
   ],
   "source": [
    "# variable length arguments\n",
    "\n",
    "def _sum(*args):\n",
    "    return sum(args)\n",
    "\n",
    "print(_sum()) # ()\n",
    "print(_sum(10)) # 10\n",
    "print(_sum(10, 20)) # 30\n",
    "print(_sum(10,20,30,40)) # 100"
   ]
  },
  {
   "cell_type": "code",
   "execution_count": 18,
   "metadata": {},
   "outputs": [
    {
     "output_type": "stream",
     "text": [
      "\u001b[1;31mSignature:\u001b[0m \u001b[0msum\u001b[0m\u001b[1;33m(\u001b[0m\u001b[0miterable\u001b[0m\u001b[1;33m,\u001b[0m \u001b[1;33m/\u001b[0m\u001b[1;33m,\u001b[0m \u001b[0mstart\u001b[0m\u001b[1;33m=\u001b[0m\u001b[1;36m0\u001b[0m\u001b[1;33m)\u001b[0m\u001b[1;33m\u001b[0m\u001b[1;33m\u001b[0m\u001b[0m\n",
      "\u001b[1;31mDocstring:\u001b[0m\n",
      "Return the sum of a 'start' value (default: 0) plus an iterable of numbers\n",
      "\n",
      "When the iterable is empty, return the start value.\n",
      "This function is intended specifically for use with numeric values and may\n",
      "reject non-numeric types.\n",
      "\u001b[1;31mType:\u001b[0m      builtin_function_or_method\n"
     ],
     "name": "stdout"
    }
   ],
   "source": [
    "sum?"
   ]
  },
  {
   "cell_type": "code",
   "execution_count": 28,
   "metadata": {},
   "outputs": [
    {
     "output_type": "stream",
     "name": "stdout",
     "text": [
      "tuple\n20\n"
     ]
    }
   ],
   "source": [
    "def f1(*args, last):\n",
    "    print(type(args).__name__)\n",
    "    print(last)\n",
    "\n",
    "f1(10, last=20) # 20"
   ]
  },
  {
   "cell_type": "code",
   "execution_count": 24,
   "metadata": {},
   "outputs": [
    {
     "output_type": "stream",
     "name": "stdout",
     "text": [
      "{'n': 10, 'n2': 20, 'n3': 30}\nn = 10\n{'n': 10, 'n2': 20, 'n3': 30}\nn2 = 20\n{'n': 10, 'n2': 20, 'n3': 30}\nn3 = 30\n"
     ]
    }
   ],
   "source": [
    "def display(**kwargs):\n",
    "    for key, value in kwargs.items():\n",
    "        print(kwargs)\n",
    "        print(f'{key} = {value}')\n",
    "\n",
    "display(n=10, n2=20, n3=30)"
   ]
  },
  {
   "source": [
    "## CASE STUDY"
   ],
   "cell_type": "markdown",
   "metadata": {}
  },
  {
   "cell_type": "code",
   "execution_count": 36,
   "metadata": {},
   "outputs": [
    {
     "output_type": "stream",
     "name": "stdout",
     "text": [
      "3 | 2 | 4 | 8\n"
     ]
    }
   ],
   "source": [
    "def f1(arg1, arg2, arg3=4, arg4=8):\n",
    "    \"\"\"Case Study of variable length arguments\"\"\"\n",
    "    print(arg1, arg2, arg3, arg4, sep=' | ')\n",
    "\n",
    "f1(3, 2) # 3 | 2 | 4 | 8"
   ]
  },
  {
   "cell_type": "code",
   "execution_count": 37,
   "metadata": {},
   "outputs": [
    {
     "output_type": "stream",
     "name": "stdout",
     "text": [
      "10 | 20 | 30 | 40\n"
     ]
    }
   ],
   "source": [
    "f1(10, 20, 30, 40) # 10 | 20 | 30 | 40"
   ]
  },
  {
   "cell_type": "code",
   "execution_count": 38,
   "metadata": {},
   "outputs": [
    {
     "output_type": "stream",
     "name": "stdout",
     "text": [
      "25 | 50 | 4 | 100\n"
     ]
    }
   ],
   "source": [
    "f1(25, 50, arg4=100) # 25 | 50 | 4 | 100"
   ]
  },
  {
   "cell_type": "code",
   "execution_count": 39,
   "metadata": {},
   "outputs": [
    {
     "output_type": "stream",
     "name": "stdout",
     "text": [
      "3 | 4 | 4 | 2\n"
     ]
    }
   ],
   "source": [
    "f1(arg4=2, arg1=3, arg2=4) # 3 | 4 | 4 | 2"
   ]
  },
  {
   "cell_type": "code",
   "execution_count": 40,
   "metadata": {},
   "outputs": [
    {
     "output_type": "error",
     "ename": "TypeError",
     "evalue": "f1() missing 2 required positional arguments: 'arg1' and 'arg2'",
     "traceback": [
      "\u001b[1;31m---------------------------------------------------------------------------\u001b[0m",
      "\u001b[1;31mTypeError\u001b[0m                                 Traceback (most recent call last)",
      "\u001b[1;32m~\\AppData\\Local\\Temp/ipykernel_4584/2719331641.py\u001b[0m in \u001b[0;36m<module>\u001b[1;34m\u001b[0m\n\u001b[1;32m----> 1\u001b[1;33m \u001b[0mf1\u001b[0m\u001b[1;33m(\u001b[0m\u001b[1;33m)\u001b[0m\u001b[1;33m\u001b[0m\u001b[1;33m\u001b[0m\u001b[0m\n\u001b[0m",
      "\u001b[1;31mTypeError\u001b[0m: f1() missing 2 required positional arguments: 'arg1' and 'arg2'"
     ]
    }
   ],
   "source": [
    "f1()"
   ]
  },
  {
   "cell_type": "code",
   "execution_count": 41,
   "metadata": {},
   "outputs": [
    {
     "output_type": "error",
     "ename": "SyntaxError",
     "evalue": "positional argument follows keyword argument (Temp/ipykernel_4584/2735478201.py, line 1)",
     "traceback": [
      "\u001b[1;36m  File \u001b[1;32m\"C:\\Users\\imran\\AppData\\Local\\Temp/ipykernel_4584/2735478201.py\"\u001b[1;36m, line \u001b[1;32m1\u001b[0m\n\u001b[1;33m    f1(arg3=100, arg4=20, 30, 40)\u001b[0m\n\u001b[1;37m                          ^\u001b[0m\n\u001b[1;31mSyntaxError\u001b[0m\u001b[1;31m:\u001b[0m positional argument follows keyword argument\n"
     ]
    }
   ],
   "source": [
    "f1(arg3=100, arg4=20, 30, 40)"
   ]
  },
  {
   "cell_type": "code",
   "execution_count": 42,
   "metadata": {},
   "outputs": [
    {
     "output_type": "error",
     "ename": "TypeError",
     "evalue": "f1() got multiple values for argument 'arg2'",
     "traceback": [
      "\u001b[1;31m---------------------------------------------------------------------------\u001b[0m",
      "\u001b[1;31mTypeError\u001b[0m                                 Traceback (most recent call last)",
      "\u001b[1;32m~\\AppData\\Local\\Temp/ipykernel_4584/1794306532.py\u001b[0m in \u001b[0;36m<module>\u001b[1;34m\u001b[0m\n\u001b[1;32m----> 1\u001b[1;33m \u001b[0mf1\u001b[0m\u001b[1;33m(\u001b[0m\u001b[1;36m4\u001b[0m\u001b[1;33m,\u001b[0m \u001b[1;36m5\u001b[0m\u001b[1;33m,\u001b[0m \u001b[0marg2\u001b[0m\u001b[1;33m=\u001b[0m\u001b[1;36m6\u001b[0m\u001b[1;33m)\u001b[0m\u001b[1;33m\u001b[0m\u001b[1;33m\u001b[0m\u001b[0m\n\u001b[0m",
      "\u001b[1;31mTypeError\u001b[0m: f1() got multiple values for argument 'arg2'"
     ]
    }
   ],
   "source": [
    "f1(4, 5, arg2=6)"
   ]
  },
  {
   "cell_type": "code",
   "execution_count": 43,
   "metadata": {},
   "outputs": [
    {
     "output_type": "error",
     "ename": "TypeError",
     "evalue": "f1() got an unexpected keyword argument 'arg5'",
     "traceback": [
      "\u001b[1;31m---------------------------------------------------------------------------\u001b[0m",
      "\u001b[1;31mTypeError\u001b[0m                                 Traceback (most recent call last)",
      "\u001b[1;32m~\\AppData\\Local\\Temp/ipykernel_4584/3425043102.py\u001b[0m in \u001b[0;36m<module>\u001b[1;34m\u001b[0m\n\u001b[1;32m----> 1\u001b[1;33m \u001b[0mf1\u001b[0m\u001b[1;33m(\u001b[0m\u001b[1;36m4\u001b[0m\u001b[1;33m,\u001b[0m \u001b[1;36m5\u001b[0m\u001b[1;33m,\u001b[0m \u001b[0marg3\u001b[0m\u001b[1;33m=\u001b[0m\u001b[1;36m5\u001b[0m\u001b[1;33m,\u001b[0m \u001b[0marg5\u001b[0m\u001b[1;33m=\u001b[0m\u001b[1;36m6\u001b[0m\u001b[1;33m)\u001b[0m\u001b[1;33m\u001b[0m\u001b[1;33m\u001b[0m\u001b[0m\n\u001b[0m",
      "\u001b[1;31mTypeError\u001b[0m: f1() got an unexpected keyword argument 'arg5'"
     ]
    }
   ],
   "source": [
    "f1(4, 5, arg3=5, arg5=6)"
   ]
  },
  {
   "source": [
    "Group of codes with some name is called functions\n",
    "\n",
    "Group of function saved in a file is called modules\n",
    "\n",
    "Group of modules is called library\n",
    "\n",
    "Global variable: The variable which is declared outside of functions is called Global variable. Inside module all the functions can accessed the global variables\n",
    "\n",
    "Local variable: The variable which is declared inside of function is called local variable. These variables are accessable only where it is defined. Outside of function its not accessable\n",
    "\n",
    "What is the purpose of `global` keyword\n",
    "- Declare a global variable inside a function\n",
    "- Make a global variable available inside the function so that we can perform required modification"
   ],
   "cell_type": "markdown",
   "metadata": {}
  },
  {
   "cell_type": "code",
   "execution_count": 44,
   "metadata": {},
   "outputs": [
    {
     "output_type": "stream",
     "name": "stdout",
     "text": [
      "777\n10\n"
     ]
    }
   ],
   "source": [
    "a = 10 # global\n",
    "def f1():\n",
    "    a = 777 # local\n",
    "    print(a) # 777\n",
    "\n",
    "def f2(): \n",
    "    print(a) # 10\n",
    "\n",
    "f1()\n",
    "f2()"
   ]
  },
  {
   "cell_type": "code",
   "execution_count": 46,
   "metadata": {},
   "outputs": [
    {
     "output_type": "stream",
     "name": "stdout",
     "text": [
      "777\n777\n"
     ]
    }
   ],
   "source": [
    "a = 10 # global\n",
    "def f1(): \n",
    "    global a # point number 2\n",
    "    a = 777 # global\n",
    "    print(a) # 777\n",
    "\n",
    "def f2(): \n",
    "    print(a) # 777\n",
    "\n",
    "f1()\n",
    "f2()"
   ]
  },
  {
   "cell_type": "code",
   "execution_count": 49,
   "metadata": {},
   "outputs": [
    {
     "output_type": "stream",
     "name": "stdout",
     "text": [
      "10\n10\n"
     ]
    }
   ],
   "source": [
    "def f1():\n",
    "    global a # point number 1\n",
    "    a = 10\n",
    "    print(a)\n",
    "\n",
    "def f2():\n",
    "    print(a)\n",
    "f1()\n",
    "f2()\n"
   ]
  },
  {
   "cell_type": "code",
   "execution_count": 51,
   "metadata": {},
   "outputs": [
    {
     "output_type": "stream",
     "name": "stdout",
     "text": [
      "10\n25\n25\n"
     ]
    }
   ],
   "source": [
    "# if local & global variable having the same name, then it will print local but when we want to print global variable we can use `globals()['var]\n",
    "\n",
    "a = 25 # global\n",
    "def f1():\n",
    "    a = 10 # local\n",
    "    print(a) # 10\n",
    "    print(globals()['a']) # 25\n",
    "\n",
    "def f2():\n",
    "    print(a) # 25\n",
    "f1()\n",
    "f2()"
   ]
  },
  {
   "cell_type": "code",
   "execution_count": 52,
   "metadata": {},
   "outputs": [
    {
     "output_type": "stream",
     "text": [
      "\u001b[1;31mSignature:\u001b[0m \u001b[0mglobals\u001b[0m\u001b[1;33m(\u001b[0m\u001b[1;33m)\u001b[0m\u001b[1;33m\u001b[0m\u001b[1;33m\u001b[0m\u001b[0m\n",
      "\u001b[1;31mDocstring:\u001b[0m\n",
      "Return the dictionary containing the current scope's global variables.\n",
      "\n",
      "NOTE: Updates to this dictionary *will* affect name lookups in the current\n",
      "global scope and vice-versa.\n",
      "\u001b[1;31mType:\u001b[0m      builtin_function_or_method\n"
     ],
     "name": "stdout"
    }
   ],
   "source": [
    "globals?"
   ]
  },
  {
   "cell_type": "code",
   "execution_count": 56,
   "metadata": {},
   "outputs": [
    {
     "output_type": "execute_result",
     "data": {
      "text/plain": [
       "50"
      ]
     },
     "metadata": {},
     "execution_count": 56
    }
   ],
   "source": [
    "globals()['b']"
   ]
  },
  {
   "cell_type": "code",
   "execution_count": 58,
   "metadata": {},
   "outputs": [
    {
     "output_type": "execute_result",
     "data": {
      "text/plain": [
       "24"
      ]
     },
     "metadata": {},
     "execution_count": 58
    }
   ],
   "source": [
    "# factorial via recursion\n",
    "\n",
    "def factorial(n):\n",
    "    if n <= 1: return 1\n",
    "    return n * factorial(n-1)\n",
    "\n",
    "factorial(5)\n",
    "factorial(4)"
   ]
  },
  {
   "source": [
    "Sometimes we can declare a function without any name. Such type of functons is called lambda function or anonymous function ...\n",
    "\n",
    "The main purpose of lambda function is instant use. It is also passed as arguments to higher order function\n",
    "\n",
    "`lambda arguments: expression`\n",
    "\n",
    "Lambda can take any number of args but return only one expression"
   ],
   "cell_type": "markdown",
   "metadata": {}
  },
  {
   "cell_type": "code",
   "execution_count": 60,
   "metadata": {},
   "outputs": [
    {
     "output_type": "stream",
     "name": "stdout",
     "text": [
      "16\n"
     ]
    }
   ],
   "source": [
    "# square of number\n",
    "square = lambda number: number ** 2\n",
    "print(square(4))"
   ]
  },
  {
   "cell_type": "code",
   "execution_count": 61,
   "metadata": {},
   "outputs": [
    {
     "output_type": "execute_result",
     "data": {
      "text/plain": [
       "30"
      ]
     },
     "metadata": {},
     "execution_count": 61
    }
   ],
   "source": [
    "# sum of numbers\n",
    "sum_of_numbers = lambda a, b: a + b\n",
    "sum_of_numbers(10,20)"
   ]
  },
  {
   "cell_type": "code",
   "execution_count": 62,
   "metadata": {},
   "outputs": [
    {
     "output_type": "execute_result",
     "data": {
      "text/plain": [
       "25"
      ]
     },
     "metadata": {},
     "execution_count": 62
    }
   ],
   "source": [
    "# find the biggest\n",
    "biggest = lambda a, b: a if a > b else b\n",
    "biggest(10, 25)"
   ]
  },
  {
   "source": [
    "### Filter()"
   ],
   "cell_type": "markdown",
   "metadata": {}
  },
  {
   "cell_type": "code",
   "execution_count": 63,
   "metadata": {},
   "outputs": [
    {
     "output_type": "stream",
     "text": [
      "\u001b[1;31mInit signature:\u001b[0m \u001b[0mfilter\u001b[0m\u001b[1;33m(\u001b[0m\u001b[0mself\u001b[0m\u001b[1;33m,\u001b[0m \u001b[1;33m/\u001b[0m\u001b[1;33m,\u001b[0m \u001b[1;33m*\u001b[0m\u001b[0margs\u001b[0m\u001b[1;33m,\u001b[0m \u001b[1;33m**\u001b[0m\u001b[0mkwargs\u001b[0m\u001b[1;33m)\u001b[0m\u001b[1;33m\u001b[0m\u001b[1;33m\u001b[0m\u001b[0m\n",
      "\u001b[1;31mDocstring:\u001b[0m     \n",
      "filter(function or None, iterable) --> filter object\n",
      "\n",
      "Return an iterator yielding those items of iterable for which function(item)\n",
      "is true. If function is None, return the items that are true.\n",
      "\u001b[1;31mType:\u001b[0m           type\n",
      "\u001b[1;31mSubclasses:\u001b[0m     \n"
     ],
     "name": "stdout"
    }
   ],
   "source": [
    "# filtering values based on condition\n",
    "filter?"
   ]
  },
  {
   "cell_type": "code",
   "execution_count": 71,
   "metadata": {},
   "outputs": [
    {
     "output_type": "stream",
     "name": "stdout",
     "text": [
      "(0, 10, 20, 30)\n[]\n"
     ]
    }
   ],
   "source": [
    "def is_even(n):\n",
    "    if n & 1:\n",
    "        return False\n",
    "    return True\n",
    "\n",
    "x = filter(is_even, range(0, 35, 5))\n",
    "print(tuple(x)) # (0, 10, 20, 30)\n",
    "print(list(x)) # [] (one time callable)"
   ]
  },
  {
   "source": [
    "### map()"
   ],
   "cell_type": "markdown",
   "metadata": {}
  },
  {
   "cell_type": "code",
   "execution_count": 73,
   "metadata": {},
   "outputs": [
    {
     "output_type": "stream",
     "name": "stdout",
     "text": [
      "[0, 1, 4, 9, 16]\n"
     ]
    }
   ],
   "source": [
    "# Double the sequence values\n",
    "double = map(lambda x: x ** 2, range(5))\n",
    "print(list(double))"
   ]
  },
  {
   "cell_type": "code",
   "execution_count": 74,
   "metadata": {},
   "outputs": [
    {
     "output_type": "stream",
     "name": "stdout",
     "text": [
      "[0, 11, 24, 39, 56]\n"
     ]
    }
   ],
   "source": [
    "# we can apply multiple sequence in map also\n",
    "# [0x10, 1x11, 2x12, 3x13, 4x14]\n",
    "\n",
    "double = map(lambda x, y: x * y, range(5), range(10, 15))\n",
    "print(list(double))"
   ]
  },
  {
   "cell_type": "code",
   "execution_count": 77,
   "metadata": {},
   "outputs": [
    {
     "output_type": "error",
     "ename": "TypeError",
     "evalue": "filter expected 2 arguments, got 3",
     "traceback": [
      "\u001b[1;31m---------------------------------------------------------------------------\u001b[0m",
      "\u001b[1;31mTypeError\u001b[0m                                 Traceback (most recent call last)",
      "\u001b[1;32m~\\AppData\\Local\\Temp/ipykernel_4584/3249348325.py\u001b[0m in \u001b[0;36m<module>\u001b[1;34m\u001b[0m\n\u001b[1;32m----> 1\u001b[1;33m \u001b[0mEven\u001b[0m \u001b[1;33m=\u001b[0m \u001b[0mfilter\u001b[0m\u001b[1;33m(\u001b[0m\u001b[0mis_even\u001b[0m\u001b[1;33m,\u001b[0m \u001b[0mrange\u001b[0m\u001b[1;33m(\u001b[0m\u001b[1;36m5\u001b[0m\u001b[1;33m)\u001b[0m\u001b[1;33m,\u001b[0m \u001b[0mrange\u001b[0m\u001b[1;33m(\u001b[0m\u001b[1;36m10\u001b[0m\u001b[1;33m,\u001b[0m \u001b[1;36m15\u001b[0m\u001b[1;33m)\u001b[0m\u001b[1;33m)\u001b[0m\u001b[1;33m\u001b[0m\u001b[1;33m\u001b[0m\u001b[0m\n\u001b[0m\u001b[0;32m      2\u001b[0m \u001b[0mprint\u001b[0m\u001b[1;33m(\u001b[0m\u001b[0mlist\u001b[0m\u001b[1;33m(\u001b[0m\u001b[0mEven\u001b[0m\u001b[1;33m)\u001b[0m\u001b[1;33m)\u001b[0m\u001b[1;33m\u001b[0m\u001b[1;33m\u001b[0m\u001b[0m\n",
      "\u001b[1;31mTypeError\u001b[0m: filter expected 2 arguments, got 3"
     ]
    }
   ],
   "source": [
    "Even = filter(is_even, range(5), range(10, 15))\n",
    "print(list(Even))"
   ]
  },
  {
   "source": [
    "### reduce()"
   ],
   "cell_type": "markdown",
   "metadata": {}
  },
  {
   "cell_type": "code",
   "execution_count": 80,
   "metadata": {},
   "outputs": [
    {
     "output_type": "stream",
     "name": "stdout",
     "text": [
      "15\n120\n"
     ]
    }
   ],
   "source": [
    "# reduce function reduce sequence of elements into a single element by applying specified function\n",
    "\n",
    "from functools import reduce\n",
    "_sum = reduce(lambda x, y: x + y, range(0, 6))\n",
    "_mul = reduce(lambda x, y: x * y, range(1, 6))\n",
    "print(_sum)\n",
    "print(_mul)\n"
   ]
  },
  {
   "cell_type": "code",
   "execution_count": 82,
   "metadata": {},
   "outputs": [
    {
     "output_type": "stream",
     "name": "stdout",
     "text": [
      "Outer function started\nOuter function returning inner function\nInner function execution\n"
     ]
    }
   ],
   "source": [
    "def outer():\n",
    "    print('Outer function started')\n",
    "\n",
    "    def inner():\n",
    "        print('Inner function execution')\n",
    "    print('Outer function returning inner function')\n",
    "    return inner\n",
    "\n",
    "f1 = outer()\n",
    "f1()"
   ]
  },
  {
   "source": [
    "### Decorator\n",
    "\n",
    "Decorator is a callable that takes another function as an argument. It may perform some processing with decoreated function, return it or replace it with another function or callable object.\n",
    "\n",
    "The main purpose of decorated function is its allow to extend the functionlity of existing function without modifing that function"
   ],
   "cell_type": "markdown",
   "metadata": {}
  },
  {
   "cell_type": "code",
   "execution_count": 3,
   "metadata": {},
   "outputs": [
    {
     "output_type": "stream",
     "name": "stdout",
     "text": [
      "Hello, Imran Good Moring!\nHello, Rena Good Moring!\nHello, Sunny Bad Moring!\n"
     ]
    }
   ],
   "source": [
    "def decor(func):\n",
    "    def inner(name):\n",
    "        if name == 'Sunny':\n",
    "            print(f'Hello, {name} Bad Moring!')\n",
    "        else:\n",
    "            func(name)\n",
    "    return inner\n",
    "\n",
    "@decor\n",
    "def wish(name):\n",
    "    print(f'Hello, {name} Good Moring!')\n",
    "\n",
    "wish('Imran')\n",
    "wish('Rena')\n",
    "wish('Sunny')"
   ]
  },
  {
   "cell_type": "code",
   "execution_count": 7,
   "metadata": {},
   "outputs": [
    {
     "output_type": "stream",
     "name": "stdout",
     "text": [
      "We are dividing 10 with 0\ninteger division or modulo by zero\n"
     ]
    }
   ],
   "source": [
    "# without decorator\n",
    "\n",
    "def smart_division(func):\n",
    "    def inner(a, b):\n",
    "        print(f'We are dividing {a} with {b}')\n",
    "        try:\n",
    "            return a // b\n",
    "        except ZeroDivisionError as e:\n",
    "            print(e)\n",
    "    return inner\n",
    "\n",
    "# @smart_division\n",
    "def division(a, b):\n",
    "    pass\n",
    "\n",
    "result = smart_division(division)\n",
    "result(10, 0)"
   ]
  },
  {
   "source": [
    "When multiple decorator are applied in the same functions-basic.ipynb is called decorator chaining (it works top to bottom)"
   ],
   "cell_type": "markdown",
   "metadata": {}
  },
  {
   "cell_type": "code",
   "execution_count": 16,
   "metadata": {},
   "outputs": [
    {
     "output_type": "stream",
     "name": "stdout",
     "text": [
      "Decor2 is executing...\nDecor1 is executing...\nHello Durga, Good Morning!\n"
     ]
    }
   ],
   "source": [
    "def decor1(func):\n",
    "    def inner(name):\n",
    "        print('Decor1 is executing...') # 2\n",
    "        func(name)\n",
    "    return inner\n",
    "\n",
    "def decor2(func):\n",
    "    def inner(name):\n",
    "        print('Decor2 is executing...') # 1\n",
    "        func(name) # it is execute returned function from decor1\n",
    "    return inner\n",
    "\n",
    "@decor2 # (first it executes & for this `func` is decor1's return inner func)\n",
    "@decor1 # for this func is `wish`\n",
    "def wish(name):\n",
    "    \"\"\"Docstring\"\"\"\n",
    "    print(f'Hello {name}, Good Morning!') # 3\n",
    "\n",
    "wish('Durga')"
   ]
  },
  {
   "cell_type": "code",
   "execution_count": 23,
   "metadata": {},
   "outputs": [
    {
     "output_type": "stream",
     "name": "stdout",
     "text": [
      "200\n"
     ]
    }
   ],
   "source": [
    "def doubleDecor(func):\n",
    "    def inner(n):\n",
    "        return func(n) * 2\n",
    "    return inner\n",
    "\n",
    "def squareDecor(func):\n",
    "    def inner(n):\n",
    "        temp = func(n)\n",
    "        return temp ** 2\n",
    "    return inner\n",
    "\n",
    "@doubleDecor\n",
    "@squareDecor\n",
    "def num(n):\n",
    "    return n\n",
    "\n",
    "print(num(10))"
   ]
  },
  {
   "source": [
    "### Generator\n",
    "\n",
    "Generator is a function which generates sequence of values at runtime. It uses `yield` instead of `return`"
   ],
   "cell_type": "markdown",
   "metadata": {}
  },
  {
   "cell_type": "code",
   "execution_count": 27,
   "metadata": {},
   "outputs": [
    {
     "output_type": "stream",
     "name": "stdout",
     "text": [
      "A\n"
     ]
    }
   ],
   "source": [
    "def mygen():\n",
    "    yield 'A'\n",
    "    yield 'B'\n",
    "\n",
    "g = mygen()\n",
    "print(next(g))"
   ]
  },
  {
   "cell_type": "code",
   "execution_count": 28,
   "metadata": {},
   "outputs": [
    {
     "output_type": "stream",
     "name": "stdout",
     "text": [
      "0\n1\n1\n2\n3\n5\n8\n13\n21\n34\n55\n89\n"
     ]
    }
   ],
   "source": [
    "# fibonacci seq\n",
    "\n",
    "def nthFibonacci():\n",
    "    a, b = 0, 1\n",
    "    while True:\n",
    "        yield a \n",
    "        a, b = b, a + b\n",
    "\n",
    "for num in nthFibonacci():\n",
    "    if num > 100:\n",
    "        break\n",
    "    else:\n",
    "        print(num)"
   ]
  }
 ]
}