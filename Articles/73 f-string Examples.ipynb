{
 "metadata": {
  "language_info": {
   "codemirror_mode": {
    "name": "ipython",
    "version": 3
   },
   "file_extension": ".py",
   "mimetype": "text/x-python",
   "name": "python",
   "nbconvert_exporter": "python",
   "pygments_lexer": "ipython3",
   "version": "3.8.4"
  },
  "orig_nbformat": 2,
  "kernelspec": {
   "name": "python3",
   "display_name": "Python 3.8.4 32-bit",
   "metadata": {
    "interpreter": {
     "hash": "c7f23210fe948138299b44c825f8d614c2df95c372787f4166c017b0c02863dd"
    }
   }
  }
 },
 "nbformat": 4,
 "nbformat_minor": 2,
 "cells": [
  {
   "source": [
    "Original Post : [Python F-String: 73 Examples to Help You Master It\n",
    "](https://miguendes.me/73-examples-to-help-you-master-pythons-f-strings)\n",
    "\n",
    "Formatted string can start with either f or F, also can combine with raw strings to produce a formatted output. But can't mixed with bytes `b` or `u`"
   ],
   "cell_type": "markdown",
   "metadata": {}
  },
  {
   "cell_type": "code",
   "execution_count": 3,
   "metadata": {},
   "outputs": [
    {
     "output_type": "stream",
     "name": "stdout",
     "text": [
      "Hello World\nHello World\nHello World\nHello World\nThe book `The Spy` has 200 pages.\nThe book `The Spy` has 200 pages.\nThe book `The Spy` has 200 pages.\\n\n"
     ]
    }
   ],
   "source": [
    "message = 'Hello World'\n",
    "print(F'{message}')\n",
    "print(f'{message}') \n",
    "print(fr'{message}')\n",
    "print(FR'{message}')  \n",
    "book = 'The Spy'\n",
    "pages = 200\n",
    "\n",
    "print(f'The book `{book}` has {pages} pages.')\n",
    "print(F'The book `{book}` has {pages} pages.')\n",
    "print(fr'The book `{book}` has {pages} pages.\\n')"
   ]
  },
  {
   "source": [
    "f-strings evaluate expressions in the context where they appear.\n",
    "According the the PEP 498 , this means the expression has full access to local and global variables.\n",
    "They're also an expression evaluated at runtime. If the expression used inside the\n",
    "{ <expr> } cannot be evaluated, the interpreter will raise an exception."
   ],
   "cell_type": "markdown",
   "metadata": {}
  },
  {
   "cell_type": "code",
   "execution_count": 5,
   "metadata": {},
   "outputs": [
    {
     "output_type": "stream",
     "name": "stdout",
     "text": [
      "Python\n"
     ]
    }
   ],
   "source": [
    "# print(f'{name}') //= NameError\n",
    "\n",
    "# But It has no problem with str.format\n",
    "print('{name}'.format(name='Python'))"
   ]
  },
  {
   "source": [
    "If you don't want to define variables, you can use literals inside the brackets.\n",
    "Python will evaluate the expression and display the final result."
   ],
   "cell_type": "markdown",
   "metadata": {}
  },
  {
   "cell_type": "code",
   "execution_count": 6,
   "metadata": {},
   "outputs": [
    {
     "output_type": "stream",
     "name": "stdout",
     "text": [
      "4 * 4 is 16\n"
     ]
    }
   ],
   "source": [
    "print(f'4 * 4 is {4 *4}')"
   ]
  },
  {
   "source": [
    "One of most frequent usages of f-string is debugging. Before Python 3.8, many people would do hello = 42; f\"hello = {hello}\", but this is very repetitive. As a result, Python 3.8 brought a new feature. You can re-write that expression as f\"{hello=}\" and Python will display hello=42. The following example illustrates this using a function, but the principle is the same."
   ],
   "cell_type": "markdown",
   "metadata": {}
  },
  {
   "cell_type": "code",
   "execution_count": 8,
   "metadata": {},
   "outputs": [
    {
     "output_type": "stream",
     "name": "stdout",
     "text": [
      "magic_number() = 42\nmagic_number() = 42\n"
     ]
    }
   ],
   "source": [
    "def magic_number():\n",
    "    return 42\n",
    "\n",
    "# before 3.8\n",
    "print(f'magic_number() = {magic_number()}')\n",
    "# After 3.8\n",
    "print(f'{magic_number() = }')"
   ]
  },
  {
   "source": [
    "Format Numbers in Different Bases:\n",
    "f-strings also allow you to display an integer in different bases. For example, you can display an int as binary without converting it by using the b option."
   ],
   "cell_type": "markdown",
   "metadata": {}
  },
  {
   "cell_type": "code",
   "execution_count": 16,
   "metadata": {},
   "outputs": [
    {
     "output_type": "stream",
     "name": "stdout",
     "text": [
      "0b11011\n11011\n0x1b\n1b\n0o33\n33\n"
     ]
    }
   ],
   "source": [
    "n = 27\n",
    "print(bin(n))\n",
    "print(f'{n:b}')\n",
    "\n",
    "print(hex(n))\n",
    "print(f'{n:x}')\n",
    "\n",
    "print(oct(n))\n",
    "print(f'{n:o}')"
   ]
  },
  {
   "source": [
    "Print Formatted Objects With F-Strings: You can print custom objects using f-strings. By default, when you pass an object instance to a f-string, it will display what the `__str__` method returns. However, you can also use the explicit conversion flag to display the `__repr__`\n",
    "\n",
    "!r - converts the value to a string using repr(). <br>\n",
    "!s - converts the value to a string using str()."
   ],
   "cell_type": "markdown",
   "metadata": {}
  },
  {
   "cell_type": "code",
   "execution_count": 21,
   "metadata": {},
   "outputs": [
    {
     "output_type": "stream",
     "name": "stdout",
     "text": [
      "A RGB Color\nColor(r=123,g=32,b=255)\n"
     ]
    }
   ],
   "source": [
    "class Color:\n",
    "    def __init__(self, r, g, b):\n",
    "        self.r = r\n",
    "        self.g = g\n",
    "        self.b = b\n",
    "    \n",
    "    def __str__(self):\n",
    "        return 'A RGB Color'\n",
    "\n",
    "    def __repr__(self):\n",
    "        return f'Color(r={self.r},g={self.g},b={self.b})'\n",
    "\n",
    "c = Color(123,32,255)\n",
    "# When no option is passed, the __str__ result is printed\n",
    "print(f'{c!s}')\n",
    "# When `obj!r` is used, the __repr__ output is printed\n",
    "print(f'{c!r}')\n"
   ]
  },
  {
   "source": [
    "There's also the `!a` option that escapes non-ASCII chars"
   ],
   "cell_type": "markdown",
   "metadata": {}
  },
  {
   "cell_type": "code",
   "execution_count": 22,
   "metadata": {},
   "outputs": [
    {
     "output_type": "stream",
     "name": "stdout",
     "text": [
      "Áeiöu\n'\\xc1ei\\xf6u'\n"
     ]
    }
   ],
   "source": [
    "utf_str = 'Áeiöu'\n",
    "print(utf_str)\n",
    "print(f'{utf_str!a}')"
   ]
  },
  {
   "source": [
    " F-Strings to Format a Float"
   ],
   "cell_type": "markdown",
   "metadata": {}
  },
  {
   "cell_type": "code",
   "execution_count": 24,
   "metadata": {},
   "outputs": [
    {
     "output_type": "stream",
     "name": "stdout",
     "text": [
      "4.123956\n4.12\n"
     ]
    }
   ],
   "source": [
    "num = 4.123956\n",
    "print(num) # if we don't specify, the float variable will use full precision\n",
    "print(f'{num:0.2f}')"
   ]
  },
  {
   "source": [
    "Format a Number as Percentage"
   ],
   "cell_type": "markdown",
   "metadata": {}
  },
  {
   "cell_type": "code",
   "execution_count": 29,
   "metadata": {},
   "outputs": [
    {
     "output_type": "stream",
     "name": "stdout",
     "text": [
      "39.080460%\n39.08%\n"
     ]
    }
   ],
   "source": [
    "total = 87\n",
    "true_pos = 34\n",
    "perc = true_pos / total\n",
    "print(f'{perc:%}')\n",
    "print(f'{perc:.2%}')"
   ]
  },
  {
   "source": [
    "Justify or Add Padding to a F-String"
   ],
   "cell_type": "markdown",
   "metadata": {}
  },
  {
   "cell_type": "code",
   "execution_count": 37,
   "metadata": {},
   "outputs": [
    {
     "output_type": "stream",
     "name": "stdout",
     "text": [
      "She says_____Hello\nShe saysHello_____\nShe saysHello     \nShe says__Hello___\n"
     ]
    }
   ],
   "source": [
    "greetings = 'Hello'\n",
    "# right padding\n",
    "print(f'She says{greetings:_>10}')\n",
    "\n",
    "# left padding\n",
    "print(f'She says{greetings:_<10}')\n",
    "# < can be omitted\n",
    "print(f'She says{greetings:10}')\n",
    "\n",
    "# center\n",
    "print(f'She says{greetings:_^10}')"
   ]
  },
  {
   "source": [
    "In case you want to display the variable name surrounded by the curly brackets instead of rendering its value, you can escape it using double `{{<expr>}}`.\n"
   ],
   "cell_type": "markdown",
   "metadata": {}
  },
  {
   "cell_type": "code",
   "execution_count": 39,
   "metadata": {},
   "outputs": [
    {
     "output_type": "stream",
     "name": "stdout",
     "text": [
      "{hello} = Python\n"
     ]
    }
   ],
   "source": [
    "hello = 'Python'\n",
    "x = f'{{hello}} = {hello}'\n",
    "print(x)"
   ]
  },
  {
   "source": [
    "Add a Thousand Separator"
   ],
   "cell_type": "markdown",
   "metadata": {}
  },
  {
   "cell_type": "code",
   "execution_count": 43,
   "metadata": {},
   "outputs": [
    {
     "output_type": "stream",
     "name": "stdout",
     "text": [
      "123456789\n123_456_789\n"
     ]
    }
   ],
   "source": [
    "big_num = 123456789\n",
    "print(big_num)\n",
    "print(f'{big_num:_}')"
   ]
  },
  {
   "source": [
    " Format a Number With Commas as Decimal Separator"
   ],
   "cell_type": "markdown",
   "metadata": {}
  },
  {
   "cell_type": "code",
   "execution_count": 48,
   "metadata": {},
   "outputs": [
    {
     "output_type": "stream",
     "name": "stdout",
     "text": [
      "2343552.6516251625\n2,343,552.6516251625\n2,343,552.65\n"
     ]
    }
   ],
   "source": [
    "big_num = 2343552.6516251625\n",
    "print(big_num)\n",
    "print(f'{big_num:,}')\n",
    "print(f'{big_num:,.2f}')"
   ]
  },
  {
   "source": [
    "What about using spaces instead?"
   ],
   "cell_type": "markdown",
   "metadata": {}
  },
  {
   "cell_type": "code",
   "execution_count": 50,
   "metadata": {},
   "outputs": [
    {
     "output_type": "stream",
     "name": "stdout",
     "text": [
      "1 234 567 890\n"
     ]
    }
   ],
   "source": [
    "big_num = 1234567890\n",
    "x = f\"{big_num:,}\".replace(',', ' ')\n",
    "print(x)"
   ]
  },
  {
   "source": [
    "Number in Scientific Notation "
   ],
   "cell_type": "markdown",
   "metadata": {}
  },
  {
   "cell_type": "code",
   "execution_count": 52,
   "metadata": {},
   "outputs": [
    {
     "output_type": "stream",
     "name": "stdout",
     "text": [
      "2.343553e+06\n2.34e+06\n"
     ]
    }
   ],
   "source": [
    "num = 2343552.6516251625\n",
    "print(f'{num:e}')\n",
    "print(f'{num:.2e}')"
   ]
  },
  {
   "source": [
    "Using if-else Conditional in a F-String"
   ],
   "cell_type": "markdown",
   "metadata": {}
  },
  {
   "cell_type": "code",
   "execution_count": 54,
   "metadata": {},
   "outputs": [
    {
     "output_type": "stream",
     "name": "stdout",
     "text": [
      "this is a\n"
     ]
    }
   ],
   "source": [
    "a = 'this is a'\n",
    "b = 'this is b'\n",
    "\n",
    "res = f'{a if 10 > 5 else b}'\n",
    "print(res)"
   ]
  },
  {
   "source": [
    "F-String With a Dictionary"
   ],
   "cell_type": "markdown",
   "metadata": {}
  },
  {
   "cell_type": "code",
   "execution_count": 57,
   "metadata": {},
   "outputs": [
    {
     "output_type": "stream",
     "name": "stdout",
     "text": [
      "123\n"
     ]
    }
   ],
   "source": [
    "color = {\"R\": 123, \"G\": 145, \"B\": 255}\n",
    "print(f\"{color['R']}\")"
   ]
  },
  {
   "source": [
    "Concatenate F-Strings"
   ],
   "cell_type": "markdown",
   "metadata": {}
  },
  {
   "cell_type": "code",
   "execution_count": 60,
   "metadata": {},
   "outputs": [
    {
     "output_type": "stream",
     "name": "stdout",
     "text": [
      "13 45\n"
     ]
    }
   ],
   "source": [
    "print(\" \".join((f\"{13}\", f\"{45}\")))"
   ]
  },
  {
   "source": [
    "Format a Date With F-String"
   ],
   "cell_type": "markdown",
   "metadata": {}
  },
  {
   "cell_type": "code",
   "execution_count": 72,
   "metadata": {},
   "outputs": [
    {
     "output_type": "stream",
     "name": "stdout",
     "text": [
      "2021-10-04 21:46:47.988633\n2021-10-04 21:46:47\n2021-09-24 21:46:47.988633\n2021-09-24 21:46:47\n"
     ]
    }
   ],
   "source": [
    "import datetime\n",
    "\n",
    "now = datetime.datetime.now()\n",
    "ten_days_ago = now - datetime.timedelta(days=10)\n",
    "print(now)\n",
    "print(f'{now:%Y-%m-%d %H:%M:%S}')\n",
    "print(ten_days_ago)\n",
    "print(f'{ten_days_ago:%Y-%m-%d %H:%M:%S}')"
   ]
  },
  {
   "cell_type": "code",
   "execution_count": 73,
   "metadata": {},
   "outputs": [
    {
     "output_type": "stream",
     "name": "stdout",
     "text": [
      "3.8.4 (tags/v3.8.4:dfa645a, Jul 13 2020, 16:30:28) [MSC v.1926 32 bit (Intel)]\n"
     ]
    }
   ],
   "source": [
    "import sys\n",
    "print(sys.version)"
   ]
  },
  {
   "source": [
    "Add Leading Zeros: You can add leading zeros by adding using the format `{expr:0len}` where len is the length of the returned string. You can include a sign option. In this instance, `+` means the sign should be used for positive and negative numbers. The `-` is used only for negative numbers, which is the default behavior."
   ],
   "cell_type": "markdown",
   "metadata": {}
  },
  {
   "cell_type": "code",
   "execution_count": 83,
   "metadata": {},
   "outputs": [
    {
     "output_type": "stream",
     "name": "stdout",
     "text": [
      "00042\n@@@42\n00042\n+0042\n===============\n-0025\n@@-25\n-0025\n-0025\n"
     ]
    }
   ],
   "source": [
    "num = 42\n",
    "print(f'{num:05}')\n",
    "print(f'{num:@>5}')\n",
    "\n",
    "print(f'{num:-05}')\n",
    "print(f'{num:+05}')\n",
    "\n",
    "print('===============')\n",
    "\n",
    "num = -25\n",
    "print(f'{num:05}')\n",
    "print(f'{num:@>5}')\n",
    "\n",
    "print(f'{num:-05}')\n",
    "print(f'{num:+05}')"
   ]
  },
  {
   "source": [
    " Format a Multiline F-String (Dealing with New Lines and Variables)"
   ],
   "cell_type": "markdown",
   "metadata": {}
  },
  {
   "cell_type": "code",
   "execution_count": 92,
   "metadata": {},
   "outputs": [
    {
     "output_type": "stream",
     "name": "stdout",
     "text": [
      "R: 123\nG: 145\nB: 255\n\nR: 123\nG: 145\nB: 255\n\nR: 123\nG: 145\nB: 255\n\n"
     ]
    }
   ],
   "source": [
    "multi_line = (f'R: {color[\"R\"]}\\nG: {color[\"G\"]}\\nB: {color[\"B\"]}\\n')\n",
    "print(multi_line)\n",
    "\n",
    "x = (f'R: {color[\"R\"]}\\n' \n",
    "f'G: {color[\"G\"]}\\n' \n",
    "f'B: {color[\"B\"]}\\n')\n",
    "print(x)\n",
    "\n",
    "y = f'R: {color[\"R\"]}\\n' \\\n",
    "f'G: {color[\"G\"]}\\n' \\\n",
    "f'B: {color[\"B\"]}\\n'\n",
    "print(y)"
   ]
  }
 ]
}