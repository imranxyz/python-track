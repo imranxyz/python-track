{
 "cells": [
  {
   "cell_type": "markdown",
   "metadata": {},
   "source": [
    "- Video -- [Python Unit Testing with Pytest and Mock](https://www.youtube.com/watch?v=DJoffYEPttY)\n",
    "- GitHub -- [Repo](https://github.com/dev-skill-up/pycon-2021-testing)\n",
    "\n",
    "> #### Earn deep knowledge about Mock"
   ]
  },
  {
   "cell_type": "code",
   "execution_count": 4,
   "metadata": {},
   "outputs": [],
   "source": [
    "import ipytest\n",
    "ipytest.autoconfig()"
   ]
  },
  {
   "cell_type": "code",
   "execution_count": 10,
   "metadata": {},
   "outputs": [
    {
     "name": "stdout",
     "output_type": "stream",
     "text": [
      "\u001b[31mF\u001b[0m\u001b[31mF\u001b[0m\u001b[31m                                                                                           [100%]\u001b[0m\n",
      "============================================ FAILURES =============================================\n",
      "\u001b[31m\u001b[1m________________________________________ test_something[1] ________________________________________\u001b[0m\n",
      "\n",
      "value = 1\n",
      "\n",
      "    \u001b[37m@pytest\u001b[39;49;00m.mark.parametrize(\u001b[33m'\u001b[39;49;00m\u001b[33mvalue\u001b[39;49;00m\u001b[33m'\u001b[39;49;00m, [\u001b[94m1\u001b[39;49;00m, \u001b[94m2\u001b[39;49;00m])\n",
      "    \u001b[94mdef\u001b[39;49;00m \u001b[92mtest_something\u001b[39;49;00m(value):\n",
      ">       \u001b[94massert\u001b[39;49;00m value != value\n",
      "\u001b[1m\u001b[31mE       assert 1 != 1\u001b[0m\n",
      "\n",
      "\u001b[1m\u001b[31mC:\\Users\\imran\\AppData\\Local\\Temp\\ipykernel_6256\\1251942630.py\u001b[0m:5: AssertionError\n",
      "\u001b[31m\u001b[1m________________________________________ test_something[2] ________________________________________\u001b[0m\n",
      "\n",
      "value = 2\n",
      "\n",
      "    \u001b[37m@pytest\u001b[39;49;00m.mark.parametrize(\u001b[33m'\u001b[39;49;00m\u001b[33mvalue\u001b[39;49;00m\u001b[33m'\u001b[39;49;00m, [\u001b[94m1\u001b[39;49;00m, \u001b[94m2\u001b[39;49;00m])\n",
      "    \u001b[94mdef\u001b[39;49;00m \u001b[92mtest_something\u001b[39;49;00m(value):\n",
      ">       \u001b[94massert\u001b[39;49;00m value != value\n",
      "\u001b[1m\u001b[31mE       assert 2 != 2\u001b[0m\n",
      "\n",
      "\u001b[1m\u001b[31mC:\\Users\\imran\\AppData\\Local\\Temp\\ipykernel_6256\\1251942630.py\u001b[0m:5: AssertionError\n",
      "===================================== short test summary info =====================================\n",
      "FAILED tmp2tmyy22e.py::test_something[1] - assert 1 != 1\n",
      "FAILED tmp2tmyy22e.py::test_something[2] - assert 2 != 2\n",
      "\u001b[31m\u001b[31m\u001b[1m2 failed\u001b[0m\u001b[31m in 0.03s\u001b[0m\u001b[0m\n"
     ]
    }
   ],
   "source": [
    "%%ipytest\n",
    "\n",
    "import pytest\n",
    "\n",
    "@pytest.mark.parametrize('value', [1, 2])\n",
    "def test_something(value):\n",
    "    assert value != value"
   ]
  },
  {
   "cell_type": "code",
   "execution_count": 12,
   "metadata": {},
   "outputs": [
    {
     "name": "stdout",
     "output_type": "stream",
     "text": [
      "\u001b[1m======================================= test session starts =======================================\u001b[0m\n",
      "platform win32 -- Python 3.10.1, pytest-7.0.1, pluggy-1.0.0 -- C:\\Users\\imran\\.virtualenvs\\Python_Unit_testing_with_Pytest-S04JhjuQ\\Scripts\\python.exe\n",
      "cachedir: .pytest_cache\n",
      "rootdir: d:\\👨‍💻 Work-Station\\🐍 Python Track\\📢 Conf & Workshop\\Workshop\\Testing\\Python Unit testing with Pytest\n",
      "\u001b[1mcollecting ... \u001b[0mcollected 1 item\n",
      "\n",
      "tmpnxalti37.py::test_example \u001b[31mFAILED\u001b[0m\u001b[31m                                                          [100%]\u001b[0m\n",
      "\n",
      "============================================ FAILURES =============================================\n",
      "\u001b[31m\u001b[1m__________________________________________ test_example ___________________________________________\u001b[0m\n",
      "\n",
      "    \u001b[94mdef\u001b[39;49;00m \u001b[92mtest_example\u001b[39;49;00m():\n",
      ">       \u001b[94massert\u001b[39;49;00m \u001b[94m1\u001b[39;49;00m+\u001b[94m1\u001b[39;49;00m == \u001b[94m1\u001b[39;49;00m\n",
      "\u001b[1m\u001b[31mE       assert 2 == 1\u001b[0m\n",
      "\u001b[1m\u001b[31mE         +2\u001b[0m\n",
      "\u001b[1m\u001b[31mE         -1\u001b[0m\n",
      "\n",
      "\u001b[1m\u001b[31mC:\\Users\\imran\\AppData\\Local\\Temp\\ipykernel_6256\\1283981092.py\u001b[0m:2: AssertionError\n",
      "===================================== short test summary info =====================================\n",
      "FAILED tmpnxalti37.py::test_example - assert 2 == 1\n",
      "\u001b[31m======================================== \u001b[31m\u001b[1m1 failed\u001b[0m\u001b[31m in 0.03s\u001b[0m\u001b[31m ========================================\u001b[0m\n"
     ]
    }
   ],
   "source": [
    "%%ipytest -vv\n",
    "\n",
    "def test_example():\n",
    "    assert 1+1 == 1\n"
   ]
  },
  {
   "cell_type": "code",
   "execution_count": 17,
   "metadata": {},
   "outputs": [
    {
     "name": "stdout",
     "output_type": "stream",
     "text": [
      "AssertionError('assert 1 == 0')\n"
     ]
    }
   ],
   "source": [
    "try:\n",
    "    assert 1 == 0\n",
    "except AssertionError as e:\n",
    "    print(repr(e))"
   ]
  },
  {
   "cell_type": "code",
   "execution_count": 18,
   "metadata": {},
   "outputs": [
    {
     "name": "stdout",
     "output_type": "stream",
     "text": [
      "AssertionError('Not same\\nassert 1 == 0')\n"
     ]
    }
   ],
   "source": [
    "try:\n",
    "    assert 1 == 0, \"Not same\"\n",
    "except AssertionError as e:\n",
    "    print(repr(e))"
   ]
  },
  {
   "cell_type": "code",
   "execution_count": 19,
   "metadata": {},
   "outputs": [
    {
     "name": "stdout",
     "output_type": "stream",
     "text": [
      "\u001b[1m======================================= test session starts =======================================\u001b[0m\n",
      "platform win32 -- Python 3.10.1, pytest-7.0.1, pluggy-1.0.0 -- C:\\Users\\imran\\.virtualenvs\\Python_Unit_testing_with_Pytest-S04JhjuQ\\Scripts\\python.exe\n",
      "cachedir: .pytest_cache\n",
      "rootdir: d:\\👨‍💻 Work-Station\\🐍 Python Track\\📢 Conf & Workshop\\Workshop\\Testing\\Python Unit testing with Pytest\n",
      "\u001b[1mcollecting ... \u001b[0mcollected 1 item\n",
      "\n",
      "tmpuexsghle.py::test_equality \u001b[31mFAILED\u001b[0m\u001b[31m                                                         [100%]\u001b[0m\n",
      "\n",
      "============================================ FAILURES =============================================\n",
      "\u001b[31m\u001b[1m__________________________________________ test_equality __________________________________________\u001b[0m\n",
      "\n",
      "    \u001b[94mdef\u001b[39;49;00m \u001b[92mtest_equality\u001b[39;49;00m():\n",
      ">       \u001b[94massert\u001b[39;49;00m \u001b[94m1\u001b[39;49;00m == \u001b[94m0\u001b[39;49;00m\n",
      "\u001b[1m\u001b[31mE       assert 1 == 0\u001b[0m\n",
      "\u001b[1m\u001b[31mE         +1\u001b[0m\n",
      "\u001b[1m\u001b[31mE         -0\u001b[0m\n",
      "\n",
      "\u001b[1m\u001b[31mC:\\Users\\imran\\AppData\\Local\\Temp\\ipykernel_6256\\2925785038.py\u001b[0m:2: AssertionError\n",
      "===================================== short test summary info =====================================\n",
      "FAILED tmpuexsghle.py::test_equality - assert 1 == 0\n",
      "\u001b[31m======================================== \u001b[31m\u001b[1m1 failed\u001b[0m\u001b[31m in 0.04s\u001b[0m\u001b[31m ========================================\u001b[0m\n"
     ]
    }
   ],
   "source": [
    "%%ipytest -vv\n",
    "\n",
    "def test_equality():\n",
    "    assert 1 == 0\n"
   ]
  },
  {
   "cell_type": "code",
   "execution_count": 21,
   "metadata": {},
   "outputs": [
    {
     "name": "stdout",
     "output_type": "stream",
     "text": [
      "\u001b[1m======================================= test session starts =======================================\u001b[0m\n",
      "platform win32 -- Python 3.10.1, pytest-7.0.1, pluggy-1.0.0 -- C:\\Users\\imran\\.virtualenvs\\Python_Unit_testing_with_Pytest-S04JhjuQ\\Scripts\\python.exe\n",
      "cachedir: .pytest_cache\n",
      "rootdir: d:\\👨‍💻 Work-Station\\🐍 Python Track\\📢 Conf & Workshop\\Workshop\\Testing\\Python Unit testing with Pytest\n",
      "\u001b[1mcollecting ... \u001b[0mcollected 3 items\n",
      "\n",
      "tmp3rfvea68.py::test_error \u001b[31mFAILED\u001b[0m\u001b[31m                                                            [ 33%]\u001b[0m\n",
      "tmp3rfvea68.py::test_succeed \u001b[32mPASSED\u001b[0m\u001b[31m                                                          [ 66%]\u001b[0m\n",
      "tmp3rfvea68.py::test_fail \u001b[31mFAILED\u001b[0m\u001b[31m                                                             [100%]\u001b[0m\n",
      "\n",
      "============================================ FAILURES =============================================\n",
      "\u001b[31m\u001b[1m___________________________________________ test_error ____________________________________________\u001b[0m\n",
      "\n",
      "    \u001b[94mdef\u001b[39;49;00m \u001b[92mtest_error\u001b[39;49;00m():\n",
      ">       \u001b[94massert\u001b[39;49;00m \u001b[94m0\u001b[39;49;00m == \u001b[94m1\u001b[39;49;00m\n",
      "\u001b[1m\u001b[31mE       assert 0 == 1\u001b[0m\n",
      "\u001b[1m\u001b[31mE         +0\u001b[0m\n",
      "\u001b[1m\u001b[31mE         -1\u001b[0m\n",
      "\n",
      "\u001b[1m\u001b[31mC:\\Users\\imran\\AppData\\Local\\Temp\\ipykernel_6256\\3215780094.py\u001b[0m:2: AssertionError\n",
      "\u001b[31m\u001b[1m____________________________________________ test_fail ____________________________________________\u001b[0m\n",
      "\n",
      "    \u001b[94mdef\u001b[39;49;00m \u001b[92mtest_fail\u001b[39;49;00m():\n",
      ">       \u001b[94massert\u001b[39;49;00m \u001b[94m1\u001b[39;49;00m / \u001b[94m0\u001b[39;49;00m == \u001b[94m0\u001b[39;49;00m\n",
      "\u001b[1m\u001b[31mE       ZeroDivisionError: division by zero\u001b[0m\n",
      "\n",
      "\u001b[1m\u001b[31mC:\\Users\\imran\\AppData\\Local\\Temp\\ipykernel_6256\\3215780094.py\u001b[0m:8: ZeroDivisionError\n",
      "===================================== short test summary info =====================================\n",
      "FAILED tmp3rfvea68.py::test_error - assert 0 == 1\n",
      "FAILED tmp3rfvea68.py::test_fail - ZeroDivisionError: division by zero\n",
      "\u001b[31m=================================== \u001b[31m\u001b[1m2 failed\u001b[0m, \u001b[32m1 passed\u001b[0m\u001b[31m in 0.10s\u001b[0m\u001b[31m ===================================\u001b[0m\n"
     ]
    }
   ],
   "source": [
    "%%ipytest -vv \n",
    "\n",
    "def test_error():\n",
    "    assert 0 == 1\n",
    "\n",
    "def test_succeed():\n",
    "    assert 1 == 1\n",
    "\n",
    "def test_fail():\n",
    "    assert 1 / 0 == 0\n"
   ]
  },
  {
   "cell_type": "code",
   "execution_count": 23,
   "metadata": {},
   "outputs": [
    {
     "name": "stdout",
     "output_type": "stream",
     "text": [
      "\u001b[1m======================================= test session starts =======================================\u001b[0m\n",
      "platform win32 -- Python 3.10.1, pytest-7.0.1, pluggy-1.0.0 -- C:\\Users\\imran\\.virtualenvs\\Python_Unit_testing_with_Pytest-S04JhjuQ\\Scripts\\python.exe\n",
      "cachedir: .pytest_cache\n",
      "rootdir: d:\\👨‍💻 Work-Station\\🐍 Python Track\\📢 Conf & Workshop\\Workshop\\Testing\\Python Unit testing with Pytest\n",
      "\u001b[1mcollecting ... \u001b[0mcollected 1 item\n",
      "\n",
      "tmpr29ejehx.py::test__add \u001b[31mFAILED\u001b[0m\u001b[31m                                                             [100%]\u001b[0m\n",
      "\n",
      "============================================ FAILURES =============================================\n",
      "\u001b[31m\u001b[1m____________________________________________ test__add ____________________________________________\u001b[0m\n",
      "\n",
      "    \u001b[94mdef\u001b[39;49;00m \u001b[92mtest__add\u001b[39;49;00m():\n",
      ">       \u001b[94massert\u001b[39;49;00m add(\u001b[94m3\u001b[39;49;00m, \u001b[94m7\u001b[39;49;00m) == \u001b[94m10\u001b[39;49;00m\n",
      "\u001b[1m\u001b[31mE       assert 10.1 == 10\u001b[0m\n",
      "\u001b[1m\u001b[31mE         +10.1\u001b[0m\n",
      "\u001b[1m\u001b[31mE         -10\u001b[0m\n",
      "\n",
      "\u001b[1m\u001b[31mC:\\Users\\imran\\AppData\\Local\\Temp\\ipykernel_6256\\2379940201.py\u001b[0m:9: AssertionError\n",
      "===================================== short test summary info =====================================\n",
      "FAILED tmpr29ejehx.py::test__add - assert 10.1 == 10\n",
      "\u001b[31m======================================== \u001b[31m\u001b[1m1 failed\u001b[0m\u001b[31m in 0.03s\u001b[0m\u001b[31m ========================================\u001b[0m\n"
     ]
    }
   ],
   "source": [
    "%%ipytest -vv\n",
    "\n",
    "def add(a, b):\n",
    "    result = 0.1\n",
    "    result += a \n",
    "    result += b \n",
    "    return result\n",
    "\n",
    "\n",
    "def test__add():\n",
    "    assert add(3, 7) == 10"
   ]
  },
  {
   "cell_type": "markdown",
   "metadata": {},
   "source": [
    "This example contais few lines of code, but still has some subtleties to unpacek\n",
    "\n",
    "- the test was comapring `add()` to the expected result\n",
    "- test doesn't care about the implementation of `add()`"
   ]
  },
  {
   "cell_type": "code",
   "execution_count": 26,
   "metadata": {},
   "outputs": [
    {
     "name": "stdout",
     "output_type": "stream",
     "text": [
      "\u001b[1m======================================= test session starts =======================================\u001b[0m\n",
      "platform win32 -- Python 3.10.1, pytest-7.0.1, pluggy-1.0.0 -- C:\\Users\\imran\\.virtualenvs\\Python_Unit_testing_with_Pytest-S04JhjuQ\\Scripts\\python.exe\n",
      "cachedir: .pytest_cache\n",
      "rootdir: d:\\👨‍💻 Work-Station\\🐍 Python Track\\📢 Conf & Workshop\\Workshop\\Testing\\Python Unit testing with Pytest\n",
      "\u001b[1mcollecting ... \u001b[0mcollected 1 item\n",
      "\n",
      "tmprihf93a1.py::test__add \u001b[31mFAILED\u001b[0m\u001b[31m                                                             [100%]\u001b[0m\n",
      "\n",
      "============================================ FAILURES =============================================\n",
      "\u001b[31m\u001b[1m____________________________________________ test__add ____________________________________________\u001b[0m\n",
      "\n",
      "    \u001b[94mdef\u001b[39;49;00m \u001b[92mtest__add\u001b[39;49;00m():\n",
      ">       \u001b[94massert\u001b[39;49;00m \u001b[94m7\u001b[39;49;00m == add(\u001b[94m3\u001b[39;49;00m, \u001b[94m4\u001b[39;49;00m)\n",
      "\u001b[1m\u001b[31mE       assert 7 == 7.1\u001b[0m\n",
      "\u001b[1m\u001b[31mE         +7\u001b[0m\n",
      "\u001b[1m\u001b[31mE         -7.1\u001b[0m\n",
      "\n",
      "\u001b[1m\u001b[31mC:\\Users\\imran\\AppData\\Local\\Temp\\ipykernel_6256\\3604898171.py\u001b[0m:9: AssertionError\n",
      "===================================== short test summary info =====================================\n",
      "FAILED tmprihf93a1.py::test__add - assert 7 == 7.1\n",
      "\u001b[31m======================================== \u001b[31m\u001b[1m1 failed\u001b[0m\u001b[31m in 0.04s\u001b[0m\u001b[31m ========================================\u001b[0m\n"
     ]
    }
   ],
   "source": [
    "%%ipytest -vv \n",
    "\n",
    "def add(a, b):\n",
    "    return (\n",
    "        a + \n",
    "        b + \n",
    "        0.1\n",
    "    )\n",
    "\n",
    "def test__add():\n",
    "    assert 7 == add(3, 4)"
   ]
  },
  {
   "cell_type": "code",
   "execution_count": 29,
   "metadata": {},
   "outputs": [
    {
     "name": "stdout",
     "output_type": "stream",
     "text": [
      "\u001b[1m======================================= test session starts =======================================\u001b[0m\n",
      "platform win32 -- Python 3.10.1, pytest-7.0.1, pluggy-1.0.0 -- C:\\Users\\imran\\.virtualenvs\\Python_Unit_testing_with_Pytest-S04JhjuQ\\Scripts\\python.exe\n",
      "cachedir: .pytest_cache\n",
      "rootdir: d:\\👨‍💻 Work-Station\\🐍 Python Track\\📢 Conf & Workshop\\Workshop\\Testing\\Python Unit testing with Pytest\n",
      "\u001b[1mcollecting ... \u001b[0mcollected 1 item\n",
      "\n",
      "tmp54hd3v9h.py::test__missing \u001b[31mFAILED\u001b[0m\u001b[31m                                                         [100%]\u001b[0m\n",
      "\n",
      "============================================ FAILURES =============================================\n",
      "\u001b[31m\u001b[1m__________________________________________ test__missing __________________________________________\u001b[0m\n",
      "\n",
      "    \u001b[94mdef\u001b[39;49;00m \u001b[92mtest__missing\u001b[39;49;00m():\n",
      ">       \u001b[94massert\u001b[39;49;00m [] == [\u001b[94m1\u001b[39;49;00m]\n",
      "\u001b[1m\u001b[31mE       assert [] == [1]\u001b[0m\n",
      "\u001b[1m\u001b[31mE         Right contains one more item: 1\u001b[0m\n",
      "\u001b[1m\u001b[31mE         Full diff:\u001b[0m\n",
      "\u001b[1m\u001b[31mE         - [1]\u001b[0m\n",
      "\u001b[1m\u001b[31mE         ?  -\u001b[0m\n",
      "\u001b[1m\u001b[31mE         + []\u001b[0m\n",
      "\n",
      "\u001b[1m\u001b[31mC:\\Users\\imran\\AppData\\Local\\Temp\\ipykernel_6256\\2207433936.py\u001b[0m:2: AssertionError\n",
      "===================================== short test summary info =====================================\n",
      "FAILED tmp54hd3v9h.py::test__missing - assert [] == [1]\n",
      "\u001b[31m======================================== \u001b[31m\u001b[1m1 failed\u001b[0m\u001b[31m in 0.04s\u001b[0m\u001b[31m ========================================\u001b[0m\n"
     ]
    }
   ],
   "source": [
    "%%ipytest -vv\n",
    "\n",
    "def test__missing():\n",
    "    assert [] == [1]"
   ]
  },
  {
   "cell_type": "code",
   "execution_count": 31,
   "metadata": {},
   "outputs": [
    {
     "name": "stdout",
     "output_type": "stream",
     "text": [
      "\u001b[1m======================================= test session starts =======================================\u001b[0m\n",
      "platform win32 -- Python 3.10.1, pytest-7.0.1, pluggy-1.0.0 -- C:\\Users\\imran\\.virtualenvs\\Python_Unit_testing_with_Pytest-S04JhjuQ\\Scripts\\python.exe\n",
      "cachedir: .pytest_cache\n",
      "rootdir: d:\\👨‍💻 Work-Station\\🐍 Python Track\\📢 Conf & Workshop\\Workshop\\Testing\\Python Unit testing with Pytest\n",
      "\u001b[1mcollecting ... \u001b[0mcollected 1 item\n",
      "\n",
      "tmp6x3i4d9b.py::test__missing_ \u001b[31mFAILED\u001b[0m\u001b[31m                                                        [100%]\u001b[0m\n",
      "\n",
      "============================================ FAILURES =============================================\n",
      "\u001b[31m\u001b[1m_________________________________________ test__missing_ __________________________________________\u001b[0m\n",
      "\n",
      "    \u001b[94mdef\u001b[39;49;00m \u001b[92mtest__missing_\u001b[39;49;00m():\n",
      ">       \u001b[94massert\u001b[39;49;00m [\u001b[94m1\u001b[39;49;00m, \u001b[94m2\u001b[39;49;00m] == [\u001b[94m1\u001b[39;49;00m]\n",
      "\u001b[1m\u001b[31mE       assert [1, 2] == [1]\u001b[0m\n",
      "\u001b[1m\u001b[31mE         Left contains one more item: 2\u001b[0m\n",
      "\u001b[1m\u001b[31mE         Full diff:\u001b[0m\n",
      "\u001b[1m\u001b[31mE         - [1]\u001b[0m\n",
      "\u001b[1m\u001b[31mE         + [1, 2]\u001b[0m\n",
      "\n",
      "\u001b[1m\u001b[31mC:\\Users\\imran\\AppData\\Local\\Temp\\ipykernel_6256\\2030507898.py\u001b[0m:2: AssertionError\n",
      "===================================== short test summary info =====================================\n",
      "FAILED tmp6x3i4d9b.py::test__missing_ - assert [1, 2] == [1]\n",
      "\u001b[31m======================================== \u001b[31m\u001b[1m1 failed\u001b[0m\u001b[31m in 0.03s\u001b[0m\u001b[31m ========================================\u001b[0m\n"
     ]
    }
   ],
   "source": [
    "%%ipytest -vv\n",
    "\n",
    "def test__missing_():\n",
    "    assert [1, 2] == [1]"
   ]
  },
  {
   "cell_type": "code",
   "execution_count": 34,
   "metadata": {},
   "outputs": [
    {
     "name": "stdout",
     "output_type": "stream",
     "text": [
      "\u001b[1m======================================= test session starts =======================================\u001b[0m\n",
      "platform win32 -- Python 3.10.1, pytest-7.0.1, pluggy-1.0.0 -- C:\\Users\\imran\\.virtualenvs\\Python_Unit_testing_with_Pytest-S04JhjuQ\\Scripts\\python.exe\n",
      "cachedir: .pytest_cache\n",
      "rootdir: d:\\👨‍💻 Work-Station\\🐍 Python Track\\📢 Conf & Workshop\\Workshop\\Testing\\Python Unit testing with Pytest\n",
      "\u001b[1mcollecting ... \u001b[0mcollected 1 item\n",
      "\n",
      "tmp64cn45t_.py::test_different \u001b[32mPASSED\u001b[0m\u001b[32m                                                        [100%]\u001b[0m\n",
      "\n",
      "\u001b[32m======================================== \u001b[32m\u001b[1m1 passed\u001b[0m\u001b[32m in 0.04s\u001b[0m\u001b[32m ========================================\u001b[0m\n"
     ]
    }
   ],
   "source": [
    "%%ipytest -vv\n",
    "\n",
    "def test_different():\n",
    "    assert [1, 2, 3] == [1, 2, 3]"
   ]
  },
  {
   "cell_type": "code",
   "execution_count": 35,
   "metadata": {},
   "outputs": [
    {
     "name": "stdout",
     "output_type": "stream",
     "text": [
      "\u001b[1m======================================= test session starts =======================================\u001b[0m\n",
      "platform win32 -- Python 3.10.1, pytest-7.0.1, pluggy-1.0.0 -- C:\\Users\\imran\\.virtualenvs\\Python_Unit_testing_with_Pytest-S04JhjuQ\\Scripts\\python.exe\n",
      "cachedir: .pytest_cache\n",
      "rootdir: d:\\👨‍💻 Work-Station\\🐍 Python Track\\📢 Conf & Workshop\\Workshop\\Testing\\Python Unit testing with Pytest\n",
      "\u001b[1mcollecting ... \u001b[0mcollected 1 item\n",
      "\n",
      "tmp64oz96z3.py::test_different \u001b[31mFAILED\u001b[0m\u001b[31m                                                        [100%]\u001b[0m\n",
      "\n",
      "============================================ FAILURES =============================================\n",
      "\u001b[31m\u001b[1m_________________________________________ test_different __________________________________________\u001b[0m\n",
      "\n",
      "    \u001b[94mdef\u001b[39;49;00m \u001b[92mtest_different\u001b[39;49;00m():\n",
      ">       \u001b[94massert\u001b[39;49;00m [\u001b[94m1\u001b[39;49;00m, \u001b[94m2\u001b[39;49;00m, \u001b[94m3\u001b[39;49;00m] == [\u001b[94m2\u001b[39;49;00m, \u001b[94m1\u001b[39;49;00m, \u001b[94m3\u001b[39;49;00m]\n",
      "\u001b[1m\u001b[31mE       assert [1, 2, 3] == [2, 1, 3]\u001b[0m\n",
      "\u001b[1m\u001b[31mE         At index 0 diff: 1 != 2\u001b[0m\n",
      "\u001b[1m\u001b[31mE         Full diff:\u001b[0m\n",
      "\u001b[1m\u001b[31mE         - [2, 1, 3]\u001b[0m\n",
      "\u001b[1m\u001b[31mE         + [1, 2, 3]\u001b[0m\n",
      "\n",
      "\u001b[1m\u001b[31mC:\\Users\\imran\\AppData\\Local\\Temp\\ipykernel_6256\\2652342145.py\u001b[0m:2: AssertionError\n",
      "===================================== short test summary info =====================================\n",
      "FAILED tmp64oz96z3.py::test_different - assert [1, 2, 3] == [2, 1, 3]\n",
      "\u001b[31m======================================== \u001b[31m\u001b[1m1 failed\u001b[0m\u001b[31m in 0.03s\u001b[0m\u001b[31m ========================================\u001b[0m\n"
     ]
    }
   ],
   "source": [
    "%%ipytest -vv\n",
    "\n",
    "def test_different():\n",
    "    assert [1, 2, 3] == [2, 1, 3]"
   ]
  },
  {
   "cell_type": "code",
   "execution_count": 36,
   "metadata": {},
   "outputs": [
    {
     "name": "stdout",
     "output_type": "stream",
     "text": [
      "\u001b[1m======================================= test session starts =======================================\u001b[0m\n",
      "platform win32 -- Python 3.10.1, pytest-7.0.1, pluggy-1.0.0 -- C:\\Users\\imran\\.virtualenvs\\Python_Unit_testing_with_Pytest-S04JhjuQ\\Scripts\\python.exe\n",
      "cachedir: .pytest_cache\n",
      "rootdir: d:\\👨‍💻 Work-Station\\🐍 Python Track\\📢 Conf & Workshop\\Workshop\\Testing\\Python Unit testing with Pytest\n",
      "\u001b[1mcollecting ... \u001b[0mcollected 1 item\n",
      "\n",
      "tmp6tj9oy8e.py::test__string \u001b[31mFAILED\u001b[0m\u001b[31m                                                          [100%]\u001b[0m\n",
      "\n",
      "============================================ FAILURES =============================================\n",
      "\u001b[31m\u001b[1m__________________________________________ test__string ___________________________________________\u001b[0m\n",
      "\n",
      "    \u001b[94mdef\u001b[39;49;00m \u001b[92mtest__string\u001b[39;49;00m():\n",
      ">       \u001b[94massert\u001b[39;49;00m \u001b[33m'\u001b[39;49;00m\u001b[33mhello\u001b[39;49;00m\u001b[33m\\n\u001b[39;49;00m\u001b[33mWorld\u001b[39;49;00m\u001b[33m'\u001b[39;49;00m == \u001b[33m'\u001b[39;49;00m\u001b[33mHelloWorld\u001b[39;49;00m\u001b[33m'\u001b[39;49;00m\n",
      "\u001b[1m\u001b[31mE       AssertionError: assert 'hello\\nWorld' == 'HelloWorld'\u001b[0m\n",
      "\u001b[1m\u001b[31mE         - HelloWorld\u001b[0m\n",
      "\u001b[1m\u001b[31mE         + hello\u001b[0m\n",
      "\u001b[1m\u001b[31mE         + World\u001b[0m\n",
      "\n",
      "\u001b[1m\u001b[31mC:\\Users\\imran\\AppData\\Local\\Temp\\ipykernel_6256\\637631746.py\u001b[0m:2: AssertionError\n",
      "===================================== short test summary info =====================================\n",
      "FAILED tmp6tj9oy8e.py::test__string - AssertionError: assert 'hello\\nWorld' == 'HelloWorld'\n",
      "\u001b[31m======================================== \u001b[31m\u001b[1m1 failed\u001b[0m\u001b[31m in 0.03s\u001b[0m\u001b[31m ========================================\u001b[0m\n"
     ]
    }
   ],
   "source": [
    "%%ipytest -vv\n",
    "\n",
    "def test__string():\n",
    "    assert 'hello\\nWorld' == 'HelloWorld'"
   ]
  },
  {
   "cell_type": "code",
   "execution_count": 38,
   "metadata": {},
   "outputs": [
    {
     "name": "stdout",
     "output_type": "stream",
     "text": [
      "\u001b[1m======================================= test session starts =======================================\u001b[0m\n",
      "platform win32 -- Python 3.10.1, pytest-7.0.1, pluggy-1.0.0 -- C:\\Users\\imran\\.virtualenvs\\Python_Unit_testing_with_Pytest-S04JhjuQ\\Scripts\\python.exe\n",
      "cachedir: .pytest_cache\n",
      "rootdir: d:\\👨‍💻 Work-Station\\🐍 Python Track\\📢 Conf & Workshop\\Workshop\\Testing\\Python Unit testing with Pytest\n",
      "\u001b[1mcollecting ... \u001b[0mcollected 1 item\n",
      "\n",
      "tmp1m11vahv.py::test__string \u001b[31mFAILED\u001b[0m\u001b[31m                                                          [100%]\u001b[0m\n",
      "\n",
      "============================================ FAILURES =============================================\n",
      "\u001b[31m\u001b[1m__________________________________________ test__string ___________________________________________\u001b[0m\n",
      "\n",
      "    \u001b[94mdef\u001b[39;49;00m \u001b[92mtest__string\u001b[39;49;00m():\n",
      "        str1 = \u001b[33m'\u001b[39;49;00m\u001b[33msaying \u001b[39;49;00m\u001b[33m'\u001b[39;49;00m*\u001b[94m10\u001b[39;49;00m + \u001b[33m'\u001b[39;49;00m\u001b[33mHelloWorld\u001b[39;49;00m\u001b[33m'\u001b[39;49;00m+ \u001b[33m'\u001b[39;49;00m\u001b[33m said\u001b[39;49;00m\u001b[33m'\u001b[39;49;00m\n",
      "        str2 = \u001b[33m'\u001b[39;49;00m\u001b[33msaying \u001b[39;49;00m\u001b[33m'\u001b[39;49;00m*\u001b[94m10\u001b[39;49;00m + \u001b[33m'\u001b[39;49;00m\u001b[33mGoodBye\u001b[39;49;00m\u001b[33m'\u001b[39;49;00m+ \u001b[33m'\u001b[39;49;00m\u001b[33m said\u001b[39;49;00m\u001b[33m'\u001b[39;49;00m\n",
      ">       \u001b[94massert\u001b[39;49;00m str1 == str2\n",
      "\u001b[1m\u001b[31mE       AssertionError: assert 'saying sayin...lloWorld said' == 'saying sayin... GoodBye said'\u001b[0m\n",
      "\u001b[1m\u001b[31mE         - saying saying saying saying saying saying saying saying saying saying GoodBye said\u001b[0m\n",
      "\u001b[1m\u001b[31mE         ?                                                                       ^   ---\u001b[0m\n",
      "\u001b[1m\u001b[31mE         + saying saying saying saying saying saying saying saying saying saying HelloWorld said\u001b[0m\n",
      "\u001b[1m\u001b[31mE         ?                                                                       ^^^^ + ++\u001b[0m\n",
      "\n",
      "\u001b[1m\u001b[31mC:\\Users\\imran\\AppData\\Local\\Temp\\ipykernel_6256\\3322219178.py\u001b[0m:4: AssertionError\n",
      "===================================== short test summary info =====================================\n",
      "FAILED tmp1m11vahv.py::test__string - AssertionError: assert 'saying sayin...lloWorld said' == 's...\n",
      "\u001b[31m======================================== \u001b[31m\u001b[1m1 failed\u001b[0m\u001b[31m in 0.06s\u001b[0m\u001b[31m ========================================\u001b[0m\n"
     ]
    }
   ],
   "source": [
    "%%ipytest -vv\n",
    "\n",
    "def test__string():\n",
    "    str1 = 'saying '*10 + 'HelloWorld'+ ' said'\n",
    "    str2 = 'saying '*10 + 'GoodBye'+ ' said'\n",
    "    assert str1 == str2"
   ]
  },
  {
   "cell_type": "code",
   "execution_count": 40,
   "metadata": {},
   "outputs": [
    {
     "name": "stdout",
     "output_type": "stream",
     "text": [
      "\u001b[1m======================================= test session starts =======================================\u001b[0m\n",
      "platform win32 -- Python 3.10.1, pytest-7.0.1, pluggy-1.0.0 -- C:\\Users\\imran\\.virtualenvs\\Python_Unit_testing_with_Pytest-S04JhjuQ\\Scripts\\python.exe\n",
      "cachedir: .pytest_cache\n",
      "rootdir: d:\\👨‍💻 Work-Station\\🐍 Python Track\\📢 Conf & Workshop\\Workshop\\Testing\\Python Unit testing with Pytest\n",
      "\u001b[1mcollecting ... \u001b[0mcollected 1 item\n",
      "\n",
      "tmpbvpd60aa.py::test__set \u001b[31mFAILED\u001b[0m\u001b[31m                                                             [100%]\u001b[0m\n",
      "\n",
      "============================================ FAILURES =============================================\n",
      "\u001b[31m\u001b[1m____________________________________________ test__set ____________________________________________\u001b[0m\n",
      "\n",
      "    \u001b[94mdef\u001b[39;49;00m \u001b[92mtest__set\u001b[39;49;00m():\n",
      ">       \u001b[94massert\u001b[39;49;00m \u001b[96mset\u001b[39;49;00m([\u001b[94m1\u001b[39;49;00m, \u001b[94m2\u001b[39;49;00m]) == \u001b[96mset\u001b[39;49;00m([\u001b[94m1\u001b[39;49;00m, \u001b[94m3\u001b[39;49;00m])\n",
      "\u001b[1m\u001b[31mE       AssertionError: assert {1, 2} == {1, 3}\u001b[0m\n",
      "\u001b[1m\u001b[31mE         Extra items in the left set:\u001b[0m\n",
      "\u001b[1m\u001b[31mE         2\u001b[0m\n",
      "\u001b[1m\u001b[31mE         Extra items in the right set:\u001b[0m\n",
      "\u001b[1m\u001b[31mE         3\u001b[0m\n",
      "\u001b[1m\u001b[31mE         Full diff:\u001b[0m\n",
      "\u001b[1m\u001b[31mE         - {1, 3}\u001b[0m\n",
      "\u001b[1m\u001b[31mE         ?     ^...\u001b[0m\n",
      "\u001b[1m\u001b[31mE         \u001b[0m\n",
      "\u001b[1m\u001b[31mE         ...Full output truncated (3 lines hidden), use '-vv' to show\u001b[0m\n",
      "\n",
      "\u001b[1m\u001b[31mC:\\Users\\imran\\AppData\\Local\\Temp\\ipykernel_6256\\4271179314.py\u001b[0m:2: AssertionError\n",
      "===================================== short test summary info =====================================\n",
      "FAILED tmpbvpd60aa.py::test__set - AssertionError: assert {1, 2} == {1, 3}\n",
      "\u001b[31m======================================== \u001b[31m\u001b[1m1 failed\u001b[0m\u001b[31m in 0.04s\u001b[0m\u001b[31m ========================================\u001b[0m\n"
     ]
    }
   ],
   "source": [
    "%%ipytest -vv\n",
    "\n",
    "def test__set():\n",
    "    assert set([1, 2]) == set([1, 3])\n"
   ]
  },
  {
   "cell_type": "code",
   "execution_count": 41,
   "metadata": {},
   "outputs": [
    {
     "name": "stdout",
     "output_type": "stream",
     "text": [
      "\u001b[1m======================================= test session starts =======================================\u001b[0m\n",
      "platform win32 -- Python 3.10.1, pytest-7.0.1, pluggy-1.0.0 -- C:\\Users\\imran\\.virtualenvs\\Python_Unit_testing_with_Pytest-S04JhjuQ\\Scripts\\python.exe\n",
      "cachedir: .pytest_cache\n",
      "rootdir: d:\\👨‍💻 Work-Station\\🐍 Python Track\\📢 Conf & Workshop\\Workshop\\Testing\\Python Unit testing with Pytest\n",
      "\u001b[1mcollecting ... \u001b[0mcollected 2 items\n",
      "\n",
      "tmpj7yu6wa7.py::test__subtle_manipulation \u001b[31mFAILED\u001b[0m\u001b[31m                                             [ 50%]\u001b[0m\n",
      "tmpj7yu6wa7.py::test__subtle_manipulation_ \u001b[31mFAILED\u001b[0m\u001b[31m                                            [100%]\u001b[0m\n",
      "\n",
      "============================================ FAILURES =============================================\n",
      "\u001b[31m\u001b[1m____________________________________ test__subtle_manipulation ____________________________________\u001b[0m\n",
      "\n",
      "    \u001b[94mdef\u001b[39;49;00m \u001b[92mtest__subtle_manipulation\u001b[39;49;00m():\n",
      ">       \u001b[94massert\u001b[39;49;00m subtle_manipulation(\u001b[33m'\u001b[39;49;00m\u001b[33m--Hello--\u001b[39;49;00m\u001b[33m'\u001b[39;49;00m) == \u001b[33m'\u001b[39;49;00m\u001b[33mHello\u001b[39;49;00m\u001b[33m'\u001b[39;49;00m\n",
      "\u001b[1m\u001b[31mE       AssertionError: assert '-Hello-' == 'Hello'\u001b[0m\n",
      "\u001b[1m\u001b[31mE         - Hello\u001b[0m\n",
      "\u001b[1m\u001b[31mE         + -Hello-\u001b[0m\n",
      "\u001b[1m\u001b[31mE         ? +     +\u001b[0m\n",
      "\n",
      "\u001b[1m\u001b[31mC:\\Users\\imran\\AppData\\Local\\Temp\\ipykernel_6256\\585242843.py\u001b[0m:7: AssertionError\n",
      "\u001b[31m\u001b[1m___________________________________ test__subtle_manipulation_ ____________________________________\u001b[0m\n",
      "\n",
      "    \u001b[94mdef\u001b[39;49;00m \u001b[92mtest__subtle_manipulation_\u001b[39;49;00m():\n",
      ">       \u001b[94massert\u001b[39;49;00m erroring_subtle_manipulation(\u001b[33m'\u001b[39;49;00m\u001b[33m--Hello--\u001b[39;49;00m\u001b[33m'\u001b[39;49;00m) == \u001b[33m'\u001b[39;49;00m\u001b[33mHELLO\u001b[39;49;00m\u001b[33m'\u001b[39;49;00m\n",
      "\n",
      "\u001b[1m\u001b[31mC:\\Users\\imran\\AppData\\Local\\Temp\\ipykernel_6256\\585242843.py\u001b[0m:16: \n",
      "_ _ _ _ _ _ _ _ _ _ _ _ _ _ _ _ _ _ _ _ _ _ _ _ _ _ _ _ _ _ _ _ _ _ _ _ _ _ _ _ _ _ _ _ _ _ _ _ _ _\n",
      "\n",
      "things = '--Hello--'\n",
      "\n",
      "    \u001b[94mdef\u001b[39;49;00m \u001b[92merroring_subtle_manipulation\u001b[39;49;00m(things):\n",
      "        trim = \u001b[94m1\u001b[39;49;00m\n",
      "        ret_value = things[trim:-trim]\n",
      ">       \u001b[94mraise\u001b[39;49;00m \u001b[96mValueError\u001b[39;49;00m(things, ret_value, trim)\n",
      "\u001b[1m\u001b[31mE       ValueError: ('--Hello--', '-Hello-', 1)\u001b[0m\n",
      "\n",
      "\u001b[1m\u001b[31mC:\\Users\\imran\\AppData\\Local\\Temp\\ipykernel_6256\\585242843.py\u001b[0m:13: ValueError\n",
      "===================================== short test summary info =====================================\n",
      "FAILED tmpj7yu6wa7.py::test__subtle_manipulation - AssertionError: assert '-Hello-' == 'Hello'\n",
      "FAILED tmpj7yu6wa7.py::test__subtle_manipulation_ - ValueError: ('--Hello--', '-Hello-', 1)\n",
      "\u001b[31m======================================== \u001b[31m\u001b[1m2 failed\u001b[0m\u001b[31m in 0.06s\u001b[0m\u001b[31m ========================================\u001b[0m\n"
     ]
    }
   ],
   "source": [
    "%%ipytest -vv\n",
    "\n",
    "def subtle_manipulation(things):\n",
    "    trim = 1\n",
    "    return things[trim : -trim] # things[1 : -1]\n",
    "\n",
    "\n",
    "def test__subtle_manipulation():\n",
    "    assert subtle_manipulation('--Hello--') == 'Hello'\n",
    "\n",
    "\n",
    "def erroring_subtle_manipulation(things):\n",
    "    trim = 1\n",
    "    ret_value = things[trim:-trim]\n",
    "    raise ValueError(things, ret_value, trim)\n",
    "\n",
    "def test__subtle_manipulation_():\n",
    "    assert erroring_subtle_manipulation('--Hello--') == 'HELLO'"
   ]
  },
  {
   "cell_type": "markdown",
   "metadata": {},
   "source": [
    "### Inequality"
   ]
  },
  {
   "cell_type": "code",
   "execution_count": 42,
   "metadata": {},
   "outputs": [
    {
     "name": "stdout",
     "output_type": "stream",
     "text": [
      "\u001b[1m======================================= test session starts =======================================\u001b[0m\n",
      "platform win32 -- Python 3.10.1, pytest-7.0.1, pluggy-1.0.0 -- C:\\Users\\imran\\.virtualenvs\\Python_Unit_testing_with_Pytest-S04JhjuQ\\Scripts\\python.exe\n",
      "cachedir: .pytest_cache\n",
      "rootdir: d:\\👨‍💻 Work-Station\\🐍 Python Track\\📢 Conf & Workshop\\Workshop\\Testing\\Python Unit testing with Pytest\n",
      "\u001b[1mcollecting ... \u001b[0mcollected 1 item\n",
      "\n",
      "tmp0ubeceyz.py::test__not_equal \u001b[31mFAILED\u001b[0m\u001b[31m                                                       [100%]\u001b[0m\n",
      "\n",
      "============================================ FAILURES =============================================\n",
      "\u001b[31m\u001b[1m_________________________________________ test__not_equal _________________________________________\u001b[0m\n",
      "\n",
      "    \u001b[94mdef\u001b[39;49;00m \u001b[92mtest__not_equal\u001b[39;49;00m():\n",
      "        x = \u001b[94m1\u001b[39;49;00m\n",
      "        y = x / \u001b[94m1\u001b[39;49;00m\n",
      ">       \u001b[94massert\u001b[39;49;00m x != y\n",
      "\u001b[1m\u001b[31mE       assert 1 != 1.0\u001b[0m\n",
      "\n",
      "\u001b[1m\u001b[31mC:\\Users\\imran\\AppData\\Local\\Temp\\ipykernel_6256\\2247154597.py\u001b[0m:4: AssertionError\n",
      "===================================== short test summary info =====================================\n",
      "FAILED tmp0ubeceyz.py::test__not_equal - assert 1 != 1.0\n",
      "\u001b[31m======================================== \u001b[31m\u001b[1m1 failed\u001b[0m\u001b[31m in 0.10s\u001b[0m\u001b[31m ========================================\u001b[0m\n"
     ]
    }
   ],
   "source": [
    "%%ipytest -vv\n",
    "\n",
    "def test__not_equal():\n",
    "    x = 1\n",
    "    y = x / 1\n",
    "    assert x != y"
   ]
  },
  {
   "cell_type": "code",
   "execution_count": 43,
   "metadata": {},
   "outputs": [
    {
     "name": "stdout",
     "output_type": "stream",
     "text": [
      "\u001b[1m======================================= test session starts =======================================\u001b[0m\n",
      "platform win32 -- Python 3.10.1, pytest-7.0.1, pluggy-1.0.0 -- C:\\Users\\imran\\.virtualenvs\\Python_Unit_testing_with_Pytest-S04JhjuQ\\Scripts\\python.exe\n",
      "cachedir: .pytest_cache\n",
      "rootdir: d:\\👨‍💻 Work-Station\\🐍 Python Track\\📢 Conf & Workshop\\Workshop\\Testing\\Python Unit testing with Pytest\n",
      "\u001b[1mcollecting ... \u001b[0mcollected 1 item\n",
      "\n",
      "tmpfvah89bn.py::test_greater \u001b[31mFAILED\u001b[0m\u001b[31m                                                          [100%]\u001b[0m\n",
      "\n",
      "============================================ FAILURES =============================================\n",
      "\u001b[31m\u001b[1m__________________________________________ test_greater ___________________________________________\u001b[0m\n",
      "\n",
      "    \u001b[94mdef\u001b[39;49;00m \u001b[92mtest_greater\u001b[39;49;00m():\n",
      "        x = \u001b[94m1\u001b[39;49;00m\n",
      ">       \u001b[94massert\u001b[39;49;00m x < x\n",
      "\u001b[1m\u001b[31mE       assert 1 < 1\u001b[0m\n",
      "\n",
      "\u001b[1m\u001b[31mC:\\Users\\imran\\AppData\\Local\\Temp\\ipykernel_6256\\711114376.py\u001b[0m:3: AssertionError\n",
      "===================================== short test summary info =====================================\n",
      "FAILED tmpfvah89bn.py::test_greater - assert 1 < 1\n",
      "\u001b[31m======================================== \u001b[31m\u001b[1m1 failed\u001b[0m\u001b[31m in 0.16s\u001b[0m\u001b[31m ========================================\u001b[0m\n"
     ]
    }
   ],
   "source": [
    "%%ipytest -vv\n",
    "\n",
    "def test_greater():\n",
    "    x = 1\n",
    "    assert x < x"
   ]
  },
  {
   "cell_type": "code",
   "execution_count": 44,
   "metadata": {},
   "outputs": [
    {
     "name": "stdout",
     "output_type": "stream",
     "text": [
      "\u001b[1m======================================= test session starts =======================================\u001b[0m\n",
      "platform win32 -- Python 3.10.1, pytest-7.0.1, pluggy-1.0.0 -- C:\\Users\\imran\\.virtualenvs\\Python_Unit_testing_with_Pytest-S04JhjuQ\\Scripts\\python.exe\n",
      "cachedir: .pytest_cache\n",
      "rootdir: d:\\👨‍💻 Work-Station\\🐍 Python Track\\📢 Conf & Workshop\\Workshop\\Testing\\Python Unit testing with Pytest\n",
      "\u001b[1mcollecting ... \u001b[0mcollected 1 item\n",
      "\n",
      "tmpaf4bfowc.py::test__set \u001b[32mPASSED\u001b[0m\u001b[32m                                                             [100%]\u001b[0m\n",
      "\n",
      "\u001b[32m======================================== \u001b[32m\u001b[1m1 passed\u001b[0m\u001b[32m in 0.06s\u001b[0m\u001b[32m ========================================\u001b[0m\n"
     ]
    }
   ],
   "source": [
    "%%ipytest -vv\n",
    "\n",
    "def test__set():\n",
    "    smaller = {1, 2}\n",
    "    greater = {1, 2, 3}\n",
    "\n",
    "    assert smaller & greater == smaller"
   ]
  },
  {
   "cell_type": "code",
   "execution_count": 49,
   "metadata": {},
   "outputs": [
    {
     "name": "stdout",
     "output_type": "stream",
     "text": [
      "\u001b[1m======================================= test session starts =======================================\u001b[0m\n",
      "platform win32 -- Python 3.10.1, pytest-7.0.1, pluggy-1.0.0 -- C:\\Users\\imran\\.virtualenvs\\Python_Unit_testing_with_Pytest-S04JhjuQ\\Scripts\\python.exe\n",
      "cachedir: .pytest_cache\n",
      "rootdir: d:\\👨‍💻 Work-Station\\🐍 Python Track\\📢 Conf & Workshop\\Workshop\\Testing\\Python Unit testing with Pytest\n",
      "\u001b[1mcollecting ... \u001b[0mcollected 1 item\n",
      "\n",
      "tmpi53onyfp.py::test__set \u001b[31mFAILED\u001b[0m\u001b[31m                                                             [100%]\u001b[0m\n",
      "\n",
      "============================================ FAILURES =============================================\n",
      "\u001b[31m\u001b[1m____________________________________________ test__set ____________________________________________\u001b[0m\n",
      "\n",
      "    \u001b[94mdef\u001b[39;49;00m \u001b[92mtest__set\u001b[39;49;00m():\n",
      "        smaller = {\u001b[94m1\u001b[39;49;00m, \u001b[94m2\u001b[39;49;00m}\n",
      "        greater = {\u001b[94m1\u001b[39;49;00m, \u001b[94m2\u001b[39;49;00m, \u001b[94m3\u001b[39;49;00m}\n",
      "    \n",
      ">       \u001b[94massert\u001b[39;49;00m smaller & greater == greater\n",
      "\u001b[1m\u001b[31mE       assert {1, 2} == {1, 2, 3}\u001b[0m\n",
      "\u001b[1m\u001b[31mE         Extra items in the right set:\u001b[0m\n",
      "\u001b[1m\u001b[31mE         3\u001b[0m\n",
      "\u001b[1m\u001b[31mE         Full diff:\u001b[0m\n",
      "\u001b[1m\u001b[31mE         - {1, 2, 3}\u001b[0m\n",
      "\u001b[1m\u001b[31mE         ?      ---\u001b[0m\n",
      "\u001b[1m\u001b[31mE         + {1, 2}\u001b[0m\n",
      "\n",
      "\u001b[1m\u001b[31mC:\\Users\\imran\\AppData\\Local\\Temp\\ipykernel_6256\\2485662257.py\u001b[0m:5: AssertionError\n",
      "===================================== short test summary info =====================================\n",
      "FAILED tmpi53onyfp.py::test__set - assert {1, 2} == {1, 2, 3}\n",
      "\u001b[31m======================================== \u001b[31m\u001b[1m1 failed\u001b[0m\u001b[31m in 0.06s\u001b[0m\u001b[31m ========================================\u001b[0m\n"
     ]
    }
   ],
   "source": [
    "%%ipytest -vv\n",
    "\n",
    "def test__set():\n",
    "    smaller = {1, 2}\n",
    "    greater = {1, 2, 3}\n",
    "\n",
    "    assert smaller & greater == greater"
   ]
  },
  {
   "cell_type": "code",
   "execution_count": 50,
   "metadata": {},
   "outputs": [
    {
     "name": "stdout",
     "output_type": "stream",
     "text": [
      "\u001b[1m======================================= test session starts =======================================\u001b[0m\n",
      "platform win32 -- Python 3.10.1, pytest-7.0.1, pluggy-1.0.0 -- C:\\Users\\imran\\.virtualenvs\\Python_Unit_testing_with_Pytest-S04JhjuQ\\Scripts\\python.exe\n",
      "cachedir: .pytest_cache\n",
      "rootdir: d:\\👨‍💻 Work-Station\\🐍 Python Track\\📢 Conf & Workshop\\Workshop\\Testing\\Python Unit testing with Pytest\n",
      "\u001b[1mcollecting ... \u001b[0mcollected 2 items\n",
      "\n",
      "tmpuhi2tjmn.py::test_in \u001b[31mFAILED\u001b[0m\u001b[31m                                                               [ 50%]\u001b[0m\n",
      "tmpuhi2tjmn.py::test_not_in \u001b[31mFAILED\u001b[0m\u001b[31m                                                           [100%]\u001b[0m\n",
      "\n",
      "============================================ FAILURES =============================================\n",
      "\u001b[31m\u001b[1m_____________________________________________ test_in _____________________________________________\u001b[0m\n",
      "\n",
      "    \u001b[94mdef\u001b[39;49;00m \u001b[92mtest_in\u001b[39;49;00m():\n",
      ">       \u001b[94massert\u001b[39;49;00m \u001b[94m5\u001b[39;49;00m \u001b[95min\u001b[39;49;00m \u001b[96mrange\u001b[39;49;00m(\u001b[94m3\u001b[39;49;00m)\n",
      "\u001b[1m\u001b[31mE       assert 5 in range(0, 3)\u001b[0m\n",
      "\u001b[1m\u001b[31mE        +  where range(0, 3) = range(3)\u001b[0m\n",
      "\n",
      "\u001b[1m\u001b[31mC:\\Users\\imran\\AppData\\Local\\Temp\\ipykernel_6256\\1401330571.py\u001b[0m:2: AssertionError\n",
      "\u001b[31m\u001b[1m___________________________________________ test_not_in ___________________________________________\u001b[0m\n",
      "\n",
      "    \u001b[94mdef\u001b[39;49;00m \u001b[92mtest_not_in\u001b[39;49;00m():\n",
      ">       \u001b[94massert\u001b[39;49;00m \u001b[94m1\u001b[39;49;00m \u001b[95mnot\u001b[39;49;00m \u001b[95min\u001b[39;49;00m \u001b[96mset\u001b[39;49;00m([\u001b[94m1\u001b[39;49;00m])\n",
      "\u001b[1m\u001b[31mE       assert 1 not in {1}\u001b[0m\n",
      "\u001b[1m\u001b[31mE        +  where {1} = set([1])\u001b[0m\n",
      "\n",
      "\u001b[1m\u001b[31mC:\\Users\\imran\\AppData\\Local\\Temp\\ipykernel_6256\\1401330571.py\u001b[0m:6: AssertionError\n",
      "===================================== short test summary info =====================================\n",
      "FAILED tmpuhi2tjmn.py::test_in - assert 5 in range(0, 3)\n",
      "FAILED tmpuhi2tjmn.py::test_not_in - assert 1 not in {1}\n",
      "\u001b[31m======================================== \u001b[31m\u001b[1m2 failed\u001b[0m\u001b[31m in 0.13s\u001b[0m\u001b[31m ========================================\u001b[0m\n"
     ]
    }
   ],
   "source": [
    "%%ipytest -vv\n",
    "\n",
    "def test_in():\n",
    "    assert 5 in range(3)\n",
    "\n",
    "\n",
    "def test_not_in():\n",
    "    assert 1 not in set([1])"
   ]
  },
  {
   "cell_type": "code",
   "execution_count": 52,
   "metadata": {},
   "outputs": [
    {
     "name": "stdout",
     "output_type": "stream",
     "text": [
      "\u001b[1m======================================= test session starts =======================================\u001b[0m\n",
      "platform win32 -- Python 3.10.1, pytest-7.0.1, pluggy-1.0.0 -- C:\\Users\\imran\\.virtualenvs\\Python_Unit_testing_with_Pytest-S04JhjuQ\\Scripts\\python.exe\n",
      "cachedir: .pytest_cache\n",
      "rootdir: d:\\👨‍💻 Work-Station\\🐍 Python Track\\📢 Conf & Workshop\\Workshop\\Testing\\Python Unit testing with Pytest\n",
      "\u001b[1mcollecting ... \u001b[0mcollected 2 items\n",
      "\n",
      "tmpj4yl1o9g.py::test_identical \u001b[31mFAILED\u001b[0m\u001b[31m                                                        [ 50%]\u001b[0m\n",
      "tmpj4yl1o9g.py::test_not_identical \u001b[31mFAILED\u001b[0m\u001b[31m                                                    [100%]\u001b[0m\n",
      "\n",
      "============================================ FAILURES =============================================\n",
      "\u001b[31m\u001b[1m_________________________________________ test_identical __________________________________________\u001b[0m\n",
      "\n",
      "    \u001b[94mdef\u001b[39;49;00m \u001b[92mtest_identical\u001b[39;49;00m():\n",
      ">       \u001b[94massert\u001b[39;49;00m [\u001b[94m1\u001b[39;49;00m,\u001b[94m2\u001b[39;49;00m,\u001b[94m3\u001b[39;49;00m] \u001b[95mis\u001b[39;49;00m [\u001b[94m1\u001b[39;49;00m,\u001b[94m2\u001b[39;49;00m,\u001b[94m3\u001b[39;49;00m]\n",
      "\u001b[1m\u001b[31mE       assert [1, 2, 3] is [1, 2, 3]\u001b[0m\n",
      "\n",
      "\u001b[1m\u001b[31mC:\\Users\\imran\\AppData\\Local\\Temp\\ipykernel_6256\\3496118329.py\u001b[0m:2: AssertionError\n",
      "\u001b[31m\u001b[1m_______________________________________ test_not_identical ________________________________________\u001b[0m\n",
      "\n",
      "    \u001b[94mdef\u001b[39;49;00m \u001b[92mtest_not_identical\u001b[39;49;00m():\n",
      ">       \u001b[94massert\u001b[39;49;00m \u001b[33m'\u001b[39;49;00m\u001b[33mHello\u001b[39;49;00m\u001b[33m'\u001b[39;49;00m != \u001b[33m'\u001b[39;49;00m\u001b[33mHello\u001b[39;49;00m\u001b[33m'\u001b[39;49;00m\n",
      "\u001b[1m\u001b[31mE       AssertionError: assert 'Hello' != 'Hello'\u001b[0m\n",
      "\n",
      "\u001b[1m\u001b[31mC:\\Users\\imran\\AppData\\Local\\Temp\\ipykernel_6256\\3496118329.py\u001b[0m:5: AssertionError\n",
      "===================================== short test summary info =====================================\n",
      "FAILED tmpj4yl1o9g.py::test_identical - assert [1, 2, 3] is [1, 2, 3]\n",
      "FAILED tmpj4yl1o9g.py::test_not_identical - AssertionError: assert 'Hello' != 'Hello'\n",
      "\u001b[31m======================================== \u001b[31m\u001b[1m2 failed\u001b[0m\u001b[31m in 0.10s\u001b[0m\u001b[31m ========================================\u001b[0m\n"
     ]
    }
   ],
   "source": [
    "%%ipytest -vv\n",
    "\n",
    "def test_identical():\n",
    "    assert [1,2,3] is [1,2,3]\n",
    "\n",
    "def test_not_identical():\n",
    "    assert 'Hello' != 'Hello'"
   ]
  },
  {
   "cell_type": "markdown",
   "metadata": {},
   "source": [
    "# Exercises"
   ]
  },
  {
   "cell_type": "code",
   "execution_count": 55,
   "metadata": {},
   "outputs": [
    {
     "name": "stdout",
     "output_type": "stream",
     "text": [
      "\u001b[1m======================================= test session starts =======================================\u001b[0m\n",
      "platform win32 -- Python 3.10.1, pytest-7.0.1, pluggy-1.0.0 -- C:\\Users\\imran\\.virtualenvs\\Python_Unit_testing_with_Pytest-S04JhjuQ\\Scripts\\python.exe\n",
      "cachedir: .pytest_cache\n",
      "rootdir: d:\\👨‍💻 Work-Station\\🐍 Python Track\\📢 Conf & Workshop\\Workshop\\Testing\\Python Unit testing with Pytest\n",
      "\u001b[1mcollecting ... \u001b[0mcollected 2 items\n",
      "\n",
      "tmpyewfnhpf.py::test__safe_remove__no \u001b[32mPASSED\u001b[0m\u001b[32m                                                 [ 50%]\u001b[0m\n",
      "tmpyewfnhpf.py::test__safe_remove__yes \u001b[32mPASSED\u001b[0m\u001b[32m                                                [100%]\u001b[0m\n",
      "\n",
      "\u001b[32m======================================== \u001b[32m\u001b[1m2 passed\u001b[0m\u001b[32m in 0.08s\u001b[0m\u001b[32m ========================================\u001b[0m\n"
     ]
    }
   ],
   "source": [
    "%%ipytest -vv\n",
    "\n",
    "def safe_remove(a, b):\n",
    "    return a.pop(b, None)\n",
    "\n",
    "def test__safe_remove__no():\n",
    "    things = {\n",
    "        1: 'yes', \n",
    "        2: 'no',\n",
    "    }\n",
    "    safe_remove(things, 3)\n",
    "    assert 1 in things\n",
    "\n",
    "def test__safe_remove__yes():\n",
    "    things = {\n",
    "        1: 'yes', \n",
    "        2: 'no',\n",
    "    }\n",
    "    safe_remove(things, 2)\n",
    "    assert 2 not in things"
   ]
  },
  {
   "cell_type": "code",
   "execution_count": 62,
   "metadata": {},
   "outputs": [
    {
     "name": "stdout",
     "output_type": "stream",
     "text": [
      "\u001b[1m======================================= test session starts =======================================\u001b[0m\n",
      "platform win32 -- Python 3.10.1, pytest-7.0.1, pluggy-1.0.0 -- C:\\Users\\imran\\.virtualenvs\\Python_Unit_testing_with_Pytest-S04JhjuQ\\Scripts\\python.exe\n",
      "cachedir: .pytest_cache\n",
      "rootdir: d:\\👨‍💻 Work-Station\\🐍 Python Track\\📢 Conf & Workshop\\Workshop\\Testing\\Python Unit testing with Pytest\n",
      "\u001b[1mcollecting ... \u001b[0mcollected 2 items\n",
      "\n",
      "tmpqnlsv5es.py::test__get_min_max__high \u001b[32mPASSED\u001b[0m\u001b[32m                                               [ 50%]\u001b[0m\n",
      "tmpqnlsv5es.py::test__get_min_max__low \u001b[32mPASSED\u001b[0m\u001b[32m                                                [100%]\u001b[0m\n",
      "\n",
      "\u001b[32m======================================== \u001b[32m\u001b[1m2 passed\u001b[0m\u001b[32m in 0.03s\u001b[0m\u001b[32m ========================================\u001b[0m\n"
     ]
    }
   ],
   "source": [
    "%%ipytest -vv\n",
    "\n",
    "def get_min_max(a, b):\n",
    "    return min((a, b)), max((a, b))\n",
    "\n",
    "def test__get_min_max__high():\n",
    "    a, b = get_min_max(2, 1)\n",
    "    assert set([a, b]) == {1, 2} # passed\n",
    "    assert a < b # 1 < 2 -> passed\n",
    "\n",
    "def test__get_min_max__low():\n",
    "    a, b = get_min_max(1, 2)\n",
    "    assert set([a, b]) == {1, 2} # passed\n",
    "    assert a < b # passed"
   ]
  },
  {
   "cell_type": "code",
   "execution_count": 11,
   "metadata": {},
   "outputs": [],
   "source": [
    "import ipytest\n",
    "ipytest.autoconfig()"
   ]
  },
  {
   "cell_type": "code",
   "execution_count": 12,
   "metadata": {},
   "outputs": [
    {
     "name": "stdout",
     "output_type": "stream",
     "text": [
      "\u001b[1m======================================= test session starts =======================================\u001b[0m\n",
      "platform win32 -- Python 3.10.1, pytest-7.0.1, pluggy-1.0.0 -- C:\\Users\\imran\\.virtualenvs\\Python_Unit_testing_with_Pytest-S04JhjuQ\\Scripts\\python.exe\n",
      "cachedir: .pytest_cache\n",
      "rootdir: d:\\👨‍💻 Work-Station\\🐍 Python Track\\📢 Conf & Workshop\\Workshop\\Testing\\Python Unit testing with Pytest\n",
      "\u001b[1mcollecting ... \u001b[0mcollected 1 item\n",
      "\n",
      "tmpdcb6j9y1.py::test_value \u001b[31mFAILED\u001b[0m\u001b[31m                                                            [100%]\u001b[0m\n",
      "\n",
      "============================================ FAILURES =============================================\n",
      "\u001b[31m\u001b[1m___________________________________________ test_value ____________________________________________\u001b[0m\n",
      "\n",
      "    \u001b[94mdef\u001b[39;49;00m \u001b[92mtest_value\u001b[39;49;00m():\n",
      ">       raise_value(mock.MagicMock())\n",
      "\n",
      "\u001b[1m\u001b[31mC:\\Users\\imran\\AppData\\Local\\Temp\\ipykernel_11764\\3224424865.py\u001b[0m:7: \n",
      "_ _ _ _ _ _ _ _ _ _ _ _ _ _ _ _ _ _ _ _ _ _ _ _ _ _ _ _ _ _ _ _ _ _ _ _ _ _ _ _ _ _ _ _ _ _ _ _ _ _\n",
      "\n",
      "x = <MagicMock id='2449073180048'>\n",
      "\n",
      "    \u001b[94mdef\u001b[39;49;00m \u001b[92mraise_value\u001b[39;49;00m(x):\n",
      ">       \u001b[94mraise\u001b[39;49;00m \u001b[96mValueError\u001b[39;49;00m(x)\n",
      "\u001b[1m\u001b[31mE       ValueError: <MagicMock id='2449073180048'>\u001b[0m\n",
      "\n",
      "\u001b[1m\u001b[31mC:\\Users\\imran\\AppData\\Local\\Temp\\ipykernel_11764\\3224424865.py\u001b[0m:4: ValueError\n",
      "===================================== short test summary info =====================================\n",
      "FAILED tmpdcb6j9y1.py::test_value - ValueError: <MagicMock id='2449073180048'>\n",
      "\u001b[31m======================================== \u001b[31m\u001b[1m1 failed\u001b[0m\u001b[31m in 0.03s\u001b[0m\u001b[31m ========================================\u001b[0m\n"
     ]
    }
   ],
   "source": [
    "%%ipytest -vv\n",
    "\n",
    "from unittest import mock\n",
    "\n",
    "def raise_value(x):\n",
    "    raise ValueError(x)\n",
    "\n",
    "def test_value():\n",
    "    raise_value(mock.MagicMock())"
   ]
  },
  {
   "cell_type": "markdown",
   "metadata": {},
   "source": [
    "mock's attribute are consistent. They stay the same, so retrieving the same attribute again gives identical objects."
   ]
  },
  {
   "cell_type": "code",
   "execution_count": 14,
   "metadata": {},
   "outputs": [
    {
     "name": "stdout",
     "output_type": "stream",
     "text": [
      "\u001b[1m======================================= test session starts =======================================\u001b[0m\n",
      "platform win32 -- Python 3.10.1, pytest-7.0.1, pluggy-1.0.0 -- C:\\Users\\imran\\.virtualenvs\\Python_Unit_testing_with_Pytest-S04JhjuQ\\Scripts\\python.exe\n",
      "cachedir: .pytest_cache\n",
      "rootdir: d:\\👨‍💻 Work-Station\\🐍 Python Track\\📢 Conf & Workshop\\Workshop\\Testing\\Python Unit testing with Pytest\n",
      "\u001b[1mcollecting ... \u001b[0mcollected 1 item\n",
      "\n",
      "tmpsk8ds0fd.py::test_consistent \u001b[32mPASSED\u001b[0m\u001b[32m                                                       [100%]\u001b[0m\n",
      "\n",
      "\u001b[32m======================================== \u001b[32m\u001b[1m1 passed\u001b[0m\u001b[32m in 0.02s\u001b[0m\u001b[32m ========================================\u001b[0m\n"
     ]
    }
   ],
   "source": [
    "%%ipytest -vv\n",
    "\n",
    "from unittest import mock\n",
    "\n",
    "def test_consistent():\n",
    "    obj = mock.MagicMock()\n",
    "    assert obj.some_name is obj.some_name"
   ]
  },
  {
   "cell_type": "code",
   "execution_count": 15,
   "metadata": {},
   "outputs": [
    {
     "name": "stdout",
     "output_type": "stream",
     "text": [
      "\u001b[1m======================================= test session starts =======================================\u001b[0m\n",
      "platform win32 -- Python 3.10.1, pytest-7.0.1, pluggy-1.0.0 -- C:\\Users\\imran\\.virtualenvs\\Python_Unit_testing_with_Pytest-S04JhjuQ\\Scripts\\python.exe\n",
      "cachedir: .pytest_cache\n",
      "rootdir: d:\\👨‍💻 Work-Station\\🐍 Python Track\\📢 Conf & Workshop\\Workshop\\Testing\\Python Unit testing with Pytest\n",
      "\u001b[1mcollecting ... \u001b[0mcollected 1 item\n",
      "\n",
      "tmpc2yyc0e9.py::test_consistent \u001b[31mFAILED\u001b[0m\u001b[31m                                                       [100%]\u001b[0m\n",
      "\n",
      "============================================ FAILURES =============================================\n",
      "\u001b[31m\u001b[1m_________________________________________ test_consistent _________________________________________\u001b[0m\n",
      "\n",
      "    \u001b[94mdef\u001b[39;49;00m \u001b[92mtest_consistent\u001b[39;49;00m():\n",
      "        obj = mock.MagicMock()\n",
      ">       \u001b[94massert\u001b[39;49;00m obj.some_name \u001b[95mis\u001b[39;49;00m \u001b[95mnot\u001b[39;49;00m obj.some_name\n",
      "\u001b[1m\u001b[31mE       AssertionError: assert <MagicMock name='mock.some_name' id='2449073360128'> is not <MagicMock name='mock.some_name' id='2449073360128'>\u001b[0m\n",
      "\u001b[1m\u001b[31mE        +  where <MagicMock name='mock.some_name' id='2449073360128'> = <MagicMock id='2449126183248'>.some_name\u001b[0m\n",
      "\u001b[1m\u001b[31mE        +  and   <MagicMock name='mock.some_name' id='2449073360128'> = <MagicMock id='2449126183248'>.some_name\u001b[0m\n",
      "\n",
      "\u001b[1m\u001b[31mC:\\Users\\imran\\AppData\\Local\\Temp\\ipykernel_11764\\359756602.py\u001b[0m:5: AssertionError\n",
      "===================================== short test summary info =====================================\n",
      "FAILED tmpc2yyc0e9.py::test_consistent - AssertionError: assert <MagicMock name='mock.some_name' ...\n",
      "\u001b[31m======================================== \u001b[31m\u001b[1m1 failed\u001b[0m\u001b[31m in 0.03s\u001b[0m\u001b[31m ========================================\u001b[0m\n"
     ]
    }
   ],
   "source": [
    "%%ipytest -vv\n",
    "\n",
    "from unittest import mock\n",
    "\n",
    "def test_consistent():\n",
    "    obj = mock.MagicMock()\n",
    "    assert obj.some_name is not obj.some_name"
   ]
  },
  {
   "cell_type": "markdown",
   "metadata": {},
   "source": [
    "Calling Mocks\n",
    "\n",
    "- Mocks can be called, they return a mock\n",
    "- When calling a mock, it will again return the same value "
   ]
  },
  {
   "cell_type": "code",
   "execution_count": 17,
   "metadata": {},
   "outputs": [
    {
     "name": "stdout",
     "output_type": "stream",
     "text": [
      "\u001b[1m======================================= test session starts =======================================\u001b[0m\n",
      "platform win32 -- Python 3.10.1, pytest-7.0.1, pluggy-1.0.0 -- C:\\Users\\imran\\.virtualenvs\\Python_Unit_testing_with_Pytest-S04JhjuQ\\Scripts\\python.exe\n",
      "cachedir: .pytest_cache\n",
      "rootdir: d:\\👨‍💻 Work-Station\\🐍 Python Track\\📢 Conf & Workshop\\Workshop\\Testing\\Python Unit testing with Pytest\n",
      "\u001b[1mcollecting ... \u001b[0mcollected 1 item\n",
      "\n",
      "tmpfq_a_o7t.py::test_example \u001b[31mFAILED\u001b[0m\u001b[31m                                                          [100%]\u001b[0m\n",
      "\n",
      "============================================ FAILURES =============================================\n",
      "\u001b[31m\u001b[1m__________________________________________ test_example ___________________________________________\u001b[0m\n",
      "\n",
      "    \u001b[94mdef\u001b[39;49;00m \u001b[92mtest_example\u001b[39;49;00m():\n",
      ">       raise_call(mock.MagicMock())\n",
      "\n",
      "\u001b[1m\u001b[31mC:\\Users\\imran\\AppData\\Local\\Temp\\ipykernel_11764\\2558560952.py\u001b[0m:7: \n",
      "_ _ _ _ _ _ _ _ _ _ _ _ _ _ _ _ _ _ _ _ _ _ _ _ _ _ _ _ _ _ _ _ _ _ _ _ _ _ _ _ _ _ _ _ _ _ _ _ _ _\n",
      "\n",
      "x = <MagicMock id='2449126347280'>\n",
      "\n",
      "    \u001b[94mdef\u001b[39;49;00m \u001b[92mraise_call\u001b[39;49;00m(x):\n",
      ">       \u001b[94mraise\u001b[39;49;00m \u001b[96mValueError\u001b[39;49;00m(x())\n",
      "\u001b[1m\u001b[31mE       ValueError: <MagicMock name='mock()' id='2449126358128'>\u001b[0m\n",
      "\n",
      "\u001b[1m\u001b[31mC:\\Users\\imran\\AppData\\Local\\Temp\\ipykernel_11764\\2558560952.py\u001b[0m:4: ValueError\n",
      "===================================== short test summary info =====================================\n",
      "FAILED tmpfq_a_o7t.py::test_example - ValueError: <MagicMock name='mock()' id='2449126358128'>\n",
      "\u001b[31m======================================== \u001b[31m\u001b[1m1 failed\u001b[0m\u001b[31m in 0.05s\u001b[0m\u001b[31m ========================================\u001b[0m\n"
     ]
    }
   ],
   "source": [
    "%%ipytest -vv\n",
    "\n",
    "from unittest import mock\n",
    "\n",
    "def raise_call(x):\n",
    "    raise ValueError(x())\n",
    "\n",
    "def test_example():\n",
    "    raise_call(mock.MagicMock())"
   ]
  },
  {
   "cell_type": "code",
   "execution_count": 21,
   "metadata": {},
   "outputs": [
    {
     "name": "stdout",
     "output_type": "stream",
     "text": [
      "\u001b[1m======================================= test session starts =======================================\u001b[0m\n",
      "platform win32 -- Python 3.10.1, pytest-7.0.1, pluggy-1.0.0 -- C:\\Users\\imran\\.virtualenvs\\Python_Unit_testing_with_Pytest-S04JhjuQ\\Scripts\\python.exe\n",
      "cachedir: .pytest_cache\n",
      "rootdir: d:\\👨‍💻 Work-Station\\🐍 Python Track\\📢 Conf & Workshop\\Workshop\\Testing\\Python Unit testing with Pytest\n",
      "\u001b[1mcollecting ... \u001b[0mcollected 1 item\n",
      "\n",
      "tmp6jkpivuu.py::test__consistent \u001b[31mFAILED\u001b[0m\u001b[31m                                                      [100%]\u001b[0m\n",
      "\n",
      "============================================ FAILURES =============================================\n",
      "\u001b[31m\u001b[1m________________________________________ test__consistent _________________________________________\u001b[0m\n",
      "\n",
      "    \u001b[94mdef\u001b[39;49;00m \u001b[92mtest__consistent\u001b[39;49;00m():\n",
      "        obj = mock.MagicMock()\n",
      ">       \u001b[94massert\u001b[39;49;00m obj() \u001b[95mis\u001b[39;49;00m \u001b[95mnot\u001b[39;49;00m obj()\n",
      "\u001b[1m\u001b[31mE       AssertionError: assert <MagicMock name='mock()' id='2449127615184'> is not <MagicMock name='mock()' id='2449127615184'>\u001b[0m\n",
      "\u001b[1m\u001b[31mE        +  where <MagicMock name='mock()' id='2449127615184'> = <MagicMock id='2449127606976'>()\u001b[0m\n",
      "\u001b[1m\u001b[31mE        +  and   <MagicMock name='mock()' id='2449127615184'> = <MagicMock id='2449127606976'>()\u001b[0m\n",
      "\n",
      "\u001b[1m\u001b[31mC:\\Users\\imran\\AppData\\Local\\Temp\\ipykernel_11764\\4160473301.py\u001b[0m:3: AssertionError\n",
      "===================================== short test summary info =====================================\n",
      "FAILED tmp6jkpivuu.py::test__consistent - AssertionError: assert <MagicMock name='mock()' id='244...\n",
      "\u001b[31m======================================== \u001b[31m\u001b[1m1 failed\u001b[0m\u001b[31m in 0.05s\u001b[0m\u001b[31m ========================================\u001b[0m\n"
     ]
    }
   ],
   "source": [
    "%%ipytest -vv\n",
    "\n",
    "def test__consistent():\n",
    "    obj = mock.MagicMock()\n",
    "    assert obj() is not obj()"
   ]
  },
  {
   "cell_type": "code",
   "execution_count": 22,
   "metadata": {},
   "outputs": [
    {
     "name": "stdout",
     "output_type": "stream",
     "text": [
      "\u001b[1m======================================= test session starts =======================================\u001b[0m\n",
      "platform win32 -- Python 3.10.1, pytest-7.0.1, pluggy-1.0.0 -- C:\\Users\\imran\\.virtualenvs\\Python_Unit_testing_with_Pytest-S04JhjuQ\\Scripts\\python.exe\n",
      "cachedir: .pytest_cache\n",
      "rootdir: d:\\👨‍💻 Work-Station\\🐍 Python Track\\📢 Conf & Workshop\\Workshop\\Testing\\Python Unit testing with Pytest\n",
      "\u001b[1mcollecting ... \u001b[0mcollected 1 item\n",
      "\n",
      "tmpu3huhm85.py::test__raise_add_1 \u001b[31mFAILED\u001b[0m\u001b[31m                                                     [100%]\u001b[0m\n",
      "\n",
      "============================================ FAILURES =============================================\n",
      "\u001b[31m\u001b[1m________________________________________ test__raise_add_1 ________________________________________\u001b[0m\n",
      "\n",
      "    \u001b[94mdef\u001b[39;49;00m \u001b[92mtest__raise_add_1\u001b[39;49;00m():\n",
      ">       raise_add_1(mock.MagicMock())\n",
      "\n",
      "\u001b[1m\u001b[31mC:\\Users\\imran\\AppData\\Local\\Temp\\ipykernel_11764\\1283654461.py\u001b[0m:8: \n",
      "_ _ _ _ _ _ _ _ _ _ _ _ _ _ _ _ _ _ _ _ _ _ _ _ _ _ _ _ _ _ _ _ _ _ _ _ _ _ _ _ _ _ _ _ _ _ _ _ _ _\n",
      "\n",
      "x = <MagicMock id='2449127668032'>\n",
      "\n",
      "    \u001b[94mdef\u001b[39;49;00m \u001b[92mraise_add_1\u001b[39;49;00m(x):\n",
      "        val = x + \u001b[94m1\u001b[39;49;00m\n",
      ">       \u001b[94mraise\u001b[39;49;00m \u001b[96mValueError\u001b[39;49;00m(val)\n",
      "\u001b[1m\u001b[31mE       ValueError: <MagicMock name='mock.__add__()' id='2449127913216'>\u001b[0m\n",
      "\n",
      "\u001b[1m\u001b[31mC:\\Users\\imran\\AppData\\Local\\Temp\\ipykernel_11764\\1283654461.py\u001b[0m:5: ValueError\n",
      "===================================== short test summary info =====================================\n",
      "FAILED tmpu3huhm85.py::test__raise_add_1 - ValueError: <MagicMock name='mock.__add__()' id='24491...\n",
      "\u001b[31m======================================== \u001b[31m\u001b[1m1 failed\u001b[0m\u001b[31m in 0.07s\u001b[0m\u001b[31m ========================================\u001b[0m\n"
     ]
    }
   ],
   "source": [
    "%%ipytest -vv\n",
    "\n",
    "# Mocks can also be added\n",
    "\n",
    "def raise_add_1(x):\n",
    "    val = x + 1\n",
    "    raise ValueError(val)\n",
    "\n",
    "def test__raise_add_1():\n",
    "    raise_add_1(mock.MagicMock())"
   ]
  },
  {
   "cell_type": "code",
   "execution_count": 23,
   "metadata": {},
   "outputs": [
    {
     "name": "stdout",
     "output_type": "stream",
     "text": [
      "\u001b[1m======================================= test session starts =======================================\u001b[0m\n",
      "platform win32 -- Python 3.10.1, pytest-7.0.1, pluggy-1.0.0 -- C:\\Users\\imran\\.virtualenvs\\Python_Unit_testing_with_Pytest-S04JhjuQ\\Scripts\\python.exe\n",
      "cachedir: .pytest_cache\n",
      "rootdir: d:\\👨‍💻 Work-Station\\🐍 Python Track\\📢 Conf & Workshop\\Workshop\\Testing\\Python Unit testing with Pytest\n",
      "\u001b[1mcollecting ... \u001b[0mcollected 1 item\n",
      "\n",
      "tmptjgmdfy9.py::test_add_different \u001b[31mFAILED\u001b[0m\u001b[31m                                                    [100%]\u001b[0m\n",
      "\n",
      "============================================ FAILURES =============================================\n",
      "\u001b[31m\u001b[1m_______________________________________ test_add_different ________________________________________\u001b[0m\n",
      "\n",
      "    \u001b[94mdef\u001b[39;49;00m \u001b[92mtest_add_different\u001b[39;49;00m():\n",
      "        x = mock.MagicMock()\n",
      ">       \u001b[94massert\u001b[39;49;00m x +\u001b[94m1\u001b[39;49;00m != x + \u001b[94m5\u001b[39;49;00m \u001b[90m# here x's id is same\u001b[39;49;00m\n",
      "\u001b[1m\u001b[31mE       AssertionError: assert (<MagicMock id='2449128283184'> + 1) != (<MagicMock id='2449128283184'> + 5)\u001b[0m\n",
      "\n",
      "\u001b[1m\u001b[31mC:\\Users\\imran\\AppData\\Local\\Temp\\ipykernel_11764\\3966801752.py\u001b[0m:5: AssertionError\n",
      "===================================== short test summary info =====================================\n",
      "FAILED tmptjgmdfy9.py::test_add_different - AssertionError: assert (<MagicMock id='2449128283184'...\n",
      "\u001b[31m======================================== \u001b[31m\u001b[1m1 failed\u001b[0m\u001b[31m in 0.05s\u001b[0m\u001b[31m ========================================\u001b[0m\n"
     ]
    }
   ],
   "source": [
    "%%ipytest -vv\n",
    "\n",
    "# calling methods on mock returns the same value, doesn't matter what we add\n",
    "\n",
    "def test_add_different():\n",
    "    x = mock.MagicMock()\n",
    "    assert x +1 != x + 5 # here x's id is same\n"
   ]
  },
  {
   "cell_type": "code",
   "execution_count": 31,
   "metadata": {},
   "outputs": [
    {
     "name": "stdout",
     "output_type": "stream",
     "text": [
      "\u001b[1m======================================= test session starts =======================================\u001b[0m\n",
      "platform win32 -- Python 3.10.1, pytest-7.0.1, pluggy-1.0.0 -- C:\\Users\\imran\\.virtualenvs\\Python_Unit_testing_with_Pytest-S04JhjuQ\\Scripts\\python.exe\n",
      "cachedir: .pytest_cache\n",
      "rootdir: d:\\👨‍💻 Work-Station\\🐍 Python Track\\📢 Conf & Workshop\\Workshop\\Testing\\Python Unit testing with Pytest\n",
      "\u001b[1mcollecting ... \u001b[0mcollected 3 items\n",
      "\n",
      "tmp0qjbbk2h.py::test__raise_index \u001b[31mFAILED\u001b[0m\u001b[31m                                                     [ 33%]\u001b[0m\n",
      "tmp0qjbbk2h.py::test__raise_slice \u001b[31mFAILED\u001b[0m\u001b[31m                                                     [ 66%]\u001b[0m\n",
      "tmp0qjbbk2h.py::test__raise_step_slice \u001b[31mFAILED\u001b[0m\u001b[31m                                                [100%]\u001b[0m\n",
      "\n",
      "============================================ FAILURES =============================================\n",
      "\u001b[31m\u001b[1m________________________________________ test__raise_index ________________________________________\u001b[0m\n",
      "\n",
      "    \u001b[94mdef\u001b[39;49;00m \u001b[92mtest__raise_index\u001b[39;49;00m():\n",
      ">       raise_index(mock.MagicMock())\n",
      "\n",
      "\u001b[1m\u001b[31mC:\\Users\\imran\\AppData\\Local\\Temp\\ipykernel_11764\\1343082278.py\u001b[0m:10: \n",
      "_ _ _ _ _ _ _ _ _ _ _ _ _ _ _ _ _ _ _ _ _ _ _ _ _ _ _ _ _ _ _ _ _ _ _ _ _ _ _ _ _ _ _ _ _ _ _ _ _ _\n",
      "\n",
      "x = <MagicMock id='2449130433376'>\n",
      "\n",
      "    \u001b[94mdef\u001b[39;49;00m \u001b[92mraise_index\u001b[39;49;00m(x):\n",
      ">       \u001b[94mraise\u001b[39;49;00m \u001b[96mValueError\u001b[39;49;00m(x[\u001b[94m5\u001b[39;49;00m])\n",
      "\u001b[1m\u001b[31mE       ValueError: <MagicMock name='mock.__getitem__()' id='2449130196368'>\u001b[0m\n",
      "\n",
      "\u001b[1m\u001b[31mC:\\Users\\imran\\AppData\\Local\\Temp\\ipykernel_11764\\1343082278.py\u001b[0m:4: ValueError\n",
      "\u001b[31m\u001b[1m________________________________________ test__raise_slice ________________________________________\u001b[0m\n",
      "\n",
      "    \u001b[94mdef\u001b[39;49;00m \u001b[92mtest__raise_slice\u001b[39;49;00m():\n",
      ">       raise_index(mock.MagicMock())\n",
      "\n",
      "\u001b[1m\u001b[31mC:\\Users\\imran\\AppData\\Local\\Temp\\ipykernel_11764\\1343082278.py\u001b[0m:17: \n",
      "_ _ _ _ _ _ _ _ _ _ _ _ _ _ _ _ _ _ _ _ _ _ _ _ _ _ _ _ _ _ _ _ _ _ _ _ _ _ _ _ _ _ _ _ _ _ _ _ _ _\n",
      "\n",
      "x = <MagicMock id='2449128929504'>\n",
      "\n",
      "    \u001b[94mdef\u001b[39;49;00m \u001b[92mraise_index\u001b[39;49;00m(x):\n",
      ">       \u001b[94mraise\u001b[39;49;00m \u001b[96mValueError\u001b[39;49;00m(x[\u001b[94m5\u001b[39;49;00m])\n",
      "\u001b[1m\u001b[31mE       ValueError: <MagicMock name='mock.__getitem__()' id='2449129490944'>\u001b[0m\n",
      "\n",
      "\u001b[1m\u001b[31mC:\\Users\\imran\\AppData\\Local\\Temp\\ipykernel_11764\\1343082278.py\u001b[0m:4: ValueError\n",
      "\u001b[31m\u001b[1m_____________________________________ test__raise_step_slice ______________________________________\u001b[0m\n",
      "\n",
      "    \u001b[94mdef\u001b[39;49;00m \u001b[92mtest__raise_step_slice\u001b[39;49;00m():\n",
      ">       raise_index(mock.MagicMock())\n",
      "\n",
      "\u001b[1m\u001b[31mC:\\Users\\imran\\AppData\\Local\\Temp\\ipykernel_11764\\1343082278.py\u001b[0m:20: \n",
      "_ _ _ _ _ _ _ _ _ _ _ _ _ _ _ _ _ _ _ _ _ _ _ _ _ _ _ _ _ _ _ _ _ _ _ _ _ _ _ _ _ _ _ _ _ _ _ _ _ _\n",
      "\n",
      "x = <MagicMock id='2449129481424'>\n",
      "\n",
      "    \u001b[94mdef\u001b[39;49;00m \u001b[92mraise_index\u001b[39;49;00m(x):\n",
      ">       \u001b[94mraise\u001b[39;49;00m \u001b[96mValueError\u001b[39;49;00m(x[\u001b[94m5\u001b[39;49;00m])\n",
      "\u001b[1m\u001b[31mE       ValueError: <MagicMock name='mock.__getitem__()' id='2449127913792'>\u001b[0m\n",
      "\n",
      "\u001b[1m\u001b[31mC:\\Users\\imran\\AppData\\Local\\Temp\\ipykernel_11764\\1343082278.py\u001b[0m:4: ValueError\n",
      "===================================== short test summary info =====================================\n",
      "FAILED tmp0qjbbk2h.py::test__raise_index - ValueError: <MagicMock name='mock.__getitem__()' id='2...\n",
      "FAILED tmp0qjbbk2h.py::test__raise_slice - ValueError: <MagicMock name='mock.__getitem__()' id='2...\n",
      "FAILED tmp0qjbbk2h.py::test__raise_step_slice - ValueError: <MagicMock name='mock.__getitem__()' ...\n",
      "\u001b[31m======================================== \u001b[31m\u001b[1m3 failed\u001b[0m\u001b[31m in 0.11s\u001b[0m\u001b[31m ========================================\u001b[0m\n"
     ]
    }
   ],
   "source": [
    "%%ipytest -vv\n",
    "\n",
    "# Regardless whether you use the `[]` operator with indices, slices ot step-slices, mocks will return the same object\n",
    "\n",
    "def raise_index(x):\n",
    "    raise ValueError(x[5])\n",
    "\n",
    "def raise_slice(x):\n",
    "    raise ValueError(x[5:7])\n",
    "\n",
    "def test__raise_index():\n",
    "    raise_index(mock.MagicMock())\n",
    "\n",
    "# ========= test ================\n",
    "def step_slice(x):\n",
    "    raise ValueError(x[::-1])\n",
    "\n",
    "def test__raise_slice():\n",
    "    raise_index(mock.MagicMock())\n",
    "\n",
    "def test__raise_step_slice():\n",
    "    raise_index(mock.MagicMock())"
   ]
  },
  {
   "cell_type": "code",
   "execution_count": 32,
   "metadata": {},
   "outputs": [
    {
     "name": "stdout",
     "output_type": "stream",
     "text": [
      "\u001b[1m======================================= test session starts =======================================\u001b[0m\n",
      "platform win32 -- Python 3.10.1, pytest-7.0.1, pluggy-1.0.0 -- C:\\Users\\imran\\.virtualenvs\\Python_Unit_testing_with_Pytest-S04JhjuQ\\Scripts\\python.exe\n",
      "cachedir: .pytest_cache\n",
      "rootdir: d:\\👨‍💻 Work-Station\\🐍 Python Track\\📢 Conf & Workshop\\Workshop\\Testing\\Python Unit testing with Pytest\n",
      "\u001b[1mcollecting ... \u001b[0mcollected 1 item\n",
      "\n",
      "tmpuo3s_f9p.py::test_attribute \u001b[31mFAILED\u001b[0m\u001b[31m                                                        [100%]\u001b[0m\n",
      "\n",
      "============================================ FAILURES =============================================\n",
      "\u001b[31m\u001b[1m_________________________________________ test_attribute __________________________________________\u001b[0m\n",
      "\n",
      "    \u001b[94mdef\u001b[39;49;00m \u001b[92mtest_attribute\u001b[39;49;00m():\n",
      "        x = mock.MagicMock(name=\u001b[33m'\u001b[39;49;00m\u001b[33mthing\u001b[39;49;00m\u001b[33m'\u001b[39;49;00m)\n",
      "        x.some_attribute = \u001b[94m5\u001b[39;49;00m\n",
      ">       \u001b[94massert\u001b[39;49;00m \u001b[94m5\u001b[39;49;00m != x.some_attribute\n",
      "\u001b[1m\u001b[31mE       AssertionError: assert 5 != 5\u001b[0m\n",
      "\u001b[1m\u001b[31mE        +  where 5 = <MagicMock name='thing' id='2449128537248'>.some_attribute\u001b[0m\n",
      "\n",
      "\u001b[1m\u001b[31mC:\\Users\\imran\\AppData\\Local\\Temp\\ipykernel_11764\\2621862127.py\u001b[0m:4: AssertionError\n",
      "===================================== short test summary info =====================================\n",
      "FAILED tmpuo3s_f9p.py::test_attribute - AssertionError: assert 5 != 5\n",
      "\u001b[31m======================================== \u001b[31m\u001b[1m1 failed\u001b[0m\u001b[31m in 0.03s\u001b[0m\u001b[31m ========================================\u001b[0m\n"
     ]
    }
   ],
   "source": [
    "%%ipytest -vv\n",
    "\n",
    "def test_attribute():\n",
    "    x = mock.MagicMock(name='thing')\n",
    "    x.some_attribute = 5\n",
    "    assert 5 != x.some_attribute"
   ]
  },
  {
   "cell_type": "code",
   "execution_count": 35,
   "metadata": {},
   "outputs": [
    {
     "name": "stdout",
     "output_type": "stream",
     "text": [
      "\u001b[1m======================================= test session starts =======================================\u001b[0m\n",
      "platform win32 -- Python 3.10.1, pytest-7.0.1, pluggy-1.0.0 -- C:\\Users\\imran\\.virtualenvs\\Python_Unit_testing_with_Pytest-S04JhjuQ\\Scripts\\python.exe\n",
      "cachedir: .pytest_cache\n",
      "rootdir: d:\\👨‍💻 Work-Station\\🐍 Python Track\\📢 Conf & Workshop\\Workshop\\Testing\\Python Unit testing with Pytest\n",
      "\u001b[1mcollecting ... \u001b[0mcollected 1 item\n",
      "\n",
      "tmp7r_rbyz9.py::test_deep_attribute \u001b[32mPASSED\u001b[0m\u001b[32m                                                   [100%]\u001b[0m\n",
      "\n",
      "\u001b[32m======================================== \u001b[32m\u001b[1m1 passed\u001b[0m\u001b[32m in 0.01s\u001b[0m\u001b[32m ========================================\u001b[0m\n"
     ]
    }
   ],
   "source": [
    "%%ipytest -vv\n",
    "\n",
    "def add_1(x):\n",
    "    return x.value + 1\n",
    "\n",
    "def test_deep_attribute():\n",
    "    x = mock.MagicMock(name='thing')\n",
    "    x.some_attribute.value = 1 # ?\n",
    "    assert add_1(x.some_attribute) == 2"
   ]
  },
  {
   "cell_type": "code",
   "execution_count": 38,
   "metadata": {},
   "outputs": [
    {
     "name": "stdout",
     "output_type": "stream",
     "text": [
      "\u001b[1m======================================= test session starts =======================================\u001b[0m\n",
      "platform win32 -- Python 3.10.1, pytest-7.0.1, pluggy-1.0.0 -- C:\\Users\\imran\\.virtualenvs\\Python_Unit_testing_with_Pytest-S04JhjuQ\\Scripts\\python.exe\n",
      "cachedir: .pytest_cache\n",
      "rootdir: d:\\👨‍💻 Work-Station\\🐍 Python Track\\📢 Conf & Workshop\\Workshop\\Testing\\Python Unit testing with Pytest\n",
      "\u001b[1mcollecting ... \u001b[0mcollected 1 item\n",
      "\n",
      "tmpf3_gjo2f.py::test_config_mock \u001b[32mPASSED\u001b[0m\u001b[32m                                                      [100%]\u001b[0m\n",
      "\n",
      "\u001b[32m======================================== \u001b[32m\u001b[1m1 passed\u001b[0m\u001b[32m in 0.04s\u001b[0m\u001b[32m ========================================\u001b[0m\n"
     ]
    }
   ],
   "source": [
    "%%ipytest -vv\n",
    "\n",
    "def add_1(x):\n",
    "    return x.value + 1\n",
    "\n",
    "def test_config_mock():\n",
    "    x = mock.MagicMock(name='thing')\n",
    "    x.configure_mock(**{\n",
    "        'some_attribute.value' : 1, # ?\n",
    "        'gauge': 7,\n",
    "    })\n",
    "\n",
    "    assert add_1(x.some_attribute) == 2"
   ]
  },
  {
   "cell_type": "markdown",
   "metadata": {},
   "source": [
    "- Putting it all together\n",
    "    - Assertions let you verify conditions\n",
    "    - Mocks let you avoid interacting with \"real life\"\n",
    "    - You can set mock attributes, return values, or even behavior\n",
    "    - Mocks record arguments they were called with\n",
    "- Testable code\n",
    "    - This shows how to test -- but writing testable code is important!\n",
    "    - The power of mocks shines when passing arguments to functions or initializers -- do it more.\n",
    "    - Patching is a tool of last resort.\n",
    "\n",
    "## Good Luck "
   ]
  }
 ],
 "metadata": {
  "interpreter": {
   "hash": "bb955eb090bbf69f650e63063031884c37c21edc3eb12ff96f863f61878d3624"
  },
  "kernelspec": {
   "display_name": "Python 3.10.1 64-bit ('Python_Unit_testing_with_Pytest-S04JhjuQ': virtualenv)",
   "language": "python",
   "name": "python3"
  },
  "language_info": {
   "codemirror_mode": {
    "name": "ipython",
    "version": 3
   },
   "file_extension": ".py",
   "mimetype": "text/x-python",
   "name": "python",
   "nbconvert_exporter": "python",
   "pygments_lexer": "ipython3",
   "version": "3.10.1"
  },
  "orig_nbformat": 4
 },
 "nbformat": 4,
 "nbformat_minor": 2
}
