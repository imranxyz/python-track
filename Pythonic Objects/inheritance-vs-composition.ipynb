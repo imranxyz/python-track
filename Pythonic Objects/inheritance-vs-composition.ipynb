{
 "cells": [
  {
   "cell_type": "markdown",
   "metadata": {},
   "source": [
    "Conf URL - https://www.youtube.com/watch?v=YXiaWtc0cgE\n",
    "\n",
    "Slide - https://cutt.ly/tTPv8Zn\n",
    "\n",
    "### Inheritance\n",
    "\n",
    "- Advantages\n",
    "    - Easy to code reuse\n",
    "    - Allow changing inherited implementation\n",
    "- Disadvantages\n",
    "    - It supports weak encapsulation & fragile structure\n",
    "    - Relationship between base & derived classes are statically fixed\n",
    "    - Derived class inherits everything from base class, even things it doesn't need\n",
    "    - Changes in a base class interface impact all derived classes\n",
    "\n",
    "### Composition\n",
    "\n",
    "- Advantages\n",
    "    - Supports Good encapsulation & adaptable structure\n",
    "    - Configuarable at runtime\n",
    "    - Interface changes have limited ripple effect\n",
    "- Disadvantages\n",
    "    - Sometimes hard to read code than inheritance\n",
    "    - More code to write than inheritance\n",
    "\n",
    "### when to use inheritance\n",
    "\n",
    "- when derived class & base class are in the same module/package & under the control of same programmers.\n",
    "- when extending classes are specially designed & documented for extension "
   ]
  }
 ],
 "metadata": {
  "language_info": {
   "name": "plaintext"
  },
  "orig_nbformat": 4
 },
 "nbformat": 4,
 "nbformat_minor": 2
}
