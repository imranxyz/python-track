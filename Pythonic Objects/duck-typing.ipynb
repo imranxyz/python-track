{
 "metadata": {
  "language_info": {
   "codemirror_mode": {
    "name": "ipython",
    "version": 3
   },
   "file_extension": ".py",
   "mimetype": "text/x-python",
   "name": "python",
   "nbconvert_exporter": "python",
   "pygments_lexer": "ipython3",
   "version": "3.8.4-final"
  },
  "orig_nbformat": 2,
  "kernelspec": {
   "name": "python3",
   "display_name": "Python 3.8.4 32-bit",
   "metadata": {
    "interpreter": {
     "hash": "c7f23210fe948138299b44c825f8d614c2df95c372787f4166c017b0c02863dd"
    }
   }
  }
 },
 "nbformat": 4,
 "nbformat_minor": 2,
 "cells": [
  {
   "source": [
    "### Duck Typing & Easier to ask forgivness than Permission (EAFP)\n",
    "\n",
    "If an object walks like a duck and talks like a duck, then it is considered as Duck.\n",
    "\n",
    "Python giving importance for behavior rather than original type of objects..\n",
    "\n",
    "for this nature we get:\n",
    "- Readability of the code will be improved\n",
    "- Clear code & easy to understand"
   ],
   "cell_type": "markdown",
   "metadata": {}
  },
  {
   "cell_type": "code",
   "execution_count": 10,
   "metadata": {},
   "outputs": [],
   "source": [
    "class Duck:\n",
    "    def quack(self): print('Quack, Quack...')\n",
    "    def walk(self): print('with the help of 4 legs')\n",
    "\n",
    "class Monkey:\n",
    "    def quack(self): print('Quack, Quack...')\n",
    "    def walk(self): print('with the help of 4 legs')"
   ]
  },
  {
   "cell_type": "code",
   "execution_count": 11,
   "metadata": {},
   "outputs": [
    {
     "output_type": "stream",
     "name": "stdout",
     "text": [
      "Quack, Quack...\nQuack object should be duck type\n"
     ]
    }
   ],
   "source": [
    "# Non-Pythonic Code [importance object type]\n",
    "def invoke_quack(object):\n",
    "    if isinstance(object, Duck):\n",
    "        object.quack()\n",
    "    else:\n",
    "        print('Quack object should be duck type')\n",
    "\n",
    "d = Duck()\n",
    "m = Monkey()\n",
    "invoke_quack(d)\n",
    "invoke_quack(m)"
   ]
  },
  {
   "cell_type": "code",
   "execution_count": 12,
   "metadata": {},
   "outputs": [
    {
     "output_type": "stream",
     "name": "stdout",
     "text": [
      "Quack, Quack...\nQuack, Quack...\n"
     ]
    }
   ],
   "source": [
    "# Pythonic Code [importance behavior]\n",
    "def invoke_quack(object):\n",
    "    object.quack()\n",
    "\n",
    "d = Duck()\n",
    "m = Monkey()\n",
    "invoke_quack(d)\n",
    "invoke_quack(m)"
   ]
  },
  {
   "source": [
    "#### EAFP & LBYL"
   ],
   "cell_type": "markdown",
   "metadata": {}
  },
  {
   "cell_type": "code",
   "execution_count": 3,
   "metadata": {},
   "outputs": [
    {
     "output_type": "stream",
     "name": "stdout",
     "text": [
      "Quack, Quack...\nMust be Duck type\n"
     ]
    }
   ],
   "source": [
    "class Duck:\n",
    "    def quack(self): print('Quack, Quack...')\n",
    "    def walk(self): print('with the help of 4 legs')\n",
    "\n",
    "class Monkey:\n",
    "    def talk(self): print('Monkey talking')\n",
    "    def walk(self): print('with the help of 4 legs')\n",
    "\n",
    "# Non-Pythonic Code (call/Look before you leave/permission)\n",
    "def invoke_quack(object):\n",
    "    if hasattr(object, 'quack'):\n",
    "        if callable(object.quack):\n",
    "            object.quack()\n",
    "    else:\n",
    "        print('Must be Duck type')\n",
    "\n",
    "d = Duck()\n",
    "m = Monkey()\n",
    "invoke_quack(d)\n",
    "invoke_quack(m)"
   ]
  },
  {
   "cell_type": "code",
   "execution_count": 5,
   "metadata": {},
   "outputs": [
    {
     "output_type": "stream",
     "name": "stdout",
     "text": [
      "Quack, Quack...\n'Monkey' object has no attribute 'quack'\n"
     ]
    }
   ],
   "source": [
    "# Pythonic Code (Easier to ask forgivness than permissions)\n",
    "def invoke_quack(object):\n",
    "    try:\n",
    "        object.quack()\n",
    "    except AttributeError as e:\n",
    "        print(e)\n",
    "    except Exception as e:\n",
    "        print(e)\n",
    "\n",
    "d = Duck()\n",
    "m = Monkey()\n",
    "invoke_quack(d)\n",
    "invoke_quack(m)"
   ]
  }
 ]
}