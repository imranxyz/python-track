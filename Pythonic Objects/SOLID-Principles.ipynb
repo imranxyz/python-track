{
 "cells": [
  {
   "cell_type": "markdown",
   "metadata": {
    "collapsed": false
   },
   "source": [
    "![solid_principle](https://media-exp1.licdn.com/dms/image/C4D12AQH5uQQ5VERl5w/article-inline_image-shrink_1000_1488/0/1602481035639?e=1662595200&v=beta&t=5D2ei5Neg2Z64xJXWp5OvgWNprMaY9qt0OTHgQagzBc)\n",
    "\n",
    "- [SOLID Design Principles with Python Examples](https://www.linkedin.com/pulse/solid-design-principles-python-examples-hiral-amodia)\n",
    "- [SOLID: The First 5 Principles of Object Oriented Design](https://www.digitalocean.com/community/conceptual_articles/s-o-l-i-d-the-first-five-principles-of-object-oriented-design#liskov-substitution-principle)\n",
    "- [SOLID Principles deep dive with Java code refactoring](https://www.youtube.com/playlist?list=PL-V21Ub1adxDgpwN28zPU27otvAVB13_L)\n"
   ]
  },
  {
   "cell_type": "markdown",
   "metadata": {
    "collapsed": false
   },
   "source": [
    "### Symptoms of Poor Software Design (Design smells)\n",
    "\n",
    "- **Rigidity**  The tendency for software to be difficult to change, even in simple ways. Design is *Hard to change.*\n",
    "- **Fragility** Program breaks in many places when a single change is made. Design is *easy to break.*\n",
    "- **Immobility** It is hard to extract parts of the system that can be reused in other systems. Design is *hard to reuse.*\n",
    "- **Software Viscosity** Design-preserving methods VS Hacks. Easier to hack(create new) than normal flow.\n",
    "- **Environment Viscosity** Slow and inefficient development environment very long compile times.. Several minutes to deploy.\n",
    "- **Needless Complexity** Over Engineering. Elements not currently useful in the design.\n",
    "- **Needless Repetiton** System has lots of repeated code elements.\n",
    "- **Opacity** A module is difficult to understand."
   ]
  },
  {
   "cell_type": "markdown",
   "metadata": {
    "collapsed": false
   },
   "source": [
    "#### The Single Responsibility Principle states that:\n",
    "\n",
    "- a class should have only one primary responsibility and should not take other responsibilities.\n",
    "\n",
    "Let’s take the example of a Telephone Directory application. We are designing a Telephone Directory and that contains a `TelephoneDirectory` Class which is supposed to handle the primary responsibility of maintaining Telephone Directory entries, i. e Telephone numbers and names of the entities to which the Telephone Numbers belong. Thus, the operations that this class is expected to perform are adding a new entry (Name and Telephone Number), delete an existing entry, change a Telephone Number assigned to an entity Name, and provide a lookup that returns the Telephone Number assigned to a particular entity Name."
   ]
  },
  {
   "cell_type": "code",
   "execution_count": 1,
   "metadata": {
    "collapsed": false
   },
   "outputs": [
   ],
   "source": [
    "# Before\n",
    "\n",
    "class TelephoneDirectory:\n",
    "    def __init__(self):\n",
    "        self.telephone_directory = {}\n",
    "\n",
    "    def add_entry(self, name, number):\n",
    "        self.telephone_directory[name] = number\n",
    "\n",
    "    def delete_entry(self, name):\n",
    "        self.telephone_directory.pop(name)\n",
    "\n",
    "    def update_entry(self, name, number):\n",
    "        self.telephone_directory[name] = number\n",
    "\n",
    "    def lookup_entry(self, name):\n",
    "        return self.telephone_directory.get(name, 'No Name Found')\n",
    "\n",
    "    def __str__(self):\n",
    "        ret_dict = ''\n",
    "        for key, value in self.telephone_directory.items():\n",
    "            ret_dict += f'{key} : {value}\\n'\n",
    "        return ret_dict\n"
   ]
  },
  {
   "cell_type": "code",
   "execution_count": 2,
   "metadata": {
    "collapsed": false
   },
   "outputs": [
    {
     "name": "stdout",
     "output_type": "stream",
     "text": [
      "Ravi : 999\n",
      "Vikas : 111\n",
      "\n"
     ]
    }
   ],
   "source": [
    "myTelephoneDirectory = TelephoneDirectory()\n",
    "myTelephoneDirectory.add_entry('Ravi', 999)\n",
    "myTelephoneDirectory.add_entry('Vikas', 111)\n",
    "print(myTelephoneDirectory)"
   ]
  },
  {
   "cell_type": "code",
   "execution_count": 3,
   "metadata": {
    "collapsed": false
   },
   "outputs": [
    {
     "name": "stdout",
     "output_type": "stream",
     "text": [
      "Vikas : 111\n",
      "\n"
     ]
    }
   ],
   "source": [
    "myTelephoneDirectory.delete_entry('Ravi')\n",
    "print(myTelephoneDirectory)"
   ]
  },
  {
   "cell_type": "code",
   "execution_count": 4,
   "metadata": {
    "collapsed": false
   },
   "outputs": [
    {
     "name": "stdout",
     "output_type": "stream",
     "text": [
      "77689\n",
      "Vikas : 77689\n",
      "Ravi : 123456\n",
      "\n"
     ]
    }
   ],
   "source": [
    "myTelephoneDirectory.add_entry('Ravi', 123456)\n",
    "myTelephoneDirectory.update_entry('Vikas', 77689)\n",
    "print(myTelephoneDirectory.lookup_entry('Vikas'))\n",
    "print(myTelephoneDirectory)"
   ]
  },
  {
   "cell_type": "markdown",
   "metadata": {
    "collapsed": false
   },
   "source": [
    "Now let’s say that there are two more requirements in the project – Persist the contents of the Telephone Directory to a Database and transfer the contents of Telephone Directory to a file."
   ]
  },
  {
   "cell_type": "code",
   "execution_count": 5,
   "metadata": {
    "collapsed": false
   },
   "outputs": [
   ],
   "source": [
    "class TelephoneDirectory:\n",
    "    def __init__(self):\n",
    "        self.telephone_directory = {}\n",
    "\n",
    "    def add_entry(self, name, number):\n",
    "        self.telephone_directory[name] = number\n",
    "\n",
    "    def delete_entry(self, name):\n",
    "        self.telephone_directory.pop(name)\n",
    "\n",
    "    def update_entry(self, name, number):\n",
    "        self.telephone_directory[name] = number\n",
    "\n",
    "    def lookup_entry(self, name):\n",
    "        return self.telephone_directory.get(name, 'No Name Found')\n",
    "\n",
    "    def __str__(self):\n",
    "        ret_dict = ''\n",
    "        for key, value in self.telephone_directory.items():\n",
    "            ret_dict += f'{key} : {value}\\n'\n",
    "        return ret_dict\n",
    "\n",
    "    def persist_to_database(self, database_details):\n",
    "        # code for save telephone entities into database\n",
    "        pass\n",
    "\n",
    "    def save_to_file(self, file_name, location):\n",
    "        # code for save telephone entities into file\n",
    "        pass"
   ]
  },
  {
   "cell_type": "markdown",
   "metadata": {
    "collapsed": false
   },
   "source": [
    "Now, this is where we broke the **Single Responsibility Design Principle**. By adding the functionalities of persisting to the database and saving to file, we gave additional responsibilities to `TelephoneDirectory` class which are not its primary responsibility. This class now has additional features that can cause it to change. \n",
    "\n",
    "The Single Responsibility Principle asks us not to add additional responsibilities to a class so that we don’t have to modify a class unless there is a change to its primary responsibility."
   ]
  },
  {
   "cell_type": "markdown",
   "metadata": {
    "collapsed": false
   },
   "source": [
    "#### How we can solve\n",
    "\n",
    "We can handle the current situation by having separate classes that would handle database persistence and saving to file. We can pass the `TelephoneDirectory` object to the objects of those classes and write any additional features in those classes."
   ]
  },
  {
   "cell_type": "code",
   "execution_count": 6,
   "metadata": {
    "collapsed": false
   },
   "outputs": [
   ],
   "source": [
    "class persist_to_database:\n",
    "    def __init__(self, objects_to_persist):\n",
    "        self.objects_to_persist = objects_to_persist"
   ]
  },
  {
   "cell_type": "code",
   "execution_count": 7,
   "metadata": {
    "collapsed": false
   },
   "outputs": [
   ],
   "source": [
    "class save_to_file:\n",
    "    def __init__(self, objects_to_save):\n",
    "        self.objects_to_save = objects_to_save"
   ]
  },
  {
   "cell_type": "markdown",
   "metadata": {
    "collapsed": false
   },
   "source": [
    "#### Open Closed Principle states that: \n",
    "\n",
    "- Software entities (classes, modules, functions, etc.) should be open for extension, but closed for modification.\n",
    "\n",
    "Let’s say we have an application for an apparel store. Among various features in the system, there is also a feature to apply select discounts based on the type of apparel."
   ]
  },
  {
   "cell_type": "code",
   "execution_count": 8,
   "metadata": {
    "collapsed": false
   },
   "outputs": [
   ],
   "source": [
    "from enum import Enum\n",
    "\n",
    "class Products(Enum):\n",
    "    SHIRT = 1\n",
    "    T_SHIRT = 2\n",
    "    PANT = 3\n",
    "\n",
    "class DiscountCalculator(object):\n",
    "    def __init__(self, product_type, cost):\n",
    "        self.product_type = product_type\n",
    "        self.cost = cost\n",
    "\n",
    "    def get_discounted_price(self):\n",
    "        if self.product_type == Products.SHIRT:\n",
    "            return self.cost - (self.cost * 0.10)\n",
    "        elif self.product_type == Products.T_SHIRT:\n",
    "            return self.cost - (self.cost * 0.15)\n",
    "        elif self.product_type == Products.PANT:\n",
    "            return self.cost - (self.cost * 0.25)"
   ]
  },
  {
   "cell_type": "code",
   "execution_count": 9,
   "metadata": {
    "collapsed": false
   },
   "outputs": [
    {
     "name": "stdout",
     "output_type": "stream",
     "text": [
      "90.0\n"
     ]
    }
   ],
   "source": [
    "dc_shirt = DiscountCalculator(Products.SHIRT, 100)\n",
    "print(dc_shirt.get_discounted_price())"
   ]
  },
  {
   "cell_type": "code",
   "execution_count": 10,
   "metadata": {
    "collapsed": false
   },
   "outputs": [
    {
     "name": "stdout",
     "output_type": "stream",
     "text": [
      "85.0\n"
     ]
    }
   ],
   "source": [
    "dc_tshirt = DiscountCalculator(Products.T_SHIRT, 100)\n",
    "print(dc_tshirt.get_discounted_price())"
   ]
  },
  {
   "cell_type": "code",
   "execution_count": 11,
   "metadata": {
    "collapsed": false
   },
   "outputs": [
    {
     "name": "stdout",
     "output_type": "stream",
     "text": [
      "37.5\n"
     ]
    }
   ],
   "source": [
    "dc_pant = DiscountCalculator(Products.PANT, 50)\n",
    "print(dc_pant.get_discounted_price())"
   ]
  },
  {
   "cell_type": "markdown",
   "metadata": {
    "collapsed": false
   },
   "source": [
    "This design breaches the Open-Closed principle because this class will need modification if\n",
    "- A new apparel type is to be included and \n",
    "- If the discount amount for any apparel changes."
   ]
  },
  {
   "cell_type": "markdown",
   "metadata": {
    "collapsed": false
   },
   "source": [
    "#### Better Approach"
   ]
  },
  {
   "cell_type": "code",
   "execution_count": 12,
   "metadata": {
    "collapsed": false
   },
   "outputs": [
   ],
   "source": [
    "from abc import ABC, abstractmethod\n",
    "\n",
    "class DiscountCalculator(ABC):\n",
    "    @abstractmethod\n",
    "    def get_discounted_price(self):\n",
    "        pass\n",
    "\n",
    "class DiscountCalculatorShirt(DiscountCalculator):\n",
    "    def __init__(self, cost):\n",
    "        self.cost = cost\n",
    "\n",
    "    def get_discounted_price(self):\n",
    "        return self.cost - (self.cost * 0.10)\n",
    "\n",
    "class DiscountCalculatorTShirt(DiscountCalculator):\n",
    "    def __init__(self, cost):\n",
    "        self.cost = cost\n",
    "\n",
    "    def get_discounted_price(self):\n",
    "        return self.cost - (self.cost * 0.15)\n",
    "\n",
    "class DiscountCalculatorPant(DiscountCalculator):\n",
    "    def __init__(self, cost):\n",
    "        self.cost = cost\n",
    "\n",
    "    def get_discounted_price(self):\n",
    "        return self.cost - (self.cost * 0.25)"
   ]
  },
  {
   "cell_type": "code",
   "execution_count": 13,
   "metadata": {
    "collapsed": false
   },
   "outputs": [
    {
     "name": "stdout",
     "output_type": "stream",
     "text": [
      "90.0\n",
      "85.0\n",
      "75.0\n"
     ]
    }
   ],
   "source": [
    "dc_shirt = DiscountCalculatorShirt(100)\n",
    "print(dc_shirt.get_discounted_price())\n",
    "\n",
    "dc_tshirt = DiscountCalculatorTShirt(100)\n",
    "print(dc_tshirt.get_discounted_price())\n",
    "\n",
    "dc_pant = DiscountCalculatorPant(100)\n",
    "print(dc_pant.get_discounted_price())"
   ]
  },
  {
   "cell_type": "markdown",
   "metadata": {
    "collapsed": false
   },
   "source": [
    "By doing this we have now removed the previous constraints that required modification to the base class. Now without modifying the base class we can add more apparels as well as we can change the discount amount of individual apparel as needed."
   ]
  },
  {
   "cell_type": "markdown",
   "metadata": {
    "collapsed": false
   },
   "source": [
    "#### Liskov Substitution Principle states that: \n",
    "\n",
    "- Objects in a program should be replaceable with instances of their subtypes without altering the correctness of that program.\n",
    "\n",
    "This principle states that if a class Sub(child) is a subtype of a class Super(Parent), then in the program, objects of type Super should be easily substituted with objects of type Sub(child) without needing to change the program."
   ]
  },
  {
   "cell_type": "code",
   "execution_count": 14,
   "metadata": {
    "collapsed": false
   },
   "outputs": [
    {
     "name": "stdout",
     "output_type": "stream",
     "text": [
      "{'Color': 'Red', 'Gear': 'Auto', 'Capacity': 6}\n"
     ]
    }
   ],
   "source": [
    "class Car:\n",
    "    def __init__(self, type):\n",
    "        self.type = type\n",
    "\n",
    "class PetrolCar(Car):\n",
    "    pass\n",
    "\n",
    "car = Car('SUV')\n",
    "car.properties = {\n",
    "    'Color': 'Red',\n",
    "    'Gear': 'Auto',\n",
    "    'Capacity': 6\n",
    "}\n",
    "print(car.properties)"
   ]
  },
  {
   "cell_type": "code",
   "execution_count": 15,
   "metadata": {
    "collapsed": false
   },
   "outputs": [
    {
     "name": "stdout",
     "output_type": "stream",
     "text": [
      "('Blue', 'Manual', 4)\n"
     ]
    }
   ],
   "source": [
    "petrol_car = PetrolCar('Sedan')\n",
    "petrol_car.properties = ('Blue', 'Manual', 4)\n",
    "print(petrol_car.properties)"
   ]
  },
  {
   "cell_type": "markdown",
   "metadata": {
    "collapsed": false
   },
   "source": [
    "Till here there is no problem. But let’s say that there is a requirement to find all Red colored cars. Let’s try to write a function that would take all the Cars and try to find out Red cars based on the implementation of the object of the `Car` Super Class."
   ]
  },
  {
   "cell_type": "code",
   "execution_count": 16,
   "metadata": {
    "collapsed": false
   },
   "outputs": [
   ],
   "source": [
    "# Breaking the Principle\n",
    "\n",
    "class Car:\n",
    "    def __init__(self, type):\n",
    "        self.type = type\n",
    "\n",
    "class PetrolCar(Car):\n",
    "    def __init__(self, type):\n",
    "        self.type = type\n",
    "\n",
    "car = Car('SUV')\n",
    "car.properties = {\n",
    "    'Color': 'Red',\n",
    "    'Gear': 'Auto',\n",
    "    'Capacity': 6\n",
    "}\n",
    "\n",
    "petrol_car = PetrolCar('Sedan')\n",
    "petrol_car.properties = ('Blue', 'Manual', 4)"
   ]
  },
  {
   "cell_type": "code",
   "execution_count": 17,
   "metadata": {
    "collapsed": false
   },
   "outputs": [
    {
     "ename": "TypeError",
     "evalue": "tuple indices must be integers or slices, not str",
     "output_type": "error",
     "traceback": [
      "\u001b[0;31m---------------------------------------------------------------------------\u001b[0m",
      "\u001b[0;31mTypeError\u001b[0m                                 Traceback (most recent call last)",
      "\u001b[0;32m/tmp/ipykernel_1174/2203492077.py\u001b[0m in \u001b[0;36m<cell line: 6>\u001b[0;34m()\u001b[0m\n\u001b[1;32m      5\u001b[0m \u001b[0;34m\u001b[0m\u001b[0m\n\u001b[1;32m      6\u001b[0m \u001b[0;32mfor\u001b[0m \u001b[0mred_car\u001b[0m \u001b[0;32min\u001b[0m \u001b[0mcars\u001b[0m\u001b[0;34m:\u001b[0m\u001b[0;34m\u001b[0m\u001b[0;34m\u001b[0m\u001b[0m\n\u001b[0;32m----> 7\u001b[0;31m     \u001b[0;32mif\u001b[0m \u001b[0mred_car\u001b[0m\u001b[0;34m.\u001b[0m\u001b[0mproperties\u001b[0m\u001b[0;34m[\u001b[0m\u001b[0;34m'Color'\u001b[0m\u001b[0;34m]\u001b[0m \u001b[0;34m==\u001b[0m \u001b[0;34m'Red'\u001b[0m\u001b[0;34m:\u001b[0m\u001b[0;34m\u001b[0m\u001b[0;34m\u001b[0m\u001b[0m\n\u001b[0m\u001b[1;32m      8\u001b[0m         \u001b[0mred_cars\u001b[0m \u001b[0;34m+=\u001b[0m \u001b[0;36m1\u001b[0m\u001b[0;34m\u001b[0m\u001b[0;34m\u001b[0m\u001b[0m\n\u001b[1;32m      9\u001b[0m \u001b[0;34m\u001b[0m\u001b[0m\n",
      "\u001b[0;31mTypeError\u001b[0m: tuple indices must be integers or slices, not str"
     ]
    }
   ],
   "source": [
    "# find red cars\n",
    "\n",
    "cars = [car, petrol_car]\n",
    "red_cars = 0\n",
    "\n",
    "for red_car in cars:\n",
    "    if red_car.properties['Color'] == 'Red':\n",
    "        red_cars += 1\n",
    "\n",
    "print(f'Number of Red cars {red_cars}')"
   ]
  },
  {
   "cell_type": "markdown",
   "metadata": {
    "collapsed": false
   },
   "source": [
    "Here we break the Liskov Substitution principle as we cannot replace Super type `Car’s` objects with objects of Subtype `PetrolCar` in the function written to find Red cars.\n",
    "\n",
    "A better way to implement this would be to introduce setter and getter methods in the Superclass Car using which we can set and get Car’s properties without leaving that implementation to individual developers. This way we just get the properties through a setter method and its implementation remains internal to the Superclass."
   ]
  },
  {
   "cell_type": "code",
   "execution_count": 18,
   "metadata": {
    "collapsed": false
   },
   "outputs": [
    {
     "name": "stdout",
     "output_type": "stream",
     "text": [
      "Number of Red car(s) 1\n"
     ]
    }
   ],
   "source": [
    "class Car:\n",
    "    def __init__(self, type):\n",
    "        self.type = type\n",
    "        self._car_properties = {}\n",
    "\n",
    "    def set_properties(self, color, gear, capacity):\n",
    "        self._car_properties = {\n",
    "            'Color': color,\n",
    "            'Gear': gear,\n",
    "            'Capacity': capacity,\n",
    "        }\n",
    "\n",
    "    def get_properties(self):\n",
    "        return self._car_properties\n",
    "\n",
    "\n",
    "class PetrolCar(Car):\n",
    "    pass\n",
    "\n",
    "car = Car('SUV')\n",
    "car.set_properties('Red', 'Auto', 0)\n",
    "\n",
    "petrol_car = PetrolCar('Sedan')\n",
    "petrol_car.set_properties('Blue', 'Manual', 4)\n",
    "\n",
    "cars = [car, petrol_car]\n",
    "\n",
    "red_cars = 0\n",
    "for red_car in cars:\n",
    "    if red_car.get_properties()['Color'] == 'Red':\n",
    "        red_cars += 1\n",
    "\n",
    "print(f'Number of Red car(s) {red_cars}')"
   ]
  },
  {
   "cell_type": "markdown",
   "metadata": {
    "collapsed": false
   },
   "source": [
    "#### The Interface Segregation Principle states that :\n",
    "\n",
    "- No client should be forced to depend on methods it does not use\n",
    "\n",
    "The Interface Segregation Principle suggests creating smaller interfaces known as “role interfaces” instead of a large interface consisting of multiple methods. By segregating the role-based methods into smaller role interfaces, the clients would depend only on the methods that are relevant to it."
   ]
  },
  {
   "cell_type": "markdown",
   "metadata": {
    "collapsed": false
   },
   "source": [
    "<hr>\n",
    "Let’s say we are designing an application for different communication devices. We identify that a communication device is a device that would have one or many of these features – a) to make calls, b). send SMS and c). browse the Internet. So, we create an interface named CommunicationDevice and add the respective abstract methods for each of these features such that any implementing class would need to implement these methods.\n",
    "\n",
    "If we create a class `SmartPhone` using the `CommunicationDevice` interface and implement all the functionalities, we shouldn't face any problem. But if we try to create a class `LanlinePhone`using the `CommunicationDevice` interface. This is exactly when we face the problems..\n",
    "\n",
    "we implement the `make_calls()` method, but as we also inherit abstract methods `send_sms()` and `browse_internet()` we have to provide an implementation of these two abstract methods also in the `LandlinePhone` class even if these are not applicable to this class `LandlinePhone`. We can either throw an exception or just write pass in the implementation, but we still need to provide an implementation. "
   ]
  },
  {
   "cell_type": "code",
   "execution_count": 19,
   "metadata": {
    "collapsed": false
   },
   "outputs": [
   ],
   "source": [
    "from abc import ABC, abstractmethod\n",
    "\n",
    "class CommunicationDevice(ABC):\n",
    "    @abstractmethod\n",
    "    def make_calls(self):\n",
    "        pass\n",
    "    \n",
    "    @abstractmethod\n",
    "    def send_sms(self):\n",
    "        pass\n",
    "    \n",
    "    @abstractmethod\n",
    "    def browse_internet(self):\n",
    "        pass"
   ]
  },
  {
   "cell_type": "code",
   "execution_count": 20,
   "metadata": {
    "collapsed": false
   },
   "outputs": [
   ],
   "source": [
    "class SmartPhone(CommunicationDevice):\n",
    "    def make_calls(self):\n",
    "        pass\n",
    "    \n",
    "    def send_sms(self):\n",
    "        pass\n",
    "    \n",
    "    def browse_internet(self):\n",
    "        pass"
   ]
  },
  {
   "cell_type": "code",
   "execution_count": 21,
   "metadata": {
    "collapsed": false
   },
   "outputs": [
   ],
   "source": [
    "class landlinePhone(CommunicationDevice):\n",
    "    def make_calls(self):\n",
    "        pass\n",
    "    \n",
    "    def send_sms(self):\n",
    "        # just pass or raise an exception\n",
    "        raise exception('Landline phone cant send sms')\n",
    "    \n",
    "    def browse_internet(self):\n",
    "        # just pass or raise an exception\n",
    "        raise exception('Landline phone cant browse internet')\n"
   ]
  },
  {
   "cell_type": "markdown",
   "metadata": {
    "collapsed": false
   },
   "source": [
    "This can be corrected by following the Interface Segregation Principle as in the below example. Instead of creating a large interface, we create smaller role interfaces for each method. The respective classes would only use related interfaces. "
   ]
  },
  {
   "cell_type": "code",
   "execution_count": 22,
   "metadata": {
    "collapsed": false
   },
   "outputs": [
   ],
   "source": [
    "from abc import ABC, abstractmethod\n",
    "\n",
    "class CallingDevice(ABC):\n",
    "    @abstractmethod\n",
    "    def make_calls():\n",
    "        pass\n",
    "    \n",
    "class MessagingDevice(ABC):\n",
    "    @abstractmethod\n",
    "    def send_sms():\n",
    "        pass\n",
    "    \n",
    "class InternetBrowsingDevice(ABC):\n",
    "    @abstractmethod\n",
    "    def browse_internet():\n",
    "        pass"
   ]
  },
  {
   "cell_type": "code",
   "execution_count": 23,
   "metadata": {
    "collapsed": false
   },
   "outputs": [
   ],
   "source": [
    "class SmartPhone(CallingDevice, MessagingDevice, InternetBrowsingDevice):\n",
    "    def make_calls():\n",
    "        pass\n",
    "    \n",
    "    def send_sms():\n",
    "        pass\n",
    "    \n",
    "    def browse_internet():\n",
    "        pass\n",
    "    \n",
    "class LandlinePhone(CallingDevice):\n",
    "    def make_calls():\n",
    "        pass"
   ]
  },
  {
   "cell_type": "markdown",
   "metadata": {
    "collapsed": false
   },
   "source": [
    "#### The Dependency Inversion Principle states that:\n",
    "\n",
    "- High level module should not depend on low level modules. Both should depend on abstractions\n",
    "- Abstractions should not depend on details. Details should depend on abstractions."
   ]
  },
  {
   "cell_type": "markdown",
   "metadata": {
    "collapsed": false
   },
   "source": [
    "we define a high-level class `Analysis` where we need to find out all students belonging to the RED team."
   ]
  },
  {
   "cell_type": "code",
   "execution_count": 24,
   "metadata": {
    "collapsed": false
   },
   "outputs": [
   ],
   "source": [
    "from enum import Enum\n",
    "\n",
    "class Teams(Enum):\n",
    "    BLUE_TEAM = 2\n",
    "    RED_TEAM = 3\n",
    "    GREEN_TEAM = 4\n",
    "    \n",
    "class Student:\n",
    "    def __init__(self, name):\n",
    "        self.name = name\n",
    "        \n",
    "class TeamMemberships():\n",
    "    def __init__(self):\n",
    "        self.team_memberships = list()\n",
    "        \n",
    "    def add_team_memberships(self, student, team):\n",
    "        self.team_memberships.append((student, team))"
   ]
  },
  {
   "cell_type": "code",
   "execution_count": 25,
   "metadata": {
    "collapsed": false
   },
   "outputs": [
    {
     "name": "stdout",
     "output_type": "stream",
     "text": [
      "Archie is in RED Team\n"
     ]
    }
   ],
   "source": [
    "class Analysis: # high level\n",
    "    def __init__(self, team_student_memberships):\n",
    "        memberships = team_student_memberships.team_memberships # low level\n",
    "        \n",
    "        for members in memberships:\n",
    "            if members[1] == Teams.RED_TEAM:\n",
    "                print(f'{members[0].name} is in RED Team')\n",
    "\n",
    "student1 = Student('Ravi')\n",
    "student2 = Student('Archie')\n",
    "student3 = Student('James')\n",
    "\n",
    "team_memberships = TeamMemberships()\n",
    "team_memberships.add_team_memberships(student1, Teams.BLUE_TEAM)\n",
    "team_memberships.add_team_memberships(student2, Teams.RED_TEAM)\n",
    "team_memberships.add_team_memberships(student3, Teams.GREEN_TEAM)\n",
    "\n",
    "analysis = Analysis(team_memberships)"
   ]
  },
  {
   "cell_type": "markdown",
   "metadata": {
    "collapsed": false
   },
   "source": [
    "Imagine a situation in which we need to change this implementation from `list` to something else. In that case, our high-level class `Analysis` would break as it is dependent on implementation details of Low-level class `TeamMemberships`.\n",
    "\n",
    "#### Correct Implementation"
   ]
  },
  {
   "cell_type": "code",
   "execution_count": 26,
   "metadata": {
    "collapsed": false
   },
   "outputs": [
   ],
   "source": [
    "from abc import ABC, abstractmethod\n",
    "from enum import Enum\n",
    "\n",
    "class Teams(Enum):\n",
    "    BLUE_TEAM = 2\n",
    "    RED_TEAM = 3\n",
    "    GREEN_TEAM = 4\n",
    "    \n",
    "class TeamMembershipsLookup(ABC):\n",
    "    @abstractmethod\n",
    "    def find_all_students_of_team(self, team): \n",
    "        pass"
   ]
  },
  {
   "cell_type": "code",
   "execution_count": 27,
   "metadata": {
    "collapsed": false
   },
   "outputs": [
   ],
   "source": [
    "class Student:\n",
    "    def __init__(self, name):\n",
    "        self.name = name\n",
    "\n",
    "class TeamMemberships(TeamMembershipsLookup):\n",
    "    def __init__(self):\n",
    "        self.team_memberships = list()\n",
    "        \n",
    "    def add_team_memberships(self, student, team):\n",
    "        self.team_memberships.append((student, team))\n",
    "        \n",
    "    def find_all_students_of_team(self, team):\n",
    "        for members in self.team_memberships:\n",
    "            if members[1] == team:\n",
    "                yield members[0].name"
   ]
  },
  {
   "cell_type": "code",
   "execution_count": 28,
   "metadata": {
    "collapsed": false
   },
   "outputs": [
    {
     "name": "stdout",
     "output_type": "stream",
     "text": [
      "Archie is in RED Team\n"
     ]
    }
   ],
   "source": [
    "class Analysis():\n",
    "    def __init__(self, team_memberships_lookup):\n",
    "        for student in team_memberships_lookup.find_all_students_of_team(Teams.RED_TEAM):\n",
    "            print(f'{student} is in RED Team')\n",
    "\n",
    "student1 = Student('Ravi')\n",
    "student2 = Student('Archie')\n",
    "student3 = Student('James')\n",
    "\n",
    "team_memberships = TeamMemberships()\n",
    "team_memberships.add_team_memberships(student1, Teams.BLUE_TEAM)\n",
    "team_memberships.add_team_memberships(student2, Teams.RED_TEAM)\n",
    "team_memberships.add_team_memberships(student3, Teams.GREEN_TEAM)\n",
    "\n",
    "analysis = Analysis(team_memberships)"
   ]
  },
  {
   "cell_type": "markdown",
   "metadata": {
    "collapsed": false
   },
   "source": [
    "To comply with the Dependency Inversion Principle, we need to ensure that high-level class `Analysis` should not depend on the concrete implementation of low-level class `TeamMemberships`. Instead, it should depend on some abstraction."
   ]
  }
 ],
 "metadata": {
  "kernelspec": {
   "display_name": "Python 3 (system-wide)",
   "language": "python",
   "metadata": {
    "cocalc": {
     "description": "Python 3 programming language",
     "priority": 100,
     "url": "https://www.python.org/"
    }
   },
   "name": "python3",
   "resource_dir": "/ext/jupyter/kernels/python3"
  },
  "language_info": {
   "codemirror_mode": {
    "name": "ipython",
    "version": 3
   },
   "file_extension": ".py",
   "mimetype": "text/x-python",
   "name": "python",
   "nbconvert_exporter": "python",
   "pygments_lexer": "ipython3",
   "version": "3.8.10"
  }
 },
 "nbformat": 4,
 "nbformat_minor": 4
}