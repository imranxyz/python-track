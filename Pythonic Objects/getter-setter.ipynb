{
 "cells": [
  {
   "cell_type": "markdown",
   "metadata": {},
   "source": [
    "### Property Decorators"
   ]
  },
  {
   "cell_type": "code",
   "execution_count": 47,
   "metadata": {},
   "outputs": [
    {
     "name": "stdout",
     "output_type": "stream",
     "text": [
      "John Smith\n",
      "Imran\n",
      "Rashid\n",
      "Imran Rashid\n",
      "imran_rashid@email.com\n",
      "imranxcodes@gmail.com\n",
      "{'first': 'Imran', 'last': 'Rashid', 'email': 'imranxcodes@gmail.com'}\n"
     ]
    }
   ],
   "source": [
    "class Employee:\n",
    "    def __init__(self, first, last):\n",
    "        self.first = first\n",
    "        self.last = last\n",
    "        self.email = f'{(self.first).lower()}_{(self.last).lower()}@email.com'\n",
    "\n",
    "    @property # getter\n",
    "    def full_name(self):\n",
    "        return f'{self.first} {self.last}'\n",
    "\n",
    "    @full_name.setter\n",
    "    def full_name(self, name):\n",
    "        self.first, self.last = name.split(' ')\n",
    "        self.email = f'{(self.first).lower()}_{(self.last).lower()}@email.com'\n",
    "    \n",
    "    @full_name.deleter\n",
    "    def full_name(self):\n",
    "        print(f'{self.full_name} has been deleted from database')\n",
    "        self.first= None\n",
    "        self.last= None\n",
    "\n",
    "    @property\n",
    "    def email_address(self):\n",
    "        return self.email\n",
    "    \n",
    "    @email_address.setter\n",
    "    def email_address(self, e):\n",
    "        self.email = e\n",
    "\n",
    "\n",
    "emp1 = Employee(first='John', last='Smith')\n",
    "print(emp1.full_name) # 'John Smith'\n",
    "emp1.full_name = 'Imran Rashid'\n",
    "print(emp1.first) # 'Imran'\n",
    "print(emp1.last) # 'Rashid'\n",
    "print(emp1.full_name) # 'Imran Rashid'\n",
    "print(emp1.email_address)\n",
    "emp1.email_address = 'imranxcodes@gmail.com'\n",
    "print(emp1.email_address)\n",
    "\n",
    "print(emp1.__dict__)"
   ]
  }
 ],
 "metadata": {
  "kernelspec": {
   "display_name": "Python 3.8.4 32-bit",
   "metadata": {
    "interpreter": {
     "hash": "c7f23210fe948138299b44c825f8d614c2df95c372787f4166c017b0c02863dd"
    }
   },
   "name": "python3"
  },
  "language_info": {
   "codemirror_mode": {
    "name": "ipython",
    "version": 3
   },
   "file_extension": ".py",
   "mimetype": "text/x-python",
   "name": "python",
   "nbconvert_exporter": "python",
   "pygments_lexer": "ipython3",
   "version": "3.8.4-final"
  },
  "orig_nbformat": 2
 },
 "nbformat": 4,
 "nbformat_minor": 2
}
