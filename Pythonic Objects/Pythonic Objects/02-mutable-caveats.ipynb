{
 "metadata": {
  "language_info": {
   "codemirror_mode": {
    "name": "ipython",
    "version": 3
   },
   "file_extension": ".py",
   "mimetype": "text/x-python",
   "name": "python",
   "nbconvert_exporter": "python",
   "pygments_lexer": "ipython3",
   "version": "3.8.4"
  },
  "orig_nbformat": 2,
  "kernelspec": {
   "name": "python3",
   "display_name": "Python 3.8.4 32-bit",
   "metadata": {
    "interpreter": {
     "hash": "c7f23210fe948138299b44c825f8d614c2df95c372787f4166c017b0c02863dd"
    }
   }
  }
 },
 "nbformat": 4,
 "nbformat_minor": 2,
 "cells": [
  {
   "source": [
    "### Caveats with mutable attributes and arguments\n",
    "\n",
    "A simple class to illustrate the danger of a mutable class attribute used as a default value for an instance attribute"
   ],
   "cell_type": "markdown",
   "metadata": {}
  },
  {
   "cell_type": "code",
   "execution_count": 6,
   "metadata": {},
   "outputs": [
    {
     "output_type": "execute_result",
     "data": {
      "text/plain": [
       "[]"
      ]
     },
     "metadata": {},
     "execution_count": 6
    }
   ],
   "source": [
    "class HauntedBus:\n",
    "    passengers = []\n",
    "\n",
    "    def pick(self, name):\n",
    "        self.passengers.append(name)\n",
    "    \n",
    "    def drop(self, name):\n",
    "        self.passengers.remove(name)\n",
    "\n",
    "bus1 = HauntedBus()\n",
    "bus1.passengers"
   ]
  },
  {
   "cell_type": "code",
   "execution_count": 8,
   "metadata": {},
   "outputs": [
    {
     "output_type": "execute_result",
     "data": {
      "text/plain": [
       "['Ann', 'Bob']"
      ]
     },
     "metadata": {},
     "execution_count": 8
    }
   ],
   "source": [
    "bus1.pick('Ann')\n",
    "bus1.pick('Bob')\n",
    "bus1.passengers"
   ]
  },
  {
   "cell_type": "code",
   "execution_count": 9,
   "metadata": {},
   "outputs": [
    {
     "output_type": "stream",
     "name": "stdout",
     "text": [
      "['Ann', 'Bob']\n"
     ]
    }
   ],
   "source": [
    "bus2 = HauntedBus()\n",
    "print(bus2.passengers)"
   ]
  },
  {
   "source": [
    "### HauntedBus_v2"
   ],
   "cell_type": "markdown",
   "metadata": {}
  },
  {
   "cell_type": "code",
   "execution_count": 15,
   "metadata": {},
   "outputs": [
    {
     "output_type": "execute_result",
     "data": {
      "text/plain": [
       "['Charlie', 'Debbie']"
      ]
     },
     "metadata": {},
     "execution_count": 15
    }
   ],
   "source": [
    "class HauntedBus_v2(object):\n",
    "    def __init__(self, passengers=[]):\n",
    "        self.passengers = passengers\n",
    "    \n",
    "    def pick(self, name):\n",
    "        self.passengers.append(name)\n",
    "\n",
    "    def drop(self, name):\n",
    "        self.passengers.remove(name)\n",
    "\n",
    "bus3 = HauntedBus_v2()\n",
    "bus3.pick('Charlie')\n",
    "bus3.pick('Debbie')\n",
    "bus3.passengers"
   ]
  },
  {
   "cell_type": "code",
   "execution_count": 16,
   "metadata": {},
   "outputs": [
    {
     "output_type": "execute_result",
     "data": {
      "text/plain": [
       "['Charlie', 'Debbie']"
      ]
     },
     "metadata": {},
     "execution_count": 16
    }
   ],
   "source": [
    "bus4 = HauntedBus_v2()\n",
    "bus4.passengers\n",
    "\n",
    "# The .pick and .drop methods were changing the default value for the passengers argument in the __init__ method."
   ]
  },
  {
   "cell_type": "code",
   "execution_count": 21,
   "metadata": {},
   "outputs": [],
   "source": [
    "class TwilightBus:\n",
    "    \"\"\"A bus model that makes passengers vanish\"\"\"\n",
    "\n",
    "    def __init__(self, passengers=None):\n",
    "        if passengers is None:\n",
    "            self.passengers = []\n",
    "        else:\n",
    "            # self.passengers = passengers (it creates an alias of hockey_team list, so .drop method remove names from hockey_list)\n",
    "            self.passengers = list(passengers)\n",
    "\n",
    "    def pick(self, name):\n",
    "        self.passengers.append(name)\n",
    "        \n",
    "    def drop(self, name):\n",
    "        self.passengers.remove(name)"
   ]
  },
  {
   "cell_type": "code",
   "execution_count": 22,
   "metadata": {},
   "outputs": [
    {
     "output_type": "execute_result",
     "data": {
      "text/plain": [
       "['Sue', 'Tina', 'Maya', 'Diana', 'Pat', 'Alice']"
      ]
     },
     "metadata": {},
     "execution_count": 22
    }
   ],
   "source": [
    "hockey_team = ['Sue', 'Tina', 'Maya', 'Diana', 'Pat', 'Alice']\n",
    "bus5 = TwilightBus(hockey_team)\n",
    "bus5.passengers"
   ]
  },
  {
   "cell_type": "code",
   "execution_count": 23,
   "metadata": {},
   "outputs": [
    {
     "output_type": "execute_result",
     "data": {
      "text/plain": [
       "['Tina', 'Maya', 'Diana', 'Alice']"
      ]
     },
     "metadata": {},
     "execution_count": 23
    }
   ],
   "source": [
    "bus5.drop('Sue')\n",
    "bus5.drop('Pat')\n",
    "bus5.passengers"
   ]
  },
  {
   "cell_type": "code",
   "execution_count": 24,
   "metadata": {},
   "outputs": [
    {
     "output_type": "execute_result",
     "data": {
      "text/plain": [
       "['Sue', 'Tina', 'Maya', 'Diana', 'Pat', 'Alice']"
      ]
     },
     "metadata": {},
     "execution_count": 24
    }
   ],
   "source": [
    "hockey_team"
   ]
  }
 ]
}