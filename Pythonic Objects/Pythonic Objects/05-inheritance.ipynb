{
 "cells": [
  {
   "cell_type": "code",
   "execution_count": 1,
   "metadata": {},
   "outputs": [
    {
     "name": "stdout",
     "output_type": "stream",
     "text": [
      "1.100000000000000088817841970012523233890533447265625\n"
     ]
    }
   ],
   "source": [
    "from decimal import Decimal\n",
    "print(Decimal(1.1))"
   ]
  },
  {
   "cell_type": "markdown",
   "metadata": {},
   "source": [
    "## Key takeways:\n",
    "- Understand the difference between *interface inheritance* vs *implementation inheritance*\n",
    "    - extends means implementation inheritance (Java)\n",
    "        - Implementation inheritance is a relationship where a child class inherits behaviour implementation from a base class (Normal inheritance)\n",
    "    - implements means interface inheritance (Java)\n",
    "        - Interface inheritance is when a child class only inherits the description of behaviour from the base class and provides the implementation itself. (Abstract method)\n",
    "- Undserstnad the *interfce inheritance* and *implementation inheritance* happen at the same time when you subclass a concrete class.\n",
    "- Avoid inheriting from concrete classes"
   ]
  }
 ],
 "metadata": {
  "kernelspec": {
   "display_name": "Python 3.8.4 32-bit",
   "metadata": {
    "interpreter": {
     "hash": "c7f23210fe948138299b44c825f8d614c2df95c372787f4166c017b0c02863dd"
    }
   },
   "name": "python3"
  },
  "language_info": {
   "codemirror_mode": {
    "name": "ipython",
    "version": 3
   },
   "file_extension": ".py",
   "mimetype": "text/x-python",
   "name": "python",
   "nbconvert_exporter": "python",
   "pygments_lexer": "ipython3",
   "version": "3.8.4-final"
  },
  "orig_nbformat": 2
 },
 "nbformat": 4,
 "nbformat_minor": 2
}
