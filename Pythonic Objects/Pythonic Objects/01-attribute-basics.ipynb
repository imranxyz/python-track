{
 "metadata": {
  "language_info": {
   "codemirror_mode": {
    "name": "ipython",
    "version": 3
   },
   "file_extension": ".py",
   "mimetype": "text/x-python",
   "name": "python",
   "nbconvert_exporter": "python",
   "pygments_lexer": "ipython3",
   "version": "3.8.4"
  },
  "orig_nbformat": 2,
  "kernelspec": {
   "name": "python3",
   "display_name": "Python 3.8.4 32-bit",
   "metadata": {
    "interpreter": {
     "hash": "c7f23210fe948138299b44c825f8d614c2df95c372787f4166c017b0c02863dd"
    }
   }
  }
 },
 "nbformat": 4,
 "nbformat_minor": 2,
 "cells": [
  {
   "source": [
    "Conf Talk link - [Pythonic Objects: idiomatic OOP in Python](https://www.youtube.com/watch?v=mUu_4k6a5-I)\n",
    "\n",
    "Github Repo - https://github.com/ramalho/pyob"
   ],
   "cell_type": "markdown",
   "metadata": {}
  },
  {
   "cell_type": "code",
   "execution_count": 24,
   "metadata": {},
   "outputs": [
    {
     "output_type": "stream",
     "name": "stdout",
     "text": [
      "3.8.4 (tags/v3.8.4:dfa645a, Jul 13 2020, 16:30:28) [MSC v.1926 32 bit (Intel)]\n"
     ]
    }
   ],
   "source": [
    "import sys\n",
    "print(sys.version)"
   ]
  },
  {
   "source": [
    "- Descriptors is class attribute that design to manage attributes in the instances.\n",
    "- Attributes defined in a class are called class attribute.\n",
    "\n",
    "```py\n",
    "from django.db import models\n",
    "\n",
    "class Musician(models.Model):\n",
    "    first_name = models.CharField(max_length=100)\n",
    "    last_name = models.CharField(max_length=50)\n",
    "    instrument = models.CharField(max_length=100)\n",
    "```"
   ],
   "cell_type": "markdown",
   "metadata": {}
  },
  {
   "cell_type": "code",
   "execution_count": 25,
   "metadata": {},
   "outputs": [
    {
     "output_type": "stream",
     "name": "stdout",
     "text": [
      "<__main__.Coordinate object at 0x0436DD48>\n-81.8\n"
     ]
    }
   ],
   "source": [
    "class Coordinate:\n",
    "    \"\"\"Coordinate on Earth\"\"\"\n",
    "\n",
    "cle = Coordinate()\n",
    "cle.lat = 41.4\n",
    "cle.long = -81.8\n",
    "print(cle)\n",
    "print(cle.long)"
   ]
  },
  {
   "cell_type": "code",
   "execution_count": 10,
   "metadata": {},
   "outputs": [
    {
     "output_type": "stream",
     "name": "stdout",
     "text": [
      "Coordinate(41.4,-81.8)\n"
     ]
    }
   ],
   "source": [
    "class Coordinate:\n",
    "    def __repr__(self):\n",
    "        return f'Coordinate({self.lat},{self.long})'\n",
    "c = Coordinate()\n",
    "c.lat = 41.4\n",
    "c.long = -81.8\n",
    "print(c)"
   ]
  },
  {
   "cell_type": "code",
   "execution_count": 14,
   "metadata": {},
   "outputs": [],
   "source": [
    "\n",
    "class Coordinate:\n",
    "    lat = 0.0\n",
    "    long = 0.0\n",
    "        \n",
    "    def __repr__(self):\n",
    "        return f'Coordinate({self.lat}, {self.long})'\n",
    "    \n",
    "    def __str__(self):\n",
    "        ns = 'NS'[self.lat < 0]\n",
    "        we = 'EW'[self.long < 0]\n",
    "        return f'{abs(self.lat):.1f}°{ns}, {abs(self.long):.1f}°{we}'"
   ]
  },
  {
   "cell_type": "code",
   "execution_count": 16,
   "metadata": {},
   "outputs": [
    {
     "output_type": "stream",
     "name": "stdout",
     "text": [
      "41.4°N, 81.8°W\n"
     ]
    }
   ],
   "source": [
    "cle = Coordinate()\n",
    "cle.lat = 41.4\n",
    "cle.long = -81.8\n",
    "print(cle)"
   ]
  },
  {
   "cell_type": "code",
   "execution_count": 22,
   "metadata": {},
   "outputs": [
    {
     "output_type": "stream",
     "name": "stdout",
     "text": [
      "0.0°N, 0.0°E\n"
     ]
    }
   ],
   "source": [
    "gulf_of_guinea = Coordinate()\n",
    "print(gulf_of_guinea)"
   ]
  },
  {
   "cell_type": "code",
   "execution_count": 27,
   "metadata": {},
   "outputs": [
    {
     "output_type": "stream",
     "name": "stdout",
     "text": [
      "{'flavor': 'Cheese', 'flavor2': None}\n{'flavor': 'Cheese', 'flavor2': None}\n{'__module__': '__main__', 'diameter': 40, 'slices': 8, '__init__': <function Pizza.__init__ at 0x06B1D388>, '__dict__': <attribute '__dict__' of 'Pizza' objects>, '__weakref__': <attribute '__weakref__' of 'Pizza' objects>, '__doc__': None}\n"
     ]
    }
   ],
   "source": [
    "class Pizza:\n",
    "\n",
    "    diameter = 40\n",
    "    slices = 8\n",
    "\n",
    "    def __init__(self, flavor='Cheese', flavor2=None):\n",
    "        self.flavor = flavor\n",
    "        self.flavor2 = flavor2\n",
    "        \n",
    "p = Pizza()\n",
    "print(p.__dict__)\n",
    "q = Pizza()\n",
    "print(q.__dict__)\n",
    "print(Pizza.__dict__)\n",
    "\n",
    "# PEP 412 — Key-Sharing dictionary (https://www.python.org/dev/peps/pep-0412/)"
   ]
  },
  {
   "source": [
    "### Lab #1 Enhancing Coordinate"
   ],
   "cell_type": "markdown",
   "metadata": {}
  },
  {
   "cell_type": "code",
   "execution_count": 1,
   "metadata": {},
   "outputs": [],
   "source": [
    "import geohash\n",
    "\n",
    "class Coordinate:\n",
    "    \"\"\"Coordinate on Earth\"\"\"\n",
    "\n",
    "    reference_system = 'WGS84'\n",
    "\n",
    "    def __init__(self, lat=0.0, long=0.0):\n",
    "        self.lat = lat\n",
    "        self.long = long\n",
    "\n",
    "    def __repr__(self):\n",
    "        return f'Coordinate({self.lat}, {self.long})'\n",
    "\n",
    "    def __str__(self):\n",
    "        ns = 'NS'[self.lat < 0]\n",
    "        we = 'EW'[self.long < 0]\n",
    "        return f'{abs(self.lat):.1f}°{ns}, {abs(self.long):.1f}°{we}'\n",
    "\n",
    "    def geohash(self):\n",
    "        return geohash.encode(self.lat, self.long)"
   ]
  },
  {
   "cell_type": "code",
   "execution_count": 2,
   "metadata": {},
   "outputs": [
    {
     "output_type": "execute_result",
     "data": {
      "text/plain": [
       "Coordinate(0.0, 0.0)"
      ]
     },
     "metadata": {},
     "execution_count": 2
    }
   ],
   "source": [
    "gulf_of_guinea = Coordinate()\n",
    "gulf_of_guinea"
   ]
  },
  {
   "cell_type": "code",
   "execution_count": 3,
   "metadata": {},
   "outputs": [
    {
     "output_type": "execute_result",
     "data": {
      "text/plain": [
       "Coordinate(51.5, 0.0)"
      ]
     },
     "metadata": {},
     "execution_count": 3
    }
   ],
   "source": [
    "greenwich = Coordinate(51.5)\n",
    "greenwich"
   ]
  },
  {
   "cell_type": "code",
   "execution_count": 4,
   "metadata": {},
   "outputs": [
    {
     "output_type": "stream",
     "name": "stdout",
     "text": [
      "51.5°N, 0.1°W\n"
     ]
    }
   ],
   "source": [
    "london = Coordinate(51.5, -0.1)\n",
    "print(london)"
   ]
  },
  {
   "cell_type": "code",
   "execution_count": 5,
   "metadata": {},
   "outputs": [
    {
     "output_type": "execute_result",
     "data": {
      "text/plain": [
       "'WGS84'"
      ]
     },
     "metadata": {},
     "execution_count": 5
    }
   ],
   "source": [
    "Coordinate.reference_system"
   ]
  },
  {
   "cell_type": "code",
   "execution_count": 6,
   "metadata": {},
   "outputs": [
    {
     "output_type": "stream",
     "name": "stdout",
     "text": [
      "WGS84\ndpmuhfggh08w\n"
     ]
    }
   ],
   "source": [
    "cleveland = Coordinate(41.5, -81.7)\n",
    "print(cleveland.reference_system)\n",
    "print(cleveland.geohash())"
   ]
  }
 ]
}