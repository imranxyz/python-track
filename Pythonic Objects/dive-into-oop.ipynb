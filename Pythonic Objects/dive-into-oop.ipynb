{
 "metadata": {
  "language_info": {
   "codemirror_mode": {
    "name": "ipython",
    "version": 3
   },
   "file_extension": ".py",
   "mimetype": "text/x-python",
   "name": "python",
   "nbconvert_exporter": "python",
   "pygments_lexer": "ipython3",
   "version": "3.8.4-final"
  },
  "orig_nbformat": 2,
  "kernelspec": {
   "name": "python3",
   "display_name": "Python 3.8.4 32-bit",
   "metadata": {
    "interpreter": {
     "hash": "c7f23210fe948138299b44c825f8d614c2df95c372787f4166c017b0c02863dd"
    }
   }
  }
 },
 "nbformat": 4,
 "nbformat_minor": 2,
 "cells": [
  {
   "source": [
    "Conf Video URL - https://www.youtube.com/watch?v=__NUbjZUXNY\n",
    "\n",
    "Github Repo - https://github.com/lgiordani/oopy/"
   ],
   "cell_type": "markdown",
   "metadata": {}
  },
  {
   "source": [
    "### Part 3 - Exercises"
   ],
   "cell_type": "markdown",
   "metadata": {}
  },
  {
   "source": [
    "create a SecurityLift class that has the floor, status, and locked attributes. You are forbidden to use inheritance"
   ],
   "cell_type": "markdown",
   "metadata": {}
  },
  {
   "cell_type": "code",
   "execution_count": 3,
   "metadata": {},
   "outputs": [],
   "source": [
    "class SecurityLift(object):\n",
    "    def __init__(self, floor, status, locked=False):\n",
    "        self._floor = floor\n",
    "        self._status = status\n",
    "        self._locked = locked\n",
    "    \n",
    "    def open(self):\n",
    "        self._status = 'open'\n",
    "    \n",
    "    def close(self):\n",
    "        self._status = 'closed'"
   ]
  },
  {
   "cell_type": "code",
   "execution_count": 4,
   "metadata": {},
   "outputs": [],
   "source": [
    "l = SecurityLift(1, 'closed')"
   ]
  },
  {
   "cell_type": "code",
   "execution_count": 5,
   "metadata": {},
   "outputs": [],
   "source": [
    "l = SecurityLift(1, 'closed', 'unlocked')"
   ]
  },
  {
   "source": [
    "Create a ClosedLift class that has a default status of 'closed'."
   ],
   "cell_type": "markdown",
   "metadata": {}
  },
  {
   "cell_type": "code",
   "execution_count": 1,
   "metadata": {},
   "outputs": [],
   "source": [
    "class ClosedLift(object):\n",
    "    def __init__(self, floor, status='closed'):\n",
    "        self._floor = floor\n",
    "        self._status = status\n",
    "\n",
    "    def open(self):\n",
    "        self._status = 'open'\n",
    "    \n",
    "    def close(self):\n",
    "        self._status = 'closed'\n"
   ]
  },
  {
   "cell_type": "code",
   "execution_count": 3,
   "metadata": {},
   "outputs": [
    {
     "output_type": "execute_result",
     "data": {
      "text/plain": [
       "'closed'"
      ]
     },
     "metadata": {},
     "execution_count": 3
    }
   ],
   "source": [
    "l = ClosedLift(1, 'closed')\n",
    "l._status"
   ]
  },
  {
   "cell_type": "code",
   "execution_count": 5,
   "metadata": {},
   "outputs": [
    {
     "output_type": "execute_result",
     "data": {
      "text/plain": [
       "'open'"
      ]
     },
     "metadata": {},
     "execution_count": 5
    }
   ],
   "source": [
    "l = ClosedLift(1, 'open')\n",
    "l._status"
   ]
  },
  {
   "cell_type": "code",
   "execution_count": 7,
   "metadata": {},
   "outputs": [
    {
     "output_type": "execute_result",
     "data": {
      "text/plain": [
       "'closed'"
      ]
     },
     "metadata": {},
     "execution_count": 7
    }
   ],
   "source": [
    "l = ClosedLift(1)\n",
    "l._status"
   ]
  },
  {
   "source": [
    "Create a ToggleLift class that has a method toggle which toggles the status of the lift between 'open' and 'closed'."
   ],
   "cell_type": "markdown",
   "metadata": {}
  },
  {
   "cell_type": "code",
   "execution_count": 8,
   "metadata": {},
   "outputs": [],
   "source": [
    "class ToggleLift(object):\n",
    "    def __init__(self, floor):\n",
    "        self._floor = floor\n",
    "        self._status = status\n",
    "    \n",
    "    def toggle(self):\n",
    "        if self._status == 'open':\n",
    "            self._status = 'closed'\n",
    "        else:\n",
    "            self._status = 'open'"
   ]
  },
  {
   "source": [
    "### Part 4 - Exercises"
   ],
   "cell_type": "markdown",
   "metadata": {}
  },
  {
   "source": [
    "adding a class attribute status with value 'undefined'. Now, create an instance. What value does the status attribute of the instance have? Why? What happens if you change the value of status in the class?"
   ],
   "cell_type": "markdown",
   "metadata": {}
  },
  {
   "cell_type": "code",
   "execution_count": 13,
   "metadata": {},
   "outputs": [
    {
     "output_type": "stream",
     "name": "stdout",
     "text": [
      "Undefined\ndisabled\ndisabled\n"
     ]
    }
   ],
   "source": [
    "class Lift:\n",
    "    status = 'Undefined'\n",
    "\n",
    "    def __init__(self, f):\n",
    "        self.floor = f\n",
    "    \n",
    "    def open(self):\n",
    "        self.status = 'open'\n",
    "    \n",
    "    def close(self):\n",
    "        self.status = 'closed'\n",
    "\n",
    "l = Lift(1)\n",
    "print(l.status) # 'Undefined' (class attributes are being shared amoung all instances)\n",
    "Lift.status = 'disabled'\n",
    "print(l.status) # 'disabled'\n",
    "l.__dict__\n",
    "print(Lift.__dict__['status'])\n"
   ]
  },
  {
   "source": [
    "adding a class attribute status with value 'closed' and remove self.status from __init__. Now, create an instance. What is the value of the status attribute? What happens if you change the value of status in the class? Call open(). What is the value of the status attribute? What happens if you change the value of status in the class?"
   ],
   "cell_type": "markdown",
   "metadata": {}
  },
  {
   "cell_type": "code",
   "execution_count": 18,
   "metadata": {},
   "outputs": [
    {
     "output_type": "stream",
     "name": "stdout",
     "text": [
      "closed\nopen\nopen\n{'floor': 1, 'status': 'open'}\nClosed\n"
     ]
    }
   ],
   "source": [
    "class Lift:\n",
    "    status = 'closed'\n",
    "\n",
    "    def __init__(self, f):\n",
    "        self.floor = f\n",
    "    \n",
    "    def open(self):\n",
    "        self.status = 'open'\n",
    "    \n",
    "    def close(self):\n",
    "        self.status = 'closed'\n",
    "\n",
    "l = Lift(1)\n",
    "print(l.status) # 'closed'\n",
    "Lift.status = 'disabled'\n",
    "l.open() \n",
    "print(l.status) # 'open'\n",
    "Lift.status = 'Closed'\n",
    "print(l.status) # 'open'\n",
    "\n",
    "print(l.__dict__)\n",
    "print(Lift.__dict__['status'])"
   ]
  },
  {
   "source": [
    "### Part 5 - Inheritance Exercises"
   ],
   "cell_type": "markdown",
   "metadata": {}
  },
  {
   "cell_type": "code",
   "execution_count": 1,
   "metadata": {},
   "outputs": [],
   "source": [
    "class Lift:\n",
    "    def __init__(self, f, s):\n",
    "        self.floor = f\n",
    "        self.status = s\n",
    "    \n",
    "    def open(self):\n",
    "        self.status = 'open'\n",
    "    \n",
    "    def close(self):\n",
    "        self.status = 'closed'"
   ]
  },
  {
   "cell_type": "code",
   "execution_count": 2,
   "metadata": {},
   "outputs": [],
   "source": [
    "class SecurityLift(Lift):\n",
    "    # Exercise 01: Starting with `Lift` and `SecurityLift` that inherits from it, \n",
    "    # modify `SecurityLift` adding a custom `__init__` method that creates the attribute self.locked.\n",
    "    def __init__(self, f, s, locked=False):\n",
    "        super().__init__(f, s)\n",
    "        self.locked = locked\n",
    "    \n",
    "    # Exercise 02: Change the `SecurityLift` method open to work with `self.locked` (i.e. you can open it only if it is not locked)\n",
    "    def open(self):\n",
    "        if not self.locked:\n",
    "            super().open()\n",
    "\n",
    "    # Exercise 03: Change the `SecurityLift` method `close` to accept an optional parameter `locked` that sets the locked attribute\n",
    "    def close(self, locked=False):\n",
    "        super().close()\n",
    "        self.locked = locked"
   ]
  },
  {
   "source": [
    "### Part 6 - Polymorphism - Exercises"
   ],
   "cell_type": "markdown",
   "metadata": {}
  },
  {
   "source": [
    "Create a class CustomInteger that contains an integer as self.value and with a __len__ method that returns the number of digits of the integer. Does len work for instances of this class? (hint: convert the integer into a string with str and count the characters)"
   ],
   "cell_type": "markdown",
   "metadata": {}
  },
  {
   "cell_type": "code",
   "execution_count": 23,
   "metadata": {},
   "outputs": [],
   "source": [
    "class CustomInteger:\n",
    "    def __init__(self, value):\n",
    "        self.value = value\n",
    "    \n",
    "    def __len__(self):\n",
    "        return len(str(self.value))"
   ]
  },
  {
   "cell_type": "code",
   "execution_count": 24,
   "metadata": {},
   "outputs": [
    {
     "output_type": "execute_result",
     "data": {
      "text/plain": [
       "4"
      ]
     },
     "metadata": {},
     "execution_count": 24
    }
   ],
   "source": [
    "c = CustomInteger(1357)\n",
    "len(c)"
   ]
  },
  {
   "source": [
    "Add a __contains__ method to CustomInteger that returns True if self.value contains the given digit. Does in work for this type?"
   ],
   "cell_type": "markdown",
   "metadata": {}
  },
  {
   "cell_type": "code",
   "execution_count": 27,
   "metadata": {},
   "outputs": [],
   "source": [
    "class CustomInteger:\n",
    "    def __init__(self, value):\n",
    "        self.value = value\n",
    "    \n",
    "    def __len__(self):\n",
    "        return len(str(self.value))\n",
    "    \n",
    "    def __contains__(self, digit):\n",
    "        return str(digit) in str(self.value)"
   ]
  },
  {
   "cell_type": "code",
   "execution_count": 28,
   "metadata": {},
   "outputs": [
    {
     "output_type": "execute_result",
     "data": {
      "text/plain": [
       "True"
      ]
     },
     "metadata": {},
     "execution_count": 28
    }
   ],
   "source": [
    "c = CustomInteger(1357)\n",
    "7 in c"
   ]
  },
  {
   "source": [
    "Try to use str on an instance of CustomInteger (e.g. str(c)). What happens? How can you return a better string representation, for example showing the actual value? (hint: try to define the method __str__)"
   ],
   "cell_type": "markdown",
   "metadata": {}
  },
  {
   "cell_type": "code",
   "execution_count": 33,
   "metadata": {},
   "outputs": [],
   "source": [
    "class CustomInteger:\n",
    "    def __init__(self, value):\n",
    "        self.value = value\n",
    "    \n",
    "    def __len__(self):\n",
    "        return len(str(self.value))\n",
    "    \n",
    "    def __contains__(self, digit):\n",
    "        return str(digit) in str(self.value)\n",
    "    \n",
    "    def __str__(self):\n",
    "        return f'{super().__str__} {(str(self.value))}'"
   ]
  },
  {
   "cell_type": "code",
   "execution_count": 35,
   "metadata": {},
   "outputs": [
    {
     "output_type": "stream",
     "name": "stdout",
     "text": [
      "<method-wrapper '__str__' of CustomInteger object at 0x0704EAD8> 1357\n"
     ]
    },
    {
     "output_type": "execute_result",
     "data": {
      "text/plain": [
       "\"<method-wrapper '__str__' of CustomInteger object at 0x0704EAD8> 1357\""
      ]
     },
     "metadata": {},
     "execution_count": 35
    }
   ],
   "source": [
    "c = CustomInteger(1357)\n",
    "print(c)\n",
    "str(c)"
   ]
  }
 ]
}