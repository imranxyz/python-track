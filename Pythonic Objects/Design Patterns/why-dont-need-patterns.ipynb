{
 "cells": [
  {
   "cell_type": "markdown",
   "metadata": {},
   "source": [
    "Conf URL — [You Don't need that!!](https://www.youtube.com/watch?v=imW-trt0i9I)\n",
    "\n",
    "Conf URL — [Sebastian Buczyński - Why you don't need some design patterns in Python?](https://www.youtube.com/watch?v=G5OeYHCJuv0)\n",
    "\n",
    "Python Design Patterns — https://python-patterns.guide/"
   ]
  },
  {
   "cell_type": "markdown",
   "metadata": {},
   "source": [
    "## What is Design Pattern?\n",
    "\n",
    "Pattern lets you express ideas that are hard to express in your language in a familiar way.\n",
    "\n",
    "### Singleton Pattern\n",
    "\n",
    "A class that can only be constructed once...\n",
    "\n",
    "Why Singleton is useful \n",
    "\n",
    "- Namespaces\n",
    "- Functionality you can pass around\n",
    "\n",
    "Python doesn't need `singleton pattern` beacuse modules are objects\n",
    "\n",
    "### Dependency Injection\n",
    "\n",
    "Provide dependencies to classes as constructor arguments\n",
    "\n",
    "Python doesn't need `dependency injection` because you can override objects\n",
    "\n",
    "### Iterator Pattern\n",
    "\n",
    "Iterate over custom collections\n",
    "\n",
    "Python doesn't need explicit `iterator pattern` because generators are easier\n",
    "\n",
    "### Visitor Pattern\n",
    "\n",
    "Perform a common operation on a collection\n",
    "\n",
    "Python doesn't need `visitor pattern` because generators separate structure from operations"
   ]
  }
 ],
 "metadata": {
  "language_info": {
   "name": "plaintext"
  },
  "orig_nbformat": 4
 },
 "nbformat": 4,
 "nbformat_minor": 2
}
