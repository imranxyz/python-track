{
 "cells": [
  {
   "cell_type": "markdown",
   "metadata": {
    "collapsed": false
   },
   "source": [
    "### Design Patterns in Python for the Untrained Eye\n",
    "\n",
    "- [Slide](https://docs.google.com/presentation/d/e/2PACX-1vQquDxG5_99RvxxKY8i8-DmpVM_3Ca76mU58Nf4sab25-bTY3kKjmMy3JihDtG0jVopZ-Or-BnIjNdX/pub?slide=id.g567ca5727c_0_67)\n",
    "- [Tutorial](https://arielortiz.info/s201911/pycon2019/docs/design_patterns.html)\n",
    "- [Video](https://www.youtube.com/watch?v=o1FZ_Bd4DSM)"
   ]
  },
  {
   "cell_type": "markdown",
   "metadata": {
    "collapsed": false
   },
   "source": [
    "### What is Patterns?\n",
    "\n",
    "A pattern is something that you did in the past, was successful, and can be applied to multiple situations. Patterns capture experiences in software development that have been proven to work again and again, and thus provide a solution to specific problems. *They are not invented. Instead, they are discovered from practical experience.*\n",
    "\n",
    "#### Pattern Categories\n",
    "\n",
    "Programming patterns can be split into three groups that cover different abstraction levels:\n",
    "\n",
    "- Idioms (Language Specific)\n",
    "- Architectural Patterns (MVC, MVT)\n",
    "- Design Patterns (Language Agonisitc)"
   ]
  },
  {
   "cell_type": "markdown",
   "metadata": {
    "collapsed": false
   },
   "source": [
    "#### Idioms\n",
    "\n",
    "Idioms represent the lowest-level patterns. They address aspects of both design and implementation. Most idioms are language-specific — they capture existing programming experience. Often the same idiom looks different for different languages, and sometimes an idiom that is useful for one programming language does not make sense in another."
   ]
  },
  {
   "cell_type": "code",
   "execution_count": 1,
   "metadata": {
    "collapsed": false
   },
   "outputs": [
    {
     "name": "stdout",
     "output_type": "stream",
     "text": [
      "x is greater than 0 but less than 20\n",
      "x is greater than 0 but less than 20\n"
     ]
    }
   ],
   "source": [
    "# Chain Comparison Operators\n",
    "\n",
    "x = 10\n",
    "\n",
    "# Don't do this\n",
    "if 0 < x and x < 20:\n",
    "    print('x is greater than 0 but less than 20')\n",
    "\n",
    "# instead, do this\n",
    "if 0 < x < 20:\n",
    "    print('x is greater than 0 but less than 20')"
   ]
  },
  {
   "cell_type": "code",
   "execution_count": 2,
   "metadata": {
    "collapsed": false
   },
   "outputs": [
    {
     "name": "stdout",
     "output_type": "stream",
     "text": [
      "20\n",
      "20\n"
     ]
    }
   ],
   "source": [
    "# Conditional Statement\n",
    "\n",
    "x = 10\n",
    "if x < 5:\n",
    "    print(10)\n",
    "else:\n",
    "    print(20)\n",
    "\n",
    "\n",
    "# can be reduced to this one\n",
    "print(10 if x < 5 else 20)"
   ]
  },
  {
   "cell_type": "code",
   "execution_count": 3,
   "metadata": {
    "collapsed": false
   },
   "outputs": [
    {
     "name": "stdout",
     "output_type": "stream",
     "text": [
      "0 # 0 1 # 1 2 # 2 3 # 3 4 # 4 \n",
      "0 @ 0 1 @ 1 2 @ 2 3 @ 3 4 @ 4 \n",
      "0 $ 0 1 $ 1 2 $ 2 3 $ 3 4 $ 4 \n",
      "0 :: 0\n",
      "1 :: 1\n",
      "2 :: 2\n",
      "3 :: 3\n",
      "4 :: 4\n"
     ]
    }
   ],
   "source": [
    "# Indexing during iteratiion\n",
    "\n",
    "collections = list(range(5))\n",
    "\n",
    "# dont't do this\n",
    "index = 0\n",
    "for value in collections:\n",
    "    print(index,'#', value, end=' ')\n",
    "    index += 1\n",
    "\n",
    "print()\n",
    "# nor this\n",
    "for index in range(len(collections)):\n",
    "    value = collections[index]\n",
    "    print(index,'@', value, end=' ')\n",
    "\n",
    "print()\n",
    "# Definitely, don't do this\n",
    "index = 0\n",
    "while index < len(collections):\n",
    "    value = collections[index]\n",
    "    print(index,'$', value, end=' ')\n",
    "    index += 1\n",
    "\n",
    "print()\n",
    "# do this\n",
    "for index, value in enumerate(collections):\n",
    "    print(index,'::', value)\n"
   ]
  },
  {
   "cell_type": "markdown",
   "metadata": {
    "collapsed": false
   },
   "source": [
    "#### Architectural Patterns\n",
    "\n",
    "Architectural patterns are templates for concrete software architectures. They specify the system-wide structural properties of an application, and have an impact on the architecture of its subsystems. The selection of an architectural pattern is therefore a fundamental design decision when developing a software system.\n",
    "\n",
    "A few examples of architectural patterns are:\n",
    "\n",
    "- Pipes and Filters\n",
    "- Model-View-Controller (MVC)\n",
    "- Microservices"
   ]
  },
  {
   "cell_type": "markdown",
   "metadata": {
    "collapsed": false
   },
   "source": [
    "#### Design Patterns"
   ]
  },
  {
   "cell_type": "markdown",
   "metadata": {
    "collapsed": false
   },
   "source": [
    "#### Singleton Pattern\n",
    "\n",
    "Singleton is a *creational design pattern* that lets you ensure that a class has only one instance, while providing a global access point to this instance.\n",
    "\n",
    "Read More about [Singleton](https://refactoring.guru/design-patterns/singleton) in Refactoring.guru\n",
    "\n",
    "![UML Diagram](https://refactoring.guru/images/patterns/diagrams/singleton/structure-en.png)"
   ]
  },
  {
   "cell_type": "code",
   "execution_count": 4,
   "metadata": {
    "collapsed": false
   },
   "outputs": [
   ],
   "source": [
    "class Tigger(object):\n",
    "    def __str__(self):\n",
    "        print(f'I am the only one!')\n",
    "\n",
    "    def roar(self):\n",
    "        return 'Grrr'"
   ]
  },
  {
   "cell_type": "markdown",
   "metadata": {
    "collapsed": false
   },
   "source": [
    "It seems reasonable to expect that there should be only one Tigger object (after all, he is the only one!), but the current implementation allows having multiple distinct Tigger objects:"
   ]
  },
  {
   "cell_type": "code",
   "execution_count": 5,
   "metadata": {
    "collapsed": false
   },
   "outputs": [
    {
     "name": "stdout",
     "output_type": "stream",
     "text": [
      "ID(a) = 139735309130432"
     ]
    },
    {
     "name": "stdout",
     "output_type": "stream",
     "text": [
      "\n",
      "ID(b) = 139735309130960\n",
      "Are they the same object? False\n"
     ]
    }
   ],
   "source": [
    "a = Tigger()\n",
    "b = Tigger()\n",
    "\n",
    "print(f'ID(a) = {id(a)}')\n",
    "print(f'ID(b) = {id(b)}')\n",
    "print(f'Are they the same object? {a is b}')"
   ]
  },
  {
   "cell_type": "markdown",
   "metadata": {
    "collapsed": false
   },
   "source": [
    "##### Refactoring\n",
    "\n",
    "- Make the `Tigger` class private by appending to its name a single leading underscore.\n",
    "- Create a private module-scoped variable called `_instance` and initialize it with `None`.\n",
    "- Define a function called `Tigger` that takes no arguments. This function is responsible for creating an instance of the `_Tigger` class only once and returning a reference to this unique instance every time it gets called. To accomplish this you’ll need to use the `_instance` variable from the previous point."
   ]
  },
  {
   "cell_type": "code",
   "execution_count": 6,
   "metadata": {
    "collapsed": false
   },
   "outputs": [
   ],
   "source": [
    "class _Tigger(object):\n",
    "    def __str__(self):\n",
    "        print(f'I am the only one!')\n",
    "\n",
    "    def roar(self):\n",
    "        return 'Grrr'\n",
    "\n",
    "_instance = None\n",
    "\n",
    "def Tigger():\n",
    "    global _instance\n",
    "    if _instance:\n",
    "        _instance = _Tigger()\n",
    "    return _instance"
   ]
  },
  {
   "cell_type": "code",
   "execution_count": 7,
   "metadata": {
    "collapsed": false
   },
   "outputs": [
    {
     "name": "stdout",
     "output_type": "stream",
     "text": [
      "ID(a) = 9497104\n",
      "ID(b) = 9497104\n",
      "Are they the same object? True\n"
     ]
    }
   ],
   "source": [
    "a = Tigger()\n",
    "b = Tigger()\n",
    "\n",
    "print(f'ID(a) = {id(a)}')\n",
    "print(f'ID(b) = {id(b)}')\n",
    "print(f'Are they the same object? {a is b}')"
   ]
  },
  {
   "cell_type": "markdown",
   "metadata": {
    "collapsed": false
   },
   "source": [
    "#### Pythonic Solution\n",
    "\n",
    "coming soon"
   ]
  },
  {
   "cell_type": "markdown",
   "metadata": {
    "collapsed": false
   },
   "source": [
    "#### Template Method Pattern\n",
    "\n",
    "Template Method is a behavioral design pattern that defines the skeleton of an algorithm in the base class but lets derived classes override specific steps of the algorithm without changing its structure.\n",
    "\n",
    "![Template Method Pattern](https://refactoring.guru/images/patterns/diagrams/template-method/structure.png)"
   ]
  },
  {
   "cell_type": "code",
   "execution_count": 8,
   "metadata": {
    "collapsed": false
   },
   "outputs": [
   ],
   "source": [
    "from abc import ABC, abstractmethod\n",
    "\n",
    "class AverageCalculator(ABC):\n",
    "    def average(self):\n",
    "        try:\n",
    "            num_items = 0\n",
    "            total_sum = 0\n",
    "\n",
    "            while self.has_next():\n",
    "                total_sum += self.next_item()\n",
    "                num_items += 1\n",
    "\n",
    "            if num_items == 0:\n",
    "                raise RuntimeError('Can\\'t compute the average of 0 items')\n",
    "\n",
    "            return total_sum/num_items\n",
    "\n",
    "        finally:\n",
    "            self.dispose()\n",
    "\n",
    "    @abstractmethod\n",
    "    def has_next(self):\n",
    "        ...\n",
    "\n",
    "    @abstractmethod\n",
    "    def next_item(self):\n",
    "        ...\n",
    "\n",
    "    def dispose(self):\n",
    "        pass"
   ]
  },
  {
   "cell_type": "code",
   "execution_count": 9,
   "metadata": {
    "collapsed": false
   },
   "outputs": [
   ],
   "source": [
    "class FileAverageCalculator(AverageCalculator):\n",
    "    def __init__(self, file):\n",
    "        self.file = file\n",
    "        self.last_line = self.file.readline() # read & return one line at a time\n",
    "\n",
    "    def has_next(self):\n",
    "        return self.last_line != ''\n",
    "\n",
    "    def next_item(self):\n",
    "        result = float(self.last_line)\n",
    "        self.last_line = self.file.readline()\n",
    "        return result\n",
    "\n",
    "    def dispose(self):\n",
    "        self.file.close()"
   ]
  },
  {
   "cell_type": "code",
   "execution_count": 10,
   "metadata": {
    "collapsed": false
   },
   "outputs": [
    {
     "name": "stdout",
     "output_type": "stream",
     "text": [
      "18.0\n"
     ]
    }
   ],
   "source": [
    "fac = FileAverageCalculator(open('data.txt'))\n",
    "print(fac.average())"
   ]
  },
  {
   "cell_type": "markdown",
   "metadata": {
    "collapsed": false
   },
   "source": [
    "#### Exercise \n",
    "\n",
    "write a new class called `MemoryAverageCalculator`, which must inherit from the `AverageCalculator` class. This new class should be a source of sequential numerical data obtained from a list provided during the construction of the object."
   ]
  },
  {
   "cell_type": "code",
   "execution_count": 11,
   "metadata": {
    "collapsed": false
   },
   "outputs": [
   ],
   "source": [
    "class MemoryAverageCalculator(AverageCalculator):\n",
    "    def __init__(self, items):\n",
    "        self.items = items\n",
    "        self.index = 0\n",
    "\n",
    "    def has_next(self):\n",
    "        return self.index < len(self.items)\n",
    "\n",
    "    def next_item(self):\n",
    "        result = self.items[self.index]\n",
    "        self.index += 1\n",
    "        return result"
   ]
  },
  {
   "cell_type": "code",
   "execution_count": 12,
   "metadata": {
    "collapsed": false
   },
   "outputs": [
    {
     "name": "stdout",
     "output_type": "stream",
     "text": [
      "3.9\n"
     ]
    }
   ],
   "source": [
    "mac = MemoryAverageCalculator((3, 1, 4, 1, 5, 9, 2, 6, 5, 3))\n",
    "print(mac.average())"
   ]
  },
  {
   "cell_type": "markdown",
   "metadata": {
    "collapsed": false
   },
   "source": [
    "#### Adapter Pattern\n",
    "\n",
    "Adapter is a structural design pattern that converts the interface of a class into another interface clients expect. Adapter lets classes work together that couldn’t otherwise because of incompatible interfaces.\n",
    "\n",
    "![Adapter Pattern](https://refactoring.guru/images/patterns/diagrams/adapter/structure-object-adapter.png)"
   ]
  },
  {
   "cell_type": "code",
   "execution_count": 13,
   "metadata": {
    "collapsed": false
   },
   "outputs": [
    {
     "name": "stdout",
     "output_type": "stream",
     "text": [
      "50.555096\n"
     ]
    }
   ],
   "source": [
    "from random import randint\n",
    "\n",
    "class GeneratorAdapter():\n",
    "    def __init__(self, adapter):\n",
    "        self.adapter = adapter\n",
    "\n",
    "    def readline(self):\n",
    "        try:\n",
    "            return next(self.adapter)\n",
    "        except StopIteration:\n",
    "            return ''\n",
    "\n",
    "    def close(self):\n",
    "        ...\n",
    "\n",
    "\n",
    "g = (randint(1, 100) for i in range(1000000))\n",
    "fac = FileAverageCalculator(GeneratorAdapter(g))\n",
    "print(fac.average())"
   ]
  },
  {
   "cell_type": "markdown",
   "metadata": {
    "collapsed": false
   },
   "source": [
    "#### Exercise"
   ]
  },
  {
   "cell_type": "code",
   "execution_count": 14,
   "metadata": {
    "collapsed": false
   },
   "outputs": [
   ],
   "source": [
    "class Duck:\n",
    "    def quack(self):\n",
    "        print('Quack')\n",
    "\n",
    "    def fly(self):\n",
    "        print(\"I'm flying\")\n",
    "\n",
    "\n",
    "class Turkey:\n",
    "    def gobble(self):\n",
    "        print('Gobble gobble')\n",
    "\n",
    "    def fly(self):\n",
    "        print(\"I'm flying a short distance\")\n",
    "\n",
    "\n",
    "class TurkeyAdapter(object):\n",
    "    def __init__(self, adaptee):\n",
    "        self.adaptee = adaptee\n",
    "\n",
    "    def quack(self):\n",
    "        self.adaptee.gobble()\n",
    "\n",
    "    def fly(self):\n",
    "        for _ in range(5):\n",
    "            print(\"I'm flying a short distance\")"
   ]
  },
  {
   "cell_type": "code",
   "execution_count": 15,
   "metadata": {
    "collapsed": false
   },
   "outputs": [
    {
     "name": "stdout",
     "output_type": "stream",
     "text": [
      "The Turkey says...\n",
      "Gobble gobble\n",
      "I'm flying a short distance\n",
      "\n",
      "The Duck says...\n",
      "Quack\n",
      "I'm flying\n",
      "\n",
      "The TurkeyAdapter says...\n",
      "Gobble gobble\n",
      "I'm flying a short distance\n",
      "I'm flying a short distance\n",
      "I'm flying a short distance\n",
      "I'm flying a short distance\n",
      "I'm flying a short distance\n"
     ]
    }
   ],
   "source": [
    "def duck_interaction(duck):\n",
    "    duck.quack()\n",
    "    duck.fly()\n",
    "\n",
    "\n",
    "duck = Duck()\n",
    "turkey = Turkey()\n",
    "turkey_adapter = TurkeyAdapter(turkey)\n",
    "\n",
    "print('The Turkey says...')\n",
    "turkey.gobble()\n",
    "turkey.fly()\n",
    "\n",
    "print('\\nThe Duck says...')\n",
    "duck_interaction(duck)\n",
    "\n",
    "print('\\nThe TurkeyAdapter says...')\n",
    "duck_interaction(turkey_adapter)"
   ]
  },
  {
   "cell_type": "markdown",
   "metadata": {
    "collapsed": false
   },
   "source": [
    "#### Observer Pattern\n",
    "\n",
    "Observer is a behavioral design pattern that defines a one-to-many dependency between objects so that when one object changes state, all its dependents are notified and updated automatically.\n",
    "\n",
    "![Observer](https://refactoring.guru/images/patterns/diagrams/observer/structure.png)"
   ]
  },
  {
   "cell_type": "code",
   "execution_count": 16,
   "metadata": {
    "collapsed": false
   },
   "outputs": [
   ],
   "source": [
    "from abc import ABC, abstractmethod\n",
    "\n",
    "# Subscriber\n",
    "class Observer(ABC):\n",
    "    @abstractmethod\n",
    "    def update(self, observable, *args):\n",
    "        ...\n",
    "\n",
    "# publisher\n",
    "class Observable(object):\n",
    "    def __init__(self):\n",
    "        self.__observers = list()\n",
    "\n",
    "    def add_observer(self, observer):\n",
    "        self.__observers.append(observer)\n",
    "\n",
    "    def delete_observer(self, observer):\n",
    "        self.__observers.remove(observer)\n",
    "\n",
    "    def notify_observer(self, *args):\n",
    "        for observer in self.__observers:\n",
    "            observer.update(self, *args)"
   ]
  },
  {
   "cell_type": "code",
   "execution_count": 17,
   "metadata": {
    "collapsed": false
   },
   "outputs": [
   ],
   "source": [
    "class Employee(Observable):\n",
    "    def __init__(self, name, salary):\n",
    "        super().__init__()\n",
    "        self._name = name\n",
    "        self._salary = salary\n",
    "\n",
    "    @property\n",
    "    def name(self):\n",
    "        return self._name \n",
    "\n",
    "    @property\n",
    "    def salary(self):\n",
    "        return self._salary\n",
    "\n",
    "    @salary.setter\n",
    "    def salary(self, new_salary):\n",
    "        self._salary = new_salary\n",
    "        self.notify_observer(new_salary)"
   ]
  },
  {
   "cell_type": "code",
   "execution_count": 18,
   "metadata": {
    "collapsed": false
   },
   "outputs": [
   ],
   "source": [
    "class Payroll(Observer):\n",
    "    def update(self, employee, salary):\n",
    "        print(f'Cut a new check for {employee.name}! '\n",
    "        f'His/Her salary is now {salary}')\n",
    "\n",
    "\n",
    "class TaxMan(Observer):\n",
    "    def update(self, employee, salary):\n",
    "        print(f'Send {employee.name} a new tax bill! Based on {salary}')"
   ]
  },
  {
   "cell_type": "code",
   "execution_count": 19,
   "metadata": {
    "collapsed": false
   },
   "outputs": [
    {
     "name": "stdout",
     "output_type": "stream",
     "text": [
      "Update 1\n",
      "Send Amy Fowler a new tax bill! Based on 65000\n",
      "Cut a new check for Amy Fowler! His/Her salary is now 65000\n",
      "\n",
      "Update 2\n",
      "Cut a new check for Amy Fowler! His/Her salary is now 680000\n"
     ]
    }
   ],
   "source": [
    "e = Employee('Amy Fowler', 60000)\n",
    "t = TaxMan()\n",
    "p = Payroll()\n",
    "\n",
    "e.add_observer(t)\n",
    "e.add_observer(p)\n",
    "\n",
    "print('Update 1')\n",
    "e.salary = 65000\n",
    "\n",
    "e.delete_observer(t)\n",
    "\n",
    "print('\\nUpdate 2')\n",
    "e.salary = 680000"
   ]
  },
  {
   "cell_type": "markdown",
   "metadata": {
    "collapsed": false
   },
   "source": [
    "#### Exercise\n",
    "\n",
    " write a class called Twitter that inherits from the Observable and Observer classes so that it effectively behaves simultaneously as a publisher and as a subscriber."
   ]
  },
  {
   "cell_type": "code",
   "execution_count": 20,
   "metadata": {
    "collapsed": false
   },
   "outputs": [
   ],
   "source": [
    "class Twitter(Observable, Observer):\n",
    "    def __init__(self, name):\n",
    "        super().__init__()\n",
    "        self.name = name\n",
    "        self.tweets = list()\n",
    "\n",
    "    def follow(self, other):\n",
    "        other.add_observer(self)\n",
    "        return self\n",
    "\n",
    "    def tweet(self, tweet_):\n",
    "        self.tweets.append(tweet_)\n",
    "        self.notify_observer(tweet_)\n",
    "\n",
    "    def update(self, account, new_tweet):\n",
    "        print(f'{self.name} received a tweet from {account.name}: {new_tweet}')"
   ]
  },
  {
   "cell_type": "code",
   "execution_count": 21,
   "metadata": {
    "collapsed": false
   },
   "outputs": [
    {
     "name": "stdout",
     "output_type": "stream",
     "text": [
      "==== Queen tweets ====\n",
      "Alice received a tweet from Queen: Off with their heads!\n",
      "King received a tweet from Queen: Off with their heads!\n",
      "Queen received a tweet from Queen: Off with their heads!\n",
      "Mad Hatter received a tweet from Queen: Off with their heads!\n",
      "\n",
      "==== Alice tweets ====\n",
      "Mad Hatter received a tweet from Alice: What a strange world we live in.\n",
      "\n",
      "==== King tweets ====\n",
      "\n",
      "==== Cheshire Cat tweets ====\n",
      "Alice received a tweet from Cheshire Cat: We're all mad here.\n",
      "Mad Hatter received a tweet from Cheshire Cat: We're all mad here.\n",
      "\n",
      "==== Mad Hatter tweets ====\n",
      "Alice received a tweet from Mad Hatter: Why is a raven like a writing-desk?\n",
      "Queen received a tweet from Mad Hatter: Why is a raven like a writing-desk?\n"
     ]
    }
   ],
   "source": [
    "# Observer pattern\n",
    "a = Twitter('Alice')\n",
    "k = Twitter('King')\n",
    "q = Twitter('Queen')\n",
    "h = Twitter('Mad Hatter')\n",
    "c = Twitter('Cheshire Cat')\n",
    "\n",
    "a.follow(c).follow(h).follow(q) \n",
    "k.follow(q)\n",
    "q.follow(q).follow(h)\n",
    "h.follow(a).follow(q).follow(c)\n",
    "\n",
    "print(f'==== {q.name} tweets ====')\n",
    "q.tweet('Off with their heads!')\n",
    "print(f'\\n==== {a.name} tweets ====')\n",
    "a.tweet('What a strange world we live in.')\n",
    "print(f'\\n==== {k.name} tweets ====')\n",
    "k.tweet('Begin at the beginning, and go on till you come to the end: then stop.')\n",
    "print(f'\\n==== {c.name} tweets ====')\n",
    "c.tweet(\"We're all mad here.\")\n",
    "print(f'\\n==== {h.name} tweets ====')\n",
    "h.tweet('Why is a raven like a writing-desk?')"
   ]
  }
 ],
 "metadata": {
  "kernelspec": {
   "display_name": "Python 3 (system-wide)",
   "language": "python",
   "metadata": {
    "cocalc": {
     "description": "Python 3 programming language",
     "priority": 100,
     "url": "https://www.python.org/"
    }
   },
   "name": "python3",
   "resource_dir": "/ext/jupyter/kernels/python3"
  },
  "language_info": {
   "codemirror_mode": {
    "name": "ipython",
    "version": 3
   },
   "file_extension": ".py",
   "mimetype": "text/x-python",
   "name": "python",
   "nbconvert_exporter": "python",
   "pygments_lexer": "ipython3",
   "version": "3.8.10"
  }
 },
 "nbformat": 4,
 "nbformat_minor": 4
}