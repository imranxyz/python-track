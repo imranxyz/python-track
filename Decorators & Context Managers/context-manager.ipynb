{
 "cells": [
  {
   "cell_type": "markdown",
   "metadata": {},
   "source": [
    "### Context Manager\n",
    "\n",
    "Conf URL - [Context Managers: You Can Write Your Own!](https://www.youtube.com/watch?v=-tpn94V9vK4)\n",
    "\n",
    "Real Python Article - [Context Managers and Python's with Statement\n",
    "](https://realpython.com/python-with-statement/)"
   ]
  },
  {
   "cell_type": "code",
   "execution_count": 54,
   "metadata": {},
   "outputs": [
    {
     "name": "stdout",
     "output_type": "stream",
     "text": [
      "Enter!!\n",
      "55\n",
      "Inside the block\n",
      "Exit!\n"
     ]
    }
   ],
   "source": [
    "# Context manager any class that have __enter__ & __exit__ method\n",
    "\n",
    "class MyContextManager:\n",
    "    def __enter__(self):\n",
    "        print('Enter!!')\n",
    "        return 55\n",
    "    \n",
    "    def __exit__(self, *args):\n",
    "        print('Exit!')\n",
    "\n",
    "with MyContextManager() as context:\n",
    "    print(context) # 55\n",
    "    print('Inside the block')"
   ]
  },
  {
   "cell_type": "code",
   "execution_count": 19,
   "metadata": {},
   "outputs": [
    {
     "name": "stdout",
     "output_type": "stream",
     "text": [
      "Enter\n",
      "<class 'int'>\n",
      "5555\n",
      "Inside the block\n",
      "Exit\n"
     ]
    }
   ],
   "source": [
    "from contextlib import contextmanager\n",
    "\n",
    "@contextmanager\n",
    "def MyContextManger():\n",
    "    print('Enter')\n",
    "    yield 5555\n",
    "    print('Exit')\n",
    "\n",
    "with MyContextManger() as context:\n",
    "    print(type(context))\n",
    "    print(context) # 5555\n",
    "    print('Inside the block')"
   ]
  },
  {
   "cell_type": "code",
   "execution_count": 52,
   "metadata": {},
   "outputs": [
    {
     "name": "stdout",
     "output_type": "stream",
     "text": [
      "Enter: {'dairy': 'Yuck'}\n",
      "None\n",
      "Exit: {'dairy': 'Yuck'}\n"
     ]
    }
   ],
   "source": [
    "class FoodContextManager():\n",
    "\tdef __init__(self, data):\n",
    "\t\tself.data = data\n",
    "\t\n",
    "\tdef __enter__(self):\n",
    "\t\tprint(f\"Enter: {self.data}\")\n",
    "        # return self.data (with ... as (alias) received this data)\n",
    "\t\n",
    "\tdef __exit__(self, *args):\n",
    "\t\tprint(f\"Exit: {self.data}\")\n",
    "\n",
    "with FoodContextManager({'dairy': 'Yuck'}) as data:\n",
    "\tprint(data) "
   ]
  },
  {
   "cell_type": "code",
   "execution_count": 56,
   "metadata": {},
   "outputs": [
    {
     "name": "stdout",
     "output_type": "stream",
     "text": [
      "Enter {'dairy': 'Yuck'}\n",
      "{'dairy': 'Yuck'}\n",
      "Exit {'dairy': 'Yuck', 'milk': 'delicious'}\n"
     ]
    }
   ],
   "source": [
    "from contextlib import contextmanager\n",
    "\n",
    "@contextmanager\n",
    "def FoodContextManager(data):\n",
    "\tprint(f'Enter {data}')\n",
    "\tyield data\n",
    "\tprint(f'Exit {data}')\n",
    "\n",
    "with FoodContextManager({'dairy': 'Yuck'}) as data:\n",
    "    print(data)\n",
    "    data['milk'] = 'delicious'\n",
    "    "
   ]
  },
  {
   "cell_type": "code",
   "execution_count": 57,
   "metadata": {},
   "outputs": [
    {
     "ename": "FileNotFoundError",
     "evalue": "[Errno 2] No such file or directory: 'myfile.txt'",
     "output_type": "error",
     "traceback": [
      "\u001b[1;31m---------------------------------------------------------------------------\u001b[0m",
      "\u001b[1;31mFileNotFoundError\u001b[0m                         Traceback (most recent call last)",
      "\u001b[1;32m~\\AppData\\Local\\Temp/ipykernel_5776/2201157993.py\u001b[0m in \u001b[0;36m<module>\u001b[1;34m\u001b[0m\n\u001b[0;32m      1\u001b[0m \u001b[1;31m# Scope - variables defined inside it still exist!\u001b[0m\u001b[1;33m\u001b[0m\u001b[1;33m\u001b[0m\u001b[1;33m\u001b[0m\u001b[0m\n\u001b[1;32m----> 2\u001b[1;33m \u001b[1;32mwith\u001b[0m \u001b[0mopen\u001b[0m\u001b[1;33m(\u001b[0m\u001b[1;34m'myfile.txt'\u001b[0m\u001b[1;33m)\u001b[0m \u001b[1;32mas\u001b[0m \u001b[0mf\u001b[0m\u001b[1;33m:\u001b[0m\u001b[1;33m\u001b[0m\u001b[1;33m\u001b[0m\u001b[0m\n\u001b[0m\u001b[0;32m      3\u001b[0m     \u001b[0mcontent\u001b[0m \u001b[1;33m=\u001b[0m \u001b[0mf\u001b[0m\u001b[1;33m.\u001b[0m\u001b[0mread\u001b[0m\u001b[1;33m(\u001b[0m\u001b[1;33m)\u001b[0m\u001b[1;33m\u001b[0m\u001b[1;33m\u001b[0m\u001b[0m\n\u001b[0;32m      4\u001b[0m \u001b[1;33m\u001b[0m\u001b[0m\n\u001b[0;32m      5\u001b[0m \u001b[0mprint\u001b[0m\u001b[1;33m(\u001b[0m\u001b[0mcontent\u001b[0m\u001b[1;33m)\u001b[0m\u001b[1;33m\u001b[0m\u001b[1;33m\u001b[0m\u001b[0m\n",
      "\u001b[1;31mFileNotFoundError\u001b[0m: [Errno 2] No such file or directory: 'myfile.txt'"
     ]
    }
   ],
   "source": [
    "# Scope - variables defined inside it still exist!\n",
    "with open('myfile.txt') as f:\n",
    "    content = f.read()\n",
    "\n",
    "print(content)"
   ]
  },
  {
   "cell_type": "markdown",
   "metadata": {},
   "source": [
    "Exception handling in `__exit__` method\n",
    "- wanna igonre exception?\n",
    "    - return true\n",
    "- wanna raise exception?\n",
    "    - return false\n",
    "- don't explicitly re-raise exception"
   ]
  },
  {
   "cell_type": "code",
   "execution_count": 58,
   "metadata": {},
   "outputs": [
    {
     "name": "stdout",
     "output_type": "stream",
     "text": [
      "Before\n",
      "division by zero\n",
      "After\n"
     ]
    }
   ],
   "source": [
    "# exception handling in __exit__ method\n",
    "\n",
    "from contextlib import contextmanager\n",
    "\n",
    "@contextmanager\n",
    "def myManager():\n",
    "    print('Before')\n",
    "    try:\n",
    "        yield\n",
    "    except ZeroDivisionError as e:\n",
    "        print(e)\n",
    "    finally:\n",
    "        print('After')\n",
    "\n",
    "with myManager() as m:\n",
    "    print(1 / 0)"
   ]
  }
 ],
 "metadata": {
  "kernelspec": {
   "display_name": "Python 3.8.4 32-bit",
   "metadata": {
    "interpreter": {
     "hash": "c7f23210fe948138299b44c825f8d614c2df95c372787f4166c017b0c02863dd"
    }
   },
   "name": "python3"
  },
  "language_info": {
   "codemirror_mode": {
    "name": "ipython",
    "version": 3
   },
   "file_extension": ".py",
   "mimetype": "text/x-python",
   "name": "python",
   "nbconvert_exporter": "python",
   "pygments_lexer": "ipython3",
   "version": "3.8.4-final"
  },
  "orig_nbformat": 2
 },
 "nbformat": 4,
 "nbformat_minor": 2
}
